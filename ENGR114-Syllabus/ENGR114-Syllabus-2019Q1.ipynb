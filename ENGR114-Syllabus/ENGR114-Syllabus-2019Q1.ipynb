{
 "cells": [
  {
   "cell_type": "markdown",
   "metadata": {},
   "source": [
    "# ENGR114 Syllabus - Winter 2019"
   ]
  },
  {
   "cell_type": "markdown",
   "metadata": {},
   "source": [
    "## Instructor Information\n",
    "\n",
    " * Instructor: \n",
    " * Instructor email: \n",
    " * Instructor phone: (email is the best way to get in touch)\n",
    " * Office Hours:\n",
    " * Office Location: SY ST200"
   ]
  },
  {
   "cell_type": "markdown",
   "metadata": {},
   "source": [
    "## Course Information\n",
    "\n",
    "### Course Description\n",
    "\n",
    " * credits:\n",
    " * Prerequisites:\n",
    " \n",
    "### Course Meeting Times\n",
    "\n",
    " * Lecture:\n",
    " * Lab:\n",
    " \n",
    "## Course Materials\n",
    "\n",
    "### Textbook\n",
    "\n",
    "_Problem Solving with Python_ by Peter D. Kazarinoff. Available on LeanPub.com and online at [problemsolvingwithpython.com](https://problemsovlingwithpython.com)\n",
    "\n",
    "### Other course materials\n",
    "\n",
    "You need access the course programming environment, available at [https://engr114.org](https://engr114.org]). An @pcc.edu email address and password is needed to login.\n",
    "\n",
    "All PCC Computer Labs have Internet access. You need to be signed into your myPCC email account before you log in to the course programming environment. The course programming environment will work on all student laptops, desktops, and chromebooks. But remember, you need an Internet connection to use it."
   ]
  },
  {
   "cell_type": "markdown",
   "metadata": {},
   "source": [
    "## Course Components"
   ]
  },
  {
   "cell_type": "markdown",
   "metadata": {},
   "source": [
    "### Homework\n",
    "\n",
    "Homework is intended as a means of practicing the concepts presented in class.  Timely submission of homework via Desire2Learn (D2L) is required.  **No late homework is accepted in this course**  The D2L upload folder will close to submissions after the assignment deadline. With this in mind, your **lowest homework score will be dropped**. All homework assignments are weighted equally. Check D2L for assignments, homework format and submission deadlines."
   ]
  },
  {
   "cell_type": "markdown",
   "metadata": {},
   "source": [
    "### Exams\n",
    "\n",
    "It is the student's responsibility to notify the instructor **at least 3 days prior to the date of an exam** if the student is unable to take the exam when it is scheduled.  Make-up exams, if allowed, will be scheduled by the instructor after consulting with the student **prior** to the original date of the exam. I look forward to working with any students that have testing accommodations. It is the student's responsibility to set up a meeting **at least 1 week prior to the exam date** to review exam protocol as the testing center does not have laptops with the course programming environment installed.\n",
    "\n",
    "#### During Exams:\n",
    "\n",
    " * Exams will be taken during lecture or lab time in the classroom.\n",
    " * Exams will have two parts, a written portion and a computer portion\n",
    "   * During the written portion you can not use Python and computer monitors must be off\n",
    "   * During the computer portion you must use Python on the computers in the classroom. No student laptops allowed on exams.\n",
    " * Generally, a calculator and one page of notes are allowed on the exams.\n",
    " * You must complete the Exam during the exam period. Uploads after the deadline will not receive credit."
   ]
  },
  {
   "cell_type": "markdown",
   "metadata": {},
   "source": [
    "### Labs\n",
    "\n",
    "Typically, lecture will be held early in the week and lab held later in the week.  This is subject to change.  Lab assignments are typically due at the end of the lab period, uploaded to D2L. **No late labs will be accepted**.  **You must be present in lab to receive credit for the lab assignment**. Your **lowest lab score will be dropped**. Lab assignments and grading are subject to change throughout the quarter."
   ]
  },
  {
   "cell_type": "markdown",
   "metadata": {},
   "source": [
    "### In-class assignments\n",
    "\n",
    "Most lecture days will include an in-class assignment that needs to be uploaded to D2L by the end of the class period. See D2L for specific in-class assignment details. **No late in-class assignments will be accepted**.  **You must be present in lecture to receive credit for the in-class assignment**. Your **lowest in-class assignment score will be dropped**. In-class assignments and grading are subject to change throughout the quarter."
   ]
  },
  {
   "cell_type": "markdown",
   "metadata": {},
   "source": [
    "### Project\n",
    "\n",
    "You will complete a group project over the course of the quarter. This project is a group assignment. Project delivery will be at the end of the quarter. Students must be present when their project is delivered to receive credit. During the quarter there will be occasional project assignments to complete. See D2L for the project description and grading details. **No late projects will be accepted**."
   ]
  },
  {
   "cell_type": "markdown",
   "metadata": {},
   "source": [
    "## Grading\n",
    "\n",
    " * Homework: 15%\n",
    " * Exams: 20%\n",
    " * Labs: 25%\n",
    " * In-class: 5%\n",
    " * Project: 15%\n",
    " \n",
    "Grades will be rounded to the nearest two significant figures (nearest whole percentage point) and converted to letter grades according to the following. 84.4999999% will round to an 84%, 84.5000% will round to 85%.\n",
    "\n",
    "100-90 = A\n",
    "\n",
    "80 - 89 = B\n",
    "\n",
    "70 - 79 = C\n",
    "\n",
    "65 - 69 = D\n",
    "\n",
    "0 - 64 = F"
   ]
  },
  {
   "cell_type": "markdown",
   "metadata": {},
   "source": [
    "## Class rules and resources\n",
    "\n",
    "### Class Rules\n",
    "\n",
    "Be respectful and courteous to others.  Failure to do so may result in the lowering of the course grade.  Cheating will not be tolerated, and may result in failure of the entire course.\n",
    "\n",
    "### Attendance, Make-Up, and Other Class Policies\n",
    "\n",
    "Attendance at all labs and lectures is required.  Attendance may be used in the grading process.  Tardy students may be denied entry to class or docked in credit for in-class assignments.  Poor attendance or repeated tardiness will have a negative effect on a student's grade for the course.\n",
    "\n",
    "Students should check their PCC email at least three times a week to ensure receipt of announcements and important information about the class.\n",
    "\n",
    "Students may only attend this course if registered.  Students who are unable to attend must drop the course online or through the Registration Office.  To have tuition charges removed, the course must be dropped by the student before the drop deadline posted on MyPCC.  Students who never attend, or stop attending, without dropping may receive a W or a failing grade and will be required to pay for the course.\n",
    "\n",
    "The instructor reserves the right to modify course content and/or substitute assignments and learning activities in response to institutional, weather or class situations.  To find out if the college is closed due to bad weather please check the \\href{http://www.pcc.edu/}{PCC website}, call the PCC switchboard at 503-244-6111, check the local radio and TV stations, or subscribe to \\href{https://www.pcc.edu/about/announcements/closure-information.html}{FlashAlerts}."
   ]
  },
  {
   "cell_type": "markdown",
   "metadata": {},
   "source": [
    "### Additional Content Areas, Links, and Other Information\n",
    "(Note: See electronic copy for clickable links to these resources.)\n",
    "\n",
    " * [Think Python](http://greenteapress.com/think-python) is a free textbook in PDF form, or is available for purchase in print form from Amazon.\n",
    "    \n",
    "\n",
    "* [PCC Grading Guidelines](http://www.pcc.edu/resources/academic/standards-practices/AcademicStandardsandPractices-GradingGuidelines.html)\n",
    " * [Add/drop/withdraw deadlines for the term](http://www.pcc.edu/registration/dropping.html)\n",
    " \n",
    "* [PCC Academic Calendar](http://www.pcc.edu/registration/academic-calendar.html)\n",
    "* [PCC Nondiscrimination Statement](https://www.pcc.edu/about/equity-inclusion/eeo-statement.html)\n",
    "\n",
    "#### Student services: \n",
    "\\href{https://www.pcc.edu/resources/veterans/}{Veteran Resources}, \n",
    "\n",
    "\\href{http://www.pcc.edu/resources/tutoring/sylvania/student-success/}{Sylvania Student Learning Center}, \n",
    "\n",
    "\\href{https://www.pcc.edu/resources/women/sylvania/}{Sylvania Women's Resource Center},  * * \n",
    "\n",
    "{https://www.pcc.edu/resources/qrc/sylvania/}{Queer Resources and Programming at Sylvania}\n",
    "\n",
    "\\href{http://www.pcc.edu/about/policy/student-rights/}{Student Rights and Responsibilities}, Includes information on Children on PCC Properties, Academic Integrity Policy, Policy on Student Conduct\n",
    "     \n",
    " * Use of cell phones and other personal electronic devices, unless otherwise stated, is not allowed during classes, labs, or exams.\n",
    " * The unauthorized recording (audio, video, or still pictures) of course sessions and distribution of said recordings is not permitted.\n",
    " * The instructor reserves the right to modify course content and/or substitute assignments and learning activities in response to institutional, weather, or class situations.\n",
    "\n",
    "\\end{itemize}"
   ]
  },
  {
   "cell_type": "markdown",
   "metadata": {},
   "source": [
    "### Students with disabilities\n",
    "\n",
    "Students who have a documented disability and require accommodation should contact [Disabilities Services](http://www.pcc.edu/resources/disability) and provide the Approved Academic Accommodations letter to the Instructor."
   ]
  },
  {
   "cell_type": "markdown",
   "metadata": {},
   "source": [
    "### Title IV\n",
    "\n",
    "Portland Community College is committed to creating and fostering a learning and working environment based on open communication and mutual respect. If you believe you have encountered sexual harassment, sexual misconduct, sexual assault, or discrimination based on race, color, religion, age, national origin, veteran status, sex, sexual orientation, gender identity, or disability please contact the Office of Equity and Inclusion at (971) 722-5840 or equity.inclusion@pcc.edu."
   ]
  },
  {
   "cell_type": "markdown",
   "metadata": {},
   "source": [
    "### Academic Integrity\n",
    "\n",
    "Students are required to complete this course in accordance with the PCC Student Rights and Responsibilities Handbook.  Dishonest activities such as cheating on exams and submitting or copying work done by others will result in disciplinary actions including, but not limited to, receiving a failing grade in the course."
   ]
  },
  {
   "cell_type": "markdown",
   "metadata": {},
   "source": [
    "## Tentative Course Schedule\n",
    "\n",
    "The course schedule below is subject to change. Check D2L for specific course deadlines.\n",
    "\n",
    "| Week | Lecture | Lab |\n",
    "| --- | --- | --- |\n",
    "| Week 1 | The Python REPL | Lab 1: Calculations |\n",
    "| Week 2 | Data types and variables | Lab 2: Data Types |\n",
    "| Week 3 | Data structures, input and print | Lab 3: User Input |\n",
    "| Week 4 | Plotting | Lab 4: Plotting |\n",
    "| Week 5 | Functions | Lab 5: Web API's |\n",
    "| Week 6 | Review | **Exam 1** |\n",
    "| Week 7 | If, elif, else | Lab 6: Sound filters |\n",
    "| Week 8 | Loops | Lab 7: Taylor Series |\n",
    "| Week 9 | MicroPython | Lab 7: MicroPython |\n",
    "| Week 9 | External Hardware | Lab 7: External Hardware |\n",
    "| Week 10 | Review | **Exam 2** |\n",
    "| Finals Week | Project Delivery | |"
   ]
  },
  {
   "cell_type": "code",
   "execution_count": null,
   "metadata": {},
   "outputs": [],
   "source": []
  }
 ],
 "metadata": {
  "kernelspec": {
   "display_name": "Python 3",
   "language": "python",
   "name": "python3"
  },
  "language_info": {
   "codemirror_mode": {
    "name": "ipython",
    "version": 3
   },
   "file_extension": ".py",
   "mimetype": "text/x-python",
   "name": "python",
   "nbconvert_exporter": "python",
   "pygments_lexer": "ipython3",
   "version": "3.6.5"
  }
 },
 "nbformat": 4,
 "nbformat_minor": 2
}
