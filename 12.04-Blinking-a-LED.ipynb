{
 "cells": [
  {
   "cell_type": "markdown",
   "metadata": {},
   "source": [
    "## Blinking a LED"
   ]
  },
  {
   "cell_type": "markdown",
   "metadata": {},
   "source": [
    "In this section, you will learn how to blink the built-in LED on to an Adafruit Feather Huzzah ESP8266 microcontroller using the MicroPython REPL.\n",
    "\n",
    "Before the LED on the Adafruit Feather Huzzah ESP8266 can be blinked, MicroPython needs to be installed on the Feather Huzzah board and PuTTY needs to be installed (if using Windows 10) to facilitate communication between the Feather Huzzah board and the computer. Alternatively, the MacOS or Linux terminal and **screen** can be used for serial communication."
   ]
  },
  {
   "cell_type": "markdown",
   "metadata": {
    "collapsed": true
   },
   "source": [
    "The Feather Huzzah as a built-in red LED mounted on the board close to the USB cable input. MicroPython can be used to blink this LED on and off."
   ]
  },
  {
   "cell_type": "markdown",
   "metadata": {},
   "source": [
    "### Connect the Adafruit Feather Huzzah to the computer with a USB cable and bring up the MicroPython REPL using PuTTY."
   ]
  },
  {
   "cell_type": "markdown",
   "metadata": {},
   "source": [
    "Connect the Adafruit Feather Huzzah ESP8266 to the computer with a microUSB cable. Ensure this is a USB data cable, not just a charging cable. Open Putty and connect to the Feather Huzzah using the proper serial port (COM#) and 115200 baud. (Remember to use the **Serial** radio button under **Connection Type:**)\n",
    "\n",
    "![PuTTY in the Windows 10 Start Menu](images/putty_in_start_menu.png)\n",
    "\n",
    "![PuTTY Configuration](images/putty_config.PNG)\n",
    "\n",
    "This will bring up the MicroPython REPL prompt ```>>>```. If you can't see the ```>>>``` prompt, try typing [Enter] or Ctrl-D or push the RESET button on the Feather Huzzah. If none of these methods work, try closing Putty and unplugging then replugging in the USB cable."
   ]
  },
  {
   "cell_type": "markdown",
   "metadata": {},
   "source": [
    "### Run code at the MicroPython REPL to turn the LED on and off"
   ]
  },
  {
   "cell_type": "markdown",
   "metadata": {},
   "source": [
    "In the PuTTY serial window, test to see if the MicroPython REPL is functioning with a basic _Hello World_ program.\n",
    "\n",
    "```text\n",
    ">>> print(\"Hello World\")\n",
    "Hello World\n",
    "```\n",
    "\n",
    "Next, we will blink the Feather Huzzah's built-in LED. The Feather Huzzah has a built-in LED connected to Pin 0. If we control the current going to Pin 0, we control the built-in LED. To control a Pin using MicroPython, first the **machine** module needs to be imported. Next a ```Pin``` object needs to be created. The integer passed into ```machine.Pin()``` determines the pin number assigned to the ```Pin``` object.\n",
    "\n",
    "```text\n",
    ">>> import machine\n",
    ">>> pin = machine.Pin(0)\n",
    "```\n",
    "\n",
    "The value (on or off) of Pin 0 can be returned using\n",
    "\n",
    "```text\n",
    ">>> pin.value\n",
    "1\n",
    "```\n",
    "\n",
    "To assign a value to Pin 0, the ```Pin``` object must be created as an _output_ pin. An output pin is a pin where a program or user determines the pin output. An input pin is a pin set up to read input, like the input from a sensor. In this case we want to assign Pin 0 as an output pin.\n",
    "\n",
    "```text\n",
    ">>> pin = machine.Pin(0, machine.Pin.OUT)\n",
    "\n",
    "# turn the LED on\n",
    ">>> pin.value(0)\n",
    "\n",
    "# turn the LED off\n",
    ">>> pin.value(1)\n",
    "```\n",
    "\n"
   ]
  },
  {
   "cell_type": "markdown",
   "metadata": {},
   "source": [
    "### Run code at the MicroPython REPL to blink the LED"
   ]
  },
  {
   "cell_type": "markdown",
   "metadata": {},
   "source": [
    "Now we can write a for loop at the MicroPython REPL to blink the LED on and off. In order to do this, we need to import the **machine** module and the **time** module."
   ]
  },
  {
   "cell_type": "markdown",
   "metadata": {},
   "source": [
    "```text\n",
    ">>> import machine\n",
    ">>> import time\n",
    ">>> pin = machine.Pin(0, machine.Pin.OUT)\n",
    ">>> for i in range(10):\n",
    "...     pin.value(1)\n",
    "...     time.sleep(0.5)\n",
    "...     pin.value(0)\n",
    "...     time.sleep(0.5)\n",
    "# backspace to exit loop indent and execute the loop.\n",
    ".... \n",
    "```"
   ]
  },
  {
   "cell_type": "code",
   "execution_count": null,
   "metadata": {},
   "outputs": [],
   "source": []
  }
 ],
 "metadata": {
  "kernelspec": {
   "display_name": "Python 3",
   "language": "python",
   "name": "python3"
  },
  "language_info": {
   "codemirror_mode": {
    "name": "ipython",
    "version": 3
   },
   "file_extension": ".py",
   "mimetype": "text/x-python",
   "name": "python",
   "nbconvert_exporter": "python",
   "pygments_lexer": "ipython3",
   "version": "3.6.4"
  }
 },
 "nbformat": 4,
 "nbformat_minor": 2
}
