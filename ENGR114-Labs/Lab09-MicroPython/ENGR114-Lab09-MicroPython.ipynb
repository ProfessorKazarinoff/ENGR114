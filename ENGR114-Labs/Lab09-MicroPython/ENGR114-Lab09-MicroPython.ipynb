{
 "cells": [
  {
   "cell_type": "markdown",
   "metadata": {},
   "source": [
    "# Lab 09 - MicroPython"
   ]
  },
  {
   "cell_type": "markdown",
   "metadata": {},
   "source": [
    "[MicroPython](http://micropython.org/) is a port, or version of Python designed to run on small, inexpensive, low-power microcontrollers. Traditionally, Python is run on a desktop or laptop computer (also on cloud servers). Compared to a desktop or laptop, microcontrollers are much smaller, cheaper and less powerful.  A \"regular\" version of Python can't run on small, cheap microcontrollers because Python is too resource intensive. Regular Python takes up too much hard disk space, runs on too much RAM and requires a more powerful processor than microcontrollers have. \n",
    "\n",
    "To get MicroPython to run at all on these small microcontroller boards, MicroPython only contains a subset of all the standard library modules included with \"regular\" Python. Some of the libraries that are included with MicroPython don't have the full set of functions and classes that come with the full version of Python. This limited functionality allows MicroPython to be compact (around 600 kB for the ESP8266 port) and only use a small amount of RAM (down to 16k according to the [Micropython main page](https://micropython.org/).)"
   ]
  },
  {
   "cell_type": "markdown",
   "metadata": {},
   "source": [
    "## Prelab\n",
    "\n",
    "Before you start the lab, try using the MicroPython online with a broswer-based [MicroPython online emulator](https://micropython.org/unicorn/). The emulator allows you to run commands at a MicroPython Prompt and see the result on a virtual pyboard.\n",
    "\n",
    "Also browse through the [MicroPython Docs](https://docs.micropython.org/en/latest/) and in particular the [ESP8266](https://docs.micropython.org/en/latest/esp8266/quickref.html) section. You will use an ESP8266 microcontroller in this lab."
   ]
  },
  {
   "cell_type": "markdown",
   "metadata": {},
   "source": [
    "## Lab"
   ]
  },
  {
   "cell_type": "markdown",
   "metadata": {},
   "source": [
    "### Installation\n",
    "\n",
    "MicroPython should already be installed on your ESP8266 Microcontroller when you start the lab. If you are unable to run any commands at the MicroPython REPL, this might mean that MicroPython has not been pre-installed. Check with your instructor to determine if MicorPython installation is the issue. If you do need to install MicroPython on your ESP8266, refer to this resource: [Installing Micropython on an Adafruit Feather Huzzah ESP8266](https://pythonforundergradengineers.com/micropython-install.html)"
   ]
  },
  {
   "cell_type": "markdown",
   "metadata": {},
   "source": [
    "### Connect the ESP8266 microcontroller to your computer"
   ]
  },
  {
   "cell_type": "markdown",
   "metadata": {},
   "source": [
    "Use a microUSB cable to connect the microcontroller to the computer. Make sure that the microUSB cable is a full USB data cable and not just a simple power cable. Cables that are just used to charge phones may only be power cables and may not be capable of transmitting data. The cable you are provided with in lab is a microUSB data cable and should work."
   ]
  },
  {
   "cell_type": "markdown",
   "metadata": {},
   "source": [
    "### Determine which serial port the ESP8266 microcontroller is connected to"
   ]
  },
  {
   "cell_type": "markdown",
   "metadata": {},
   "source": [
    "Use Windows Device Manager to determine which serial port the Feather Huzzah is connected to. O Windows 10, the microcontroller usually comes up as ```COM4```. You can find the serial port by looking in the Ports (COM & LPT) category of the Windows Device Manager. Look for something like **Silicon Labs CP210x USB to UART Bridge (COM4)** in the **Ports (COM & LPT)** menu. It is the **COM#** that you are looking for.\n",
    "\n",
    "![Find the Windows 10 Device Manager](images/find_device_manager.png)\n",
    "\n",
    "![Device Manager Menu on Windows 10](images/device_manager_menu.png)"
   ]
  },
  {
   "cell_type": "markdown",
   "metadata": {},
   "source": [
    "### Use PuTYY to connect to the ESP8266 microcontroller"
   ]
  },
  {
   "cell_type": "markdown",
   "metadata": {},
   "source": [
    "Ensure the Feather Huzzah board is connected with a USB cable, then connect to it with PuTTY using the proper serial port (COM#) and 115200 baud. Remember to use the **Serial** radio button under **Connection Type:** to select serial communication or you will be trying to communicate with the Feather Huzzah over SSH which won't work. \n",
    "\n",
    "![PuTTY in Windows 10 start menu](images/putty_in_start_menu.png)\n",
    "\n",
    "![PuTTY configuration](images/putty_config.PNG)\n",
    "\n",
    "This should bring up the MicroPython REPL prompt ```>>>```. If you can't see the ```>>>``` prompt, try typing [Enter], Ctrl-D, pushing the RESET button on the ESP8266 microcontroller or unplugging then replugging the USB cable.\n",
    "\n",
    "![MicroPython REPL prompt](images/REPL_prompt.PNG)"
   ]
  },
  {
   "cell_type": "markdown",
   "metadata": {},
   "source": [
    "### Run commands at the prompt to turn the built-in LED on the Adafruit Feather Huzzah ESP8266 on and off"
   ]
  },
  {
   "cell_type": "markdown",
   "metadata": {},
   "source": [
    "At the MicroPython REPL (the MicroPython command prompt ```>>>```) try the following commands:\n",
    "\n",
    "```text\n",
    ">>> print('MicroPython for Engineers!')\n",
    "MicroPython for Engineers\n",
    "```\n",
    "\n",
    "If we import the ```sys``` module, we can see the MicroPython implementation and platform. \n",
    "\n",
    "```text\n",
    ">>> import sys\n",
    ">>> sys.implementation\n",
    "(name='micropython', version=(1, 9, 3))\n",
    ">>> sys.platform\n",
    "'esp8266'\n",
    "```\n",
    "\n",
    "![Results of running sys commands at the MicroPython REPL prompt](images/sys_dot_implementation_and_platform.PNG)\n",
    "\n",
    "If you see similar output, that means MicroPython is working on the ESP8266 Microcontroller. We can also view the flash memory size of our microcontroller and the size of the MicroPython firmware we installed. Try this at the MicroPython prompt:\n",
    "\n",
    "```text\n",
    ">>> import port_diag\n",
    "```\n",
    "\n",
    "![Results of running import port_diag at the MicroPython REPL prompt](images/import_port_diag.PNG)\n",
    "\n",
    "We can see the flash memory size is 4 MB. Below the label ```Firmware checksum:``` we can see a line for ```size: 600872```. This means the size of our Micropythpon installation is about 600 KB or 0.6 MB. Just over half a megabyte and we are running a working version of Python!\n"
   ]
  },
  {
   "cell_type": "markdown",
   "metadata": {},
   "source": [
    "## Blinking a LED"
   ]
  },
  {
   "cell_type": "markdown",
   "metadata": {},
   "source": [
    "The ESP8266 microcontroller as a built-in red LED mounted on the board close to the USB cable input. MicroPython can be used to blink this LED on and off."
   ]
  },
  {
   "cell_type": "markdown",
   "metadata": {},
   "source": [
    "In the PuTTY serial window, test to see if the MicroPython REPL is still functioning with a basic _Hello World_ program.\n",
    "\n",
    "```text\n",
    ">>> print(\"Hello World\")\n",
    "Hello World\n",
    "```\n",
    "\n",
    "Next, we will blink the ESP8266 micrcontroller's built-in LED. The microcontroller has a built-in LED connected to Pin 0. If we control the current going to Pin 0, we control the built-in LED. To control a Pin using MicroPython, first import the **machine** module. Next a ```Pin``` object needs to be created. The integer passed into ```machine.Pin()``` determines the pin number assigned to the ```Pin``` object.\n",
    "\n",
    "```text\n",
    ">>> import machine\n",
    ">>> pin = machine.Pin(0)\n",
    "```\n",
    "\n",
    "The value (on or off) of Pin 0 can be returned using\n",
    "\n",
    "```text\n",
    ">>> pin.value\n",
    "1\n",
    "```\n",
    "\n",
    "To assign a value to Pin 0, the ```Pin``` object must be created as an _output_ pin. An output pin is a pin where a program or user determines the pin output. An input pin is a pin set up to read input, like the input from a sensor. In this case we want to assign Pin 0 as an output pin.\n",
    "\n",
    "```text\n",
    ">>> pin = machine.Pin(0, machine.Pin.OUT)\n",
    "\n",
    "# turn the LED on\n",
    ">>> pin.value(0)\n",
    "\n",
    "# turn the LED off\n",
    ">>> pin.value(1)\n",
    "```\n"
   ]
  },
  {
   "cell_type": "markdown",
   "metadata": {},
   "source": [
    "### Run code at the MicroPython REPL to blink the LED"
   ]
  },
  {
   "cell_type": "markdown",
   "metadata": {},
   "source": [
    "Now we can write a for loop at the MicroPython REPL to blink the LED on and off. In order to do this, we need to import the **machine** module and the **time** module."
   ]
  },
  {
   "cell_type": "markdown",
   "metadata": {},
   "source": [
    "```text\n",
    ">>> import machine\n",
    ">>> import time\n",
    ">>> pin = machine.Pin(0, machine.Pin.OUT)\n",
    ">>> for i in range(10):\n",
    "...     pin.value(1)\n",
    "...     time.sleep(0.5)\n",
    "...     pin.value(0)\n",
    "...     time.sleep(0.5)\n",
    "# backspace to exit loop indent and execute the loop.\n",
    ".... \n",
    "```"
   ]
  },
  {
   "cell_type": "markdown",
   "metadata": {},
   "source": [
    "## Reading a potentiometer"
   ]
  },
  {
   "cell_type": "markdown",
   "metadata": {},
   "source": [
    "In this section, you will learn how to connect a light sensor to the ESP8266 Microcontroller and use the MicroPython REPL to record the light level."
   ]
  },
  {
   "cell_type": "markdown",
   "metadata": {},
   "source": [
    "### Connect the light sensor to the ESP8266 Microcontroller\n",
    "\n",
    "Connect the light sensor through a resistor to the ESP8266 Microcontroller\n",
    "\n",
    "[fritzing diagram]"
   ]
  },
  {
   "cell_type": "markdown",
   "metadata": {},
   "source": [
    "### Run code at the MicroPython REPL to measure the light level"
   ]
  },
  {
   "cell_type": "markdown",
   "metadata": {},
   "source": [
    "In the PuTTY serial window, import the ```machine``` module and then create an instance of the ```machine.I2C``` class with the ```scl``` and ```sda``` parameters set as ```scl=machine.Pin(5)``` and ```sda=machine.Pin(4)```.  Then create an empty ```bytearray``` which will store the data coming in from the MCP9808 temperature sensor. As strings in Micropython are UTF-8 encoded by default (like in Python 3), a _bytearray_ needs to be used to read the raw output from the MCP9808 chip registers. The command ```i2c.readfrom_mem_into()``` method brings in the data from the sensor and saves it to the ```byte_data``` variable. The arguments inside the ```i2c.readfrom_mem_into()``` method ```24``` and ```5``` correspond to the I2C memory address and registry address of the temperature data stored in the MCP9808 temperature sensor.   \n",
    "\n",
    "```text\n",
    ">>> import machine\n",
    ">>> import time\n",
    ">>> pin = machine.Pin(0, machine.Pin.IN)\n",
    ">>> for i in range(10):\n",
    "...     print(pin.value())\n",
    "...     time.sleep(0.5)\n",
    "# backspace to exit loop indent and execute the loop.\n",
    ".... \n",
    "\n",
    "```"
   ]
  },
  {
   "cell_type": "markdown",
   "metadata": {},
   "source": [
    "## Deliverables"
   ]
  },
  {
   "cell_type": "markdown",
   "metadata": {},
   "source": [
    "#### _By P. Kazarinoff, Portland Community College, 2018_"
   ]
  }
 ],
 "metadata": {
  "kernelspec": {
   "display_name": "Python 3",
   "language": "python",
   "name": "python3"
  },
  "language_info": {
   "codemirror_mode": {
    "name": "ipython",
    "version": 3
   },
   "file_extension": ".py",
   "mimetype": "text/x-python",
   "name": "python",
   "nbconvert_exporter": "python",
   "pygments_lexer": "ipython3",
   "version": "3.6.4"
  }
 },
 "nbformat": 4,
 "nbformat_minor": 2
}
