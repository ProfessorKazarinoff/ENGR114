{
 "cells": [
  {
   "cell_type": "markdown",
   "metadata": {},
   "source": [
    "# ENGR114 - Lab 07 - Taylor Series\n",
    "\n",
    "In this lab, you will create a Python function that calculates the _Taylor Series_ of two mathematical functions. A Taylor Series is an infinite series of mathematical terms that when summed together approximate a mathematical function. A Taylor Series can be used to approximate $e^x$, $sine$, and $cosine$. \n",
    "\n",
    "An example of a Taylor Series is below:\n",
    "\n",
    " \n",
    "$$  \\cos \\left( x \\right) = \\sum\\limits_{n = 0}^\\infty  {{{\\left( { - 1} \\right)}^n}\\frac{{{x^{2n}}}}{{\\left( {2n} \\right)!}}}  = 1 - \\frac{{{x^2}}}{{2!}} + \\frac{{{x^4}}}{{4!}} - \\frac{{{x^6}}}{{6!}} + \\frac{{{x^8}}}{{8!}} - \\frac{{{x^{10}}}}{{10!}} + \\ ... $$ \n"
   ]
  },
  {
   "cell_type": "markdown",
   "metadata": {},
   "source": [
    "## Pre-Lab\n",
    "\n",
    "Before starting this lab, read through this entire document. Create a pseudocode flowchart of what your program will do using the standard flow chart symbols: oval, rectangle, diamond and parallelogram."
   ]
  },
  {
   "cell_type": "markdown",
   "metadata": {},
   "source": [
    "## Lab\n",
    "\n",
    "Create a new Python script called **taylor_series.py** which will contain a user-defined function called ```taylor()```. The ```taylor()``` function will have the function name, inputs, outputs and doc string information as shown.\n",
    "\n",
    "```\n",
    "def taylor(func, x, terms):\n",
    "\"\"\"\n",
    "Performs the Taylor series expansion for either the sine of x or for Euler's number raised to x. \n",
    "The taylor() function returns the taylor series approximation of sin(x) or e^(x) with an optional number of terms.\n",
    " \n",
    " Input:\n",
    "     - func: A string describing which function to to calculate the Taylor \n",
    "           series expansion of.  ('sin' for sine(x), 'exp' for e^x)\n",
    "     - x: Input argument that the function will operate on.  Must be a float or an integer between -50 and 50\n",
    "     - terms: number of terms in the Taylor Series. Must be an int greater than zero up to and including 100.\n",
    "              Defaults to 10. Has to be an integer between 1 and 50.\n",
    " \n",
    " Output:\n",
    "     - series_sum: equals the sum of all of the terms in the Taylor Series up to the number of terms specified.\n",
    "       Will be a float.\n",
    "\n",
    "\"\"\"\n",
    "```\n",
    "\n",
    "Above the function definition, include a block comment (using ```#```) with the lab title, your name, course, quarter, and date.  \n",
    "\n",
    "Underneath the comment block, create the ```taylor()``` function that fulfills the description below.\n",
    "\n",
    "Your function should verify that all three of its input variables have values as specified in the description, otherwise, use an ```if: raise Exception()``` structure to tell the user which variable is invalid and give the constraints.\n",
    "\n",
    "For example, if a user tries to call the function with ```x``` set equal to -60, the following exception is triggered.\n",
    "\n",
    "```\n",
    "if x > 50:\n",
    "    raise Exception('x should not exceed 50')\n",
    "\n",
    "```\n",
    "\n"
   ]
  },
  {
   "cell_type": "markdown",
   "metadata": {},
   "source": [
    "The Taylor Series expansion for our two functions  $e^x$ and $\\sin(x)$  are below:\n",
    "\n",
    "$$  {e^x} = \\sum\\limits_{n = 0}^\\infty  {\\frac{{{x^n}}}{{n!}}}  = 1 + x + \\frac{{{x^2}}}{{2!}} + \\frac{{{x^3}}}{{3!}} + \\frac{{{x^4}}}{{4!}} + ... $$\n",
    " \n",
    "$$ \\sin \\left( x \\right) = \\sum\\limits_{n = 0}^\\infty  {{{\\left( { - 1} \\right)}^n}\\frac{{{x^{2n + 1}}}}{{\\left( {2n + 1} \\right)!}}}  = x - \\frac{{{x^3}}}{{3!}} + \\frac{{{x^5}}}{{5!}} - \\frac{{{x^7}}}{{7!}} + \\frac{{{x^9}}}{{9!}} - ... $$"
   ]
  },
  {
   "cell_type": "markdown",
   "metadata": {},
   "source": [
    "Note that as $n$ increases, each successive term gets smaller in absolute value.  Knowing this, we can assert that if, for instance, the $10^{th}$ term in a Taylor series is 0.005, then 10 iterations of the function will bring the sum of terms 1 through 10 to be within +/- 0.005 of the actual answer.  In other words, 10 iterations yields an answer that has an error with absolute value of 0.005 or less.\n",
    "\n",
    "Your function should use a **while loop** or **for loop** to compute and sum each of these terms.  After the last term in the Taylor Series is calculated and added, use an **if break** statement to exit the **loop**.  Otherwise, the **loop** should keep running until it has been run $n$ times.\n",
    " "
   ]
  },
  {
   "cell_type": "markdown",
   "metadata": {},
   "source": [
    "Note that your ```taylor()``` function will not compute the exact value of $\\sin(x)$ or $e^x$, the Taylor Series to a finite number of terms is an estimate compared to the actual value of $\\sin(x)$ or $e^x$.\n",
    "\n",
    "Below are a couple of tips to help you complete the lab:\n",
    "\n",
    " * Start working with your .py-file as a regular script (not a function) with hard coded input values.  This way you can easily run and re-run it for testing.\n",
    " * Get either the $e^x$ or the $\\sin(x)$ capability working before adding the other capability. \n",
    " * Once both of these capabilities are working, complete the input validation for all of the input variables.\n",
    " * Test your code often!\n",
    " * Wait until you have verified your function works, along with its input validation, before changing it into a function.\n",
    " * Now call your function ```taylor()``` from within the **taylor_series.py** file .  It is easier to change values and re-run this way, versus importing the function and calling ```>>>taylor('sin',4,10)``` from the Python REPL.\n",
    " * Verify your results. Compare the results of you Taylor Series function to Python's **math** module functions ```math.exp()``` and ```math.sin()```."
   ]
  },
  {
   "cell_type": "markdown",
   "metadata": {},
   "source": [
    "## Deliverables\n",
    "\n",
    "Once you are satisfied that your file meets all the requirements, suppress all screen output, save your **lab7.py** file, and submit it to appropriate D2L folder."
   ]
  },
  {
   "cell_type": "markdown",
   "metadata": {},
   "source": [
    "#### _By P. Kazarinoff, Portland Community College, 2018_"
   ]
  },
  {
   "cell_type": "code",
   "execution_count": null,
   "metadata": {},
   "outputs": [],
   "source": []
  }
 ],
 "metadata": {
  "kernelspec": {
   "display_name": "Python 3",
   "language": "python",
   "name": "python3"
  },
  "language_info": {
   "codemirror_mode": {
    "name": "ipython",
    "version": 3
   },
   "file_extension": ".py",
   "mimetype": "text/x-python",
   "name": "python",
   "nbconvert_exporter": "python",
   "pygments_lexer": "ipython3",
   "version": "3.6.5"
  }
 },
 "nbformat": 4,
 "nbformat_minor": 2
}
