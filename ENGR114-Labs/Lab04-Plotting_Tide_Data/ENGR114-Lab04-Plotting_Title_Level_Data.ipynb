{
 "cells": [
  {
   "cell_type": "markdown",
   "metadata": {},
   "source": [
    "# Lab 06 - Plotting"
   ]
  },
  {
   "cell_type": "markdown",
   "metadata": {},
   "source": [
    "## Prelab\n",
    "\n",
    "Before starting your Jupyter notebook, read through this entire document, then create a pseudocode outline of what your program will do.   Use separate the markdown sections that describe what each of sections of code will do. Describe what the plots will look like in the markdown blocks."
   ]
  },
  {
   "cell_type": "markdown",
   "metadata": {},
   "source": [
    "## Lab\n",
    "\n",
    "Download the csv data file available at the NOAA website here: [https://tidesandcurrents.noaa.gov/waterlevels.html?id=9439040](https://tidesandcurrents.noaa.gov/waterlevels.html?id=9439040) The csv data file contains water level data points gathered from the NOAA tide station in Astoria, OR on April 15, 2018 over a 24-hour period.\n",
    "\n",
    "Construct the ```url``` from the list of strings below. Parts of the url can be concatinated using the plus sign ```+```.\n",
    "\n",
    "Once the ```url``` is constructed, use Panda's ```pd.read_csv()``` function to read the data into a Pandas _dataframe_ called ```df```."
   ]
  },
  {
   "cell_type": "code",
   "execution_count": 12,
   "metadata": {},
   "outputs": [
    {
     "data": {
      "text/plain": [
       "'https://tidesandcurrents.noaa.gov/api/datagetter?station=9439040&begin_date=20180415&range=24&product=water_level&datum=STND&units=metric&time_zone=lst&format=csv'"
      ]
     },
     "execution_count": 12,
     "metadata": {},
     "output_type": "execute_result"
    }
   ],
   "source": [
    "# base url\n",
    "h ='https://tidesandcurrents.noaa.gov/api/datagetter?'\n",
    "# seperator = &\n",
    "s = 'station=9439040'\n",
    "b = '&begin_date=20180415'\n",
    "r = '&range=24'\n",
    "p = '&product=water_level'\n",
    "d = '&datum=STND'\n",
    "u = '&units=metric'\n",
    "t = '&time_zone=lst'\n",
    "f = '&format=csv'\n",
    "\n",
    "url = h + s + b + r + p + d + u + t + f\n",
    "url"
   ]
  },
  {
   "cell_type": "code",
   "execution_count": 13,
   "metadata": {},
   "outputs": [
    {
     "data": {
      "text/plain": [
       "Index(['Date Time', ' Water Level', ' Sigma', ' O', ' F', ' R', ' L',\n",
       "       ' Quality '],\n",
       "      dtype='object')"
      ]
     },
     "execution_count": 13,
     "metadata": {},
     "output_type": "execute_result"
    }
   ],
   "source": [
    "import pandas as pd\n",
    "df = pd.read_csv(url)\n",
    "df.head()\n",
    "df.columns"
   ]
  },
  {
   "cell_type": "markdown",
   "metadata": {},
   "source": [
    "The first column of the Pandas dataframe represents the date and time when the water level was measured.  For example, in the second row of data contains a value of ```2018-04-12 00:06```.  That value in the ```Date Time``` column means April 15th, 2018 at 12:06am. \n",
    "\n",
    "Remove the last 6 columns of the dataframe so that there on only two first columns in the dataframe, ```Date Time``` and ```Water Level```."
   ]
  },
  {
   "cell_type": "markdown",
   "metadata": {},
   "source": [
    "```python\n",
    "df.drop(['Sigma', 'O','F','R','L','Quality'], axis=1, inplace=True)\n",
    "```"
   ]
  },
  {
   "cell_type": "code",
   "execution_count": 14,
   "metadata": {},
   "outputs": [
    {
     "data": {
      "text/html": [
       "<div>\n",
       "<style scoped>\n",
       "    .dataframe tbody tr th:only-of-type {\n",
       "        vertical-align: middle;\n",
       "    }\n",
       "\n",
       "    .dataframe tbody tr th {\n",
       "        vertical-align: top;\n",
       "    }\n",
       "\n",
       "    .dataframe thead th {\n",
       "        text-align: right;\n",
       "    }\n",
       "</style>\n",
       "<table border=\"1\" class=\"dataframe\">\n",
       "  <thead>\n",
       "    <tr style=\"text-align: right;\">\n",
       "      <th></th>\n",
       "      <th>date_time</th>\n",
       "      <th>water_level</th>\n",
       "    </tr>\n",
       "  </thead>\n",
       "  <tbody>\n",
       "    <tr>\n",
       "      <th>0</th>\n",
       "      <td>2018-04-15 00:00</td>\n",
       "      <td>3.478</td>\n",
       "    </tr>\n",
       "    <tr>\n",
       "      <th>1</th>\n",
       "      <td>2018-04-15 00:06</td>\n",
       "      <td>3.502</td>\n",
       "    </tr>\n",
       "    <tr>\n",
       "      <th>2</th>\n",
       "      <td>2018-04-15 00:12</td>\n",
       "      <td>3.508</td>\n",
       "    </tr>\n",
       "    <tr>\n",
       "      <th>3</th>\n",
       "      <td>2018-04-15 00:18</td>\n",
       "      <td>3.522</td>\n",
       "    </tr>\n",
       "    <tr>\n",
       "      <th>4</th>\n",
       "      <td>2018-04-15 00:24</td>\n",
       "      <td>3.526</td>\n",
       "    </tr>\n",
       "  </tbody>\n",
       "</table>\n",
       "</div>"
      ],
      "text/plain": [
       "          date_time  water_level\n",
       "0  2018-04-15 00:00        3.478\n",
       "1  2018-04-15 00:06        3.502\n",
       "2  2018-04-15 00:12        3.508\n",
       "3  2018-04-15 00:18        3.522\n",
       "4  2018-04-15 00:24        3.526"
      ]
     },
     "execution_count": 14,
     "metadata": {},
     "output_type": "execute_result"
    }
   ],
   "source": [
    "df.drop([' Sigma', ' O', ' F', ' R', ' L',' Quality '], axis=1, inplace=True)\n",
    "df.columns = ['date_time', 'water_level']\n",
    "df.head()"
   ]
  },
  {
   "cell_type": "markdown",
   "metadata": {},
   "source": [
    "The data was recorded every 6 minutes, which is every 10th or 0.1 hours. Construct a NumPy array starting at zero hours, ending at 24 hours in increments of 0.1 hours. Save this NumPy array to a variable called ```hours```.\n",
    "\n",
    "```python\n",
    "hours = np.arange(0,24.1,0.1)\n",
    "```"
   ]
  },
  {
   "cell_type": "code",
   "execution_count": 15,
   "metadata": {},
   "outputs": [],
   "source": [
    "import numpy as np\n",
    "hours = np.arange(0,24.1,0.1)"
   ]
  },
  {
   "cell_type": "markdown",
   "metadata": {},
   "source": [
    "### Single Line Plot\n",
    "\n",
    "Plot the water level vs time (hours) on a set of axis. Label the x-axis as time in units of hours. Label the y-axis as water level in units of meters. Include a title on the plot"
   ]
  },
  {
   "cell_type": "code",
   "execution_count": 19,
   "metadata": {},
   "outputs": [
    {
     "data": {
      "image/png": "[encoded data removed]",
      "text/plain": [
       "<Figure size 432x288 with 1 Axes>"
      ]
     },
     "metadata": {},
     "output_type": "display_data"
    }
   ],
   "source": [
    "import matplotlib.pyplot as plt\n",
    "fig, ax = plt.subplots()\n",
    "ax.plot(hours,df['water_level'])\n",
    "ax.set_xlabel('Time (hours)')\n",
    "ax.set_ylabel('Water Level (meters)')\n",
    "ax.set_title('Tide Level in Astoria, OR on April 15, 2018 over 24 hours')\n",
    "plt.show()"
   ]
  },
  {
   "cell_type": "markdown",
   "metadata": {},
   "source": [
    "### 4 subplots\n",
    "\n",
    "You will create a Matplotlib Figure 1 that will end up looking like the Figure 1 in this document below:\n",
    "\n",
    "![Figure_1](#)"
   ]
  },
  {
   "cell_type": "markdown",
   "metadata": {},
   "source": [
    "Use the ```pd.find()``` function to save the precipitation data (number of inches only) exclusively for days in the year 2013 to a vector NumPy array called ```precip_2013```.  Use the plt.subplots() method to plot the data in the first slot in Figure\n",
    "1.  Label its title, and its y-axis as you see pictured in this document's Figure 1.  Include the grid lines as well.  Allow b = '&begin_date=20180415'Python to decide where your grid lines and axis tick marks should be.\\\\\n",
    "\n",
    "```\n",
    "b = '&begin_date=20180415'\n",
    "```\n",
    "\n",
    "You can aquire the data data for a different date by modifying the last two numbers in the string ```b = '&begin_date=20180415'```. For example, if we change the string to ```b = '&begin_date=20180416'```, we will aquire the data for April 16, 2018.\n",
    "\n",
    "Find the title level data for four different days: April 15, April 16, April 17 and April 18. Plot all four days as the same figure as four subplots.\n",
    "\n",
    "b = '&begin_date=201804156'"
   ]
  },
  {
   "cell_type": "code",
   "execution_count": 22,
   "metadata": {},
   "outputs": [
    {
     "data": {
      "text/plain": [
       "'https://tidesandcurrents.noaa.gov/api/datagetter?station=9439040&begin_date=20180416&range=24&product=water_level&datum=STND&units=metric&time_zone=lst&format=csv'"
      ]
     },
     "execution_count": 22,
     "metadata": {},
     "output_type": "execute_result"
    }
   ],
   "source": [
    "b = '&begin_date=20180416'\n",
    "url = h + s + b + r + p + d + u + t + f\n",
    "url"
   ]
  },
  {
   "cell_type": "code",
   "execution_count": 23,
   "metadata": {},
   "outputs": [
    {
     "data": {
      "text/plain": [
       "Index(['Date Time', ' Water Level', ' Sigma', ' O', ' F', ' R', ' L',\n",
       "       ' Quality '],\n",
       "      dtype='object')"
      ]
     },
     "execution_count": 23,
     "metadata": {},
     "output_type": "execute_result"
    }
   ],
   "source": [
    "import pandas as pd\n",
    "df16 = pd.read_csv(url)\n",
    "df16.head()\n",
    "df16.columns"
   ]
  },
  {
   "cell_type": "code",
   "execution_count": 24,
   "metadata": {},
   "outputs": [
    {
     "data": {
      "text/html": [
       "<div>\n",
       "<style scoped>\n",
       "    .dataframe tbody tr th:only-of-type {\n",
       "        vertical-align: middle;\n",
       "    }\n",
       "\n",
       "    .dataframe tbody tr th {\n",
       "        vertical-align: top;\n",
       "    }\n",
       "\n",
       "    .dataframe thead th {\n",
       "        text-align: right;\n",
       "    }\n",
       "</style>\n",
       "<table border=\"1\" class=\"dataframe\">\n",
       "  <thead>\n",
       "    <tr style=\"text-align: right;\">\n",
       "      <th></th>\n",
       "      <th>date_time</th>\n",
       "      <th>water_level</th>\n",
       "    </tr>\n",
       "  </thead>\n",
       "  <tbody>\n",
       "    <tr>\n",
       "      <th>0</th>\n",
       "      <td>2018-04-16 00:00</td>\n",
       "      <td>3.523</td>\n",
       "    </tr>\n",
       "    <tr>\n",
       "      <th>1</th>\n",
       "      <td>2018-04-16 00:06</td>\n",
       "      <td>3.562</td>\n",
       "    </tr>\n",
       "    <tr>\n",
       "      <th>2</th>\n",
       "      <td>2018-04-16 00:12</td>\n",
       "      <td>3.591</td>\n",
       "    </tr>\n",
       "    <tr>\n",
       "      <th>3</th>\n",
       "      <td>2018-04-16 00:18</td>\n",
       "      <td>3.619</td>\n",
       "    </tr>\n",
       "    <tr>\n",
       "      <th>4</th>\n",
       "      <td>2018-04-16 00:24</td>\n",
       "      <td>3.647</td>\n",
       "    </tr>\n",
       "  </tbody>\n",
       "</table>\n",
       "</div>"
      ],
      "text/plain": [
       "          date_time  water_level\n",
       "0  2018-04-16 00:00        3.523\n",
       "1  2018-04-16 00:06        3.562\n",
       "2  2018-04-16 00:12        3.591\n",
       "3  2018-04-16 00:18        3.619\n",
       "4  2018-04-16 00:24        3.647"
      ]
     },
     "execution_count": 24,
     "metadata": {},
     "output_type": "execute_result"
    }
   ],
   "source": [
    "df16.drop([' Sigma', ' O', ' F', ' R', ' L',' Quality '], axis=1, inplace=True)\n",
    "df16.columns = ['date_time', 'water_level']\n",
    "df16.head()"
   ]
  },
  {
   "cell_type": "code",
   "execution_count": 26,
   "metadata": {},
   "outputs": [
    {
     "data": {
      "image/png": "[encoded data removed]",
      "text/plain": [
       "<Figure size 432x288 with 2 Axes>"
      ]
     },
     "metadata": {},
     "output_type": "display_data"
    }
   ],
   "source": [
    "import matplotlib.pyplot as plt\n",
    "fig, (ax1,ax2) = plt.subplots(2,1)\n",
    "ax1.plot(hours,df['water_level'])\n",
    "ax2.plot(hours,df16['water_level'])\n",
    "plt.show()"
   ]
  },
  {
   "cell_type": "markdown",
   "metadata": {},
   "source": [
    "### y-y plot\n",
    "\n",
    "Use the ```pd.find()``` command to save some of the snow depth data into a NumPy array called ```winter13_14_sd```.  Remember that the column headers were in the Excel file.  Refer to that file, if need be, to see which column was for snow depth.  Remember that we deleted the date column and added 3 date columns in its place.  Your data set should only include the data from the first day of November 2013 to the last day of February 2014.  This will probably be the most difficult part of this assignment.\n",
    "\n",
    "Do the same to select the same days' snow fallen data and save it into a NumPy array called ```winter13_14_sf```.  Use the ```ptl.plotyy()``` command to plot both sets of data on the same graph, but with different y-axes.  \n",
    "\n",
    "Notice the figure has a different vertical axis on the left from that on its right.  Let Matplotlib choose your axis limits and line colors.  Be sure to include the grid lines, x-axis label, y-axis label, title, and legend you see pictured below.\n",
    "\n",
    "![y-y plot](images/fig2.png)"
   ]
  },
  {
   "cell_type": "code",
   "execution_count": null,
   "metadata": {},
   "outputs": [],
   "source": []
  },
  {
   "cell_type": "markdown",
   "metadata": {},
   "source": [
    "### Histogram\n",
    "\n",
    "Create a Matplotlib Figure 3 that looks like this document's Figure 3.\n",
    "\n",
    "Create a plot just like it from your ```winter13_14_sf``` NumPy array.  Match all of its labels etc.  20 bins were used to create this histogram.\n",
    "\n",
    "![Histogram](images/fig3.png)"
   ]
  },
  {
   "cell_type": "markdown",
   "metadata": {},
   "source": [
    "## Deliverables\n",
    "\n",
    "Each student’s submission for the lab must be a single Jupyter Notebook. The Jupyter Notebook must contain markdown cells that explain the code, code cells that contain the code, and output cells that contain a total of 3 plots. The three plots produced by the code cells in the notebook should be: \n",
    "\n",
    " * A plot that contains four sub-plots that shows level verses time\n",
    "\n",
    " * A y-y plot that shows snow level on one axis and rainfall on another axis\n",
    "\n",
    " * A histogram\n",
    "\n",
    "Make sure to run all the cells in the Jupyter notebook before submitting the file. Upload your **_lab4.ipynb_** file to the Lab 4 drop box in D2L. "
   ]
  },
  {
   "cell_type": "code",
   "execution_count": null,
   "metadata": {},
   "outputs": [],
   "source": []
  }
 ],
 "metadata": {
  "kernelspec": {
   "display_name": "Python 3",
   "language": "python",
   "name": "python3"
  },
  "language_info": {
   "codemirror_mode": {
    "name": "ipython",
    "version": 3
   },
   "file_extension": ".py",
   "mimetype": "text/x-python",
   "name": "python",
   "nbconvert_exporter": "python",
   "pygments_lexer": "ipython3",
   "version": "3.6.5"
  }
 },
 "nbformat": 4,
 "nbformat_minor": 2
}
