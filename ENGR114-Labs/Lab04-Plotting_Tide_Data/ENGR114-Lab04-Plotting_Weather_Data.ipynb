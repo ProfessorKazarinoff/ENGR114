{
 "cells": [
  {
   "cell_type": "markdown",
   "metadata": {},
   "source": [
    "# Lab 06 - Plotting Weather Data"
   ]
  },
  {
   "cell_type": "markdown",
   "metadata": {},
   "source": [
    "## Prelab\n",
    "\n",
    "Before starting your Jupyter notebook, read through this entire document, then create a pseudocode outline of what your program will do.   Use separate the markdown sections that describe what each of sections of code will do. Describe what the plots will look like in the markdown blocks."
   ]
  },
  {
   "cell_type": "markdown",
   "metadata": {},
   "source": [
    "## Lab\n",
    "\n",
    "Download the Excel data file titled ```govt_camp_2013_01_to_2016_03.xlsx]``` and save it to your preferred working directory. The directory where the Excel data file is placed needs to be the same directory you build the Jupyter notebook in.  The Excel file contains daily weather data points gathered from the USGS weather station in Government Camp, OR from Jan 1, 2009 to Mar 31, 2016.  The measurements and their units are given in the column headers (first row) of the spreadsheet. \n",
    "\n",
    "At the start of your lab, include a header in a Jupyter notebook markdown cell that contains the lab name, your name, the course, quarter and data. Below the header import the libraries you will use in the rest of the lab. Note that NumPy is imported as ```np```, Pandas is imported as ```pd``` and Matplotlib's pyplot library is imported as ```plt```. The three import aliases ```np```, ```pd```, and ```plt``` are commonly used in Python. The line ```%matplotlib inline``` is a Jupyter notebook command to cause Matplotlib plots to disply directly in a Jupyter notebook. If you are building a ```.py``` file instead of a Jupyter notebook ```.ipynb``` file, leave out ```%matplotlib inline``` as this line is not valid Python code. \n",
    "\n",
    "The Jupyter notebook code cell below shows the imports described above."
   ]
  },
  {
   "cell_type": "code",
   "execution_count": 1,
   "metadata": {},
   "outputs": [],
   "source": [
    "import numpy as np\n",
    "import pandas as pd\n",
    "import matplotlib.pyplot as plt\n",
    "%matplotlib inline"
   ]
  },
  {
   "cell_type": "markdown",
   "metadata": {},
   "source": [
    "Next, use Panda's ```pd.read_csv()``` function to read the ```.xlsx``` data file into a Pandas _dataframe_ called ```df```. The Panda's method ```df.head()``` will show the first couple rows of the dataframe ```df```.\n",
    "\n",
    "The code below saves the excel sheet to the variable ```df``` and show's the first couple rows of ```df```."
   ]
  },
  {
   "cell_type": "code",
   "execution_count": 2,
   "metadata": {},
   "outputs": [
    {
     "data": {
      "text/html": [
       "<div>\n",
       "<style scoped>\n",
       "    .dataframe tbody tr th:only-of-type {\n",
       "        vertical-align: middle;\n",
       "    }\n",
       "\n",
       "    .dataframe tbody tr th {\n",
       "        vertical-align: top;\n",
       "    }\n",
       "\n",
       "    .dataframe thead th {\n",
       "        text-align: right;\n",
       "    }\n",
       "</style>\n",
       "<table border=\"1\" class=\"dataframe\">\n",
       "  <thead>\n",
       "    <tr style=\"text-align: right;\">\n",
       "      <th></th>\n",
       "      <th>STATION</th>\n",
       "      <th>STATION_NAME</th>\n",
       "      <th>DATE</th>\n",
       "      <th>Precipitation\n",
       "(inches)</th>\n",
       "      <th>Snow Depth\n",
       "(inches)</th>\n",
       "      <th>Snowfall\n",
       "(inches)</th>\n",
       "      <th>Max Temp (°F)</th>\n",
       "      <th>Min Temp (°F)</th>\n",
       "    </tr>\n",
       "  </thead>\n",
       "  <tbody>\n",
       "    <tr>\n",
       "      <th>0</th>\n",
       "      <td>GHCND:USC00353402</td>\n",
       "      <td>GOVERNMENT CAMP OR US</td>\n",
       "      <td>20130101</td>\n",
       "      <td>0.00</td>\n",
       "      <td>44</td>\n",
       "      <td>0.0</td>\n",
       "      <td>29</td>\n",
       "      <td>12</td>\n",
       "    </tr>\n",
       "    <tr>\n",
       "      <th>1</th>\n",
       "      <td>GHCND:USC00353402</td>\n",
       "      <td>GOVERNMENT CAMP OR US</td>\n",
       "      <td>20130102</td>\n",
       "      <td>0.01</td>\n",
       "      <td>42</td>\n",
       "      <td>0.0</td>\n",
       "      <td>27</td>\n",
       "      <td>11</td>\n",
       "    </tr>\n",
       "    <tr>\n",
       "      <th>2</th>\n",
       "      <td>GHCND:USC00353402</td>\n",
       "      <td>GOVERNMENT CAMP OR US</td>\n",
       "      <td>20130103</td>\n",
       "      <td>0.00</td>\n",
       "      <td>42</td>\n",
       "      <td>0.0</td>\n",
       "      <td>20</td>\n",
       "      <td>12</td>\n",
       "    </tr>\n",
       "    <tr>\n",
       "      <th>3</th>\n",
       "      <td>GHCND:USC00353402</td>\n",
       "      <td>GOVERNMENT CAMP OR US</td>\n",
       "      <td>20130104</td>\n",
       "      <td>0.16</td>\n",
       "      <td>41</td>\n",
       "      <td>0.0</td>\n",
       "      <td>31</td>\n",
       "      <td>14</td>\n",
       "    </tr>\n",
       "    <tr>\n",
       "      <th>4</th>\n",
       "      <td>GHCND:USC00353402</td>\n",
       "      <td>GOVERNMENT CAMP OR US</td>\n",
       "      <td>20130105</td>\n",
       "      <td>0.00</td>\n",
       "      <td>41</td>\n",
       "      <td>0.0</td>\n",
       "      <td>37</td>\n",
       "      <td>28</td>\n",
       "    </tr>\n",
       "  </tbody>\n",
       "</table>\n",
       "</div>"
      ],
      "text/plain": [
       "             STATION           STATION_NAME      DATE  \\\n",
       "0  GHCND:USC00353402  GOVERNMENT CAMP OR US  20130101   \n",
       "1  GHCND:USC00353402  GOVERNMENT CAMP OR US  20130102   \n",
       "2  GHCND:USC00353402  GOVERNMENT CAMP OR US  20130103   \n",
       "3  GHCND:USC00353402  GOVERNMENT CAMP OR US  20130104   \n",
       "4  GHCND:USC00353402  GOVERNMENT CAMP OR US  20130105   \n",
       "\n",
       "   Precipitation\\n(inches)  Snow Depth\\n(inches)  Snowfall\\n(inches)  \\\n",
       "0                     0.00                    44                 0.0   \n",
       "1                     0.01                    42                 0.0   \n",
       "2                     0.00                    42                 0.0   \n",
       "3                     0.16                    41                 0.0   \n",
       "4                     0.00                    41                 0.0   \n",
       "\n",
       "   Max Temp (°F)  Min Temp (°F)  \n",
       "0             29             12  \n",
       "1             27             11  \n",
       "2             20             12  \n",
       "3             31             14  \n",
       "4             37             28  "
      ]
     },
     "execution_count": 2,
     "metadata": {},
     "output_type": "execute_result"
    }
   ],
   "source": [
    "df = pd.read_excel('govt_camp_2013_01_to_2016_03.xlsx')\n",
    "df.head()"
   ]
  },
  {
   "cell_type": "markdown",
   "metadata": {},
   "source": [
    "The third column of the Pandas dataframe represents the date on which the observations in that row were recorded.  For example, the first row of data (index 0) contains a value of ```20130101``` in the ```DATE``` column.  The value ```20130101``` means January  01, 2013. \n",
    "\n",
    "Remove the first two columns of the dataframe ```df``` so that the resulting first column in the dataframe is the ```DATE``` column. You can use ```df.head()``` to view the dataframe after the two columns are removed.\n",
    "\n",
    "The code below drops the ```STATION``` and ```STATION_NAME``` columns from dataframe ```df```."
   ]
  },
  {
   "cell_type": "code",
   "execution_count": 3,
   "metadata": {},
   "outputs": [],
   "source": [
    "df.drop(['STATION', 'STATION_NAME'], axis=1, inplace=True)"
   ]
  },
  {
   "cell_type": "markdown",
   "metadata": {},
   "source": [
    "In the resulting dataframe, first column now represents the date on which the observations in that row were measured.  For example, row 48 of the dataframe contains a value of ```20130219```.  This means February 19, 2013.  Replace column 1 of the dataframe ```df``` (the ```DATE``` column) with 3 columns containing the ```year``` in the first column, the ```month``` in the second column, and the ```day``` of the month in the third column.  When you are finished, your dataframe ```df``` should be ```1186 x 8``` and it's first row should have the following values:\n",
    "\n",
    "```text\n",
    "2013    1     1    0.00    44    0.0    29    12 \n",
    "```\n",
    "\n",
    "The lines in the code cell below completes these operations. If you rerun the code cell, make sure to start at the beginning of the notebook."
   ]
  },
  {
   "cell_type": "code",
   "execution_count": 4,
   "metadata": {},
   "outputs": [
    {
     "name": "stdout",
     "output_type": "stream",
     "text": [
      "(1186, 8)\n"
     ]
    },
    {
     "data": {
      "text/html": [
       "<div>\n",
       "<style scoped>\n",
       "    .dataframe tbody tr th:only-of-type {\n",
       "        vertical-align: middle;\n",
       "    }\n",
       "\n",
       "    .dataframe tbody tr th {\n",
       "        vertical-align: top;\n",
       "    }\n",
       "\n",
       "    .dataframe thead th {\n",
       "        text-align: right;\n",
       "    }\n",
       "</style>\n",
       "<table border=\"1\" class=\"dataframe\">\n",
       "  <thead>\n",
       "    <tr style=\"text-align: right;\">\n",
       "      <th></th>\n",
       "      <th>year</th>\n",
       "      <th>month</th>\n",
       "      <th>day</th>\n",
       "      <th>Precipitation\n",
       "(inches)</th>\n",
       "      <th>Snow Depth\n",
       "(inches)</th>\n",
       "      <th>Snowfall\n",
       "(inches)</th>\n",
       "      <th>Max Temp (°F)</th>\n",
       "      <th>Min Temp (°F)</th>\n",
       "    </tr>\n",
       "  </thead>\n",
       "  <tbody>\n",
       "    <tr>\n",
       "      <th>0</th>\n",
       "      <td>2013</td>\n",
       "      <td>1</td>\n",
       "      <td>1</td>\n",
       "      <td>0.00</td>\n",
       "      <td>44</td>\n",
       "      <td>0.0</td>\n",
       "      <td>29</td>\n",
       "      <td>12</td>\n",
       "    </tr>\n",
       "    <tr>\n",
       "      <th>1</th>\n",
       "      <td>2013</td>\n",
       "      <td>1</td>\n",
       "      <td>2</td>\n",
       "      <td>0.01</td>\n",
       "      <td>42</td>\n",
       "      <td>0.0</td>\n",
       "      <td>27</td>\n",
       "      <td>11</td>\n",
       "    </tr>\n",
       "    <tr>\n",
       "      <th>2</th>\n",
       "      <td>2013</td>\n",
       "      <td>1</td>\n",
       "      <td>3</td>\n",
       "      <td>0.00</td>\n",
       "      <td>42</td>\n",
       "      <td>0.0</td>\n",
       "      <td>20</td>\n",
       "      <td>12</td>\n",
       "    </tr>\n",
       "    <tr>\n",
       "      <th>3</th>\n",
       "      <td>2013</td>\n",
       "      <td>1</td>\n",
       "      <td>4</td>\n",
       "      <td>0.16</td>\n",
       "      <td>41</td>\n",
       "      <td>0.0</td>\n",
       "      <td>31</td>\n",
       "      <td>14</td>\n",
       "    </tr>\n",
       "    <tr>\n",
       "      <th>4</th>\n",
       "      <td>2013</td>\n",
       "      <td>1</td>\n",
       "      <td>5</td>\n",
       "      <td>0.00</td>\n",
       "      <td>41</td>\n",
       "      <td>0.0</td>\n",
       "      <td>37</td>\n",
       "      <td>28</td>\n",
       "    </tr>\n",
       "  </tbody>\n",
       "</table>\n",
       "</div>"
      ],
      "text/plain": [
       "   year  month  day  Precipitation\\n(inches)  Snow Depth\\n(inches)  \\\n",
       "0  2013      1    1                     0.00                    44   \n",
       "1  2013      1    2                     0.01                    42   \n",
       "2  2013      1    3                     0.00                    42   \n",
       "3  2013      1    4                     0.16                    41   \n",
       "4  2013      1    5                     0.00                    41   \n",
       "\n",
       "   Snowfall\\n(inches)  Max Temp (°F)  Min Temp (°F)  \n",
       "0                 0.0             29             12  \n",
       "1                 0.0             27             11  \n",
       "2                 0.0             20             12  \n",
       "3                 0.0             31             14  \n",
       "4                 0.0             37             28  "
      ]
     },
     "execution_count": 4,
     "metadata": {},
     "output_type": "execute_result"
    }
   ],
   "source": [
    "df['DATE'] = pd.to_datetime(df['DATE'], format='%Y%m%d')\n",
    "df.insert(0, 'year', pd.DatetimeIndex(df['DATE']).year)\n",
    "df.insert(1, 'month', pd.DatetimeIndex(df['DATE']).month)\n",
    "df.insert(2, 'day', pd.DatetimeIndex(df['DATE']).day)\n",
    "df.drop(['DATE'], axis=1, inplace=True)\n",
    "print(df.shape)\n",
    "df.head()"
   ]
  },
  {
   "cell_type": "markdown",
   "metadata": {},
   "source": [
    "The last step of data cleaning is to convert the resulting dataframe ```df``` into a NumPy array ```wd```. Once the data is in a NumPy array, you will be able to index and slice it using regular NumPy operations. Print the NumPy array with the command ```print(wd)``` and see how the year, month and day have been converted to floats. Don't forget what the columns \n",
    "\n",
    "The code cell below shows how to convert the dataframe ```df``` into a NumPy array called ```wd```. "
   ]
  },
  {
   "cell_type": "code",
   "execution_count": 5,
   "metadata": {},
   "outputs": [
    {
     "name": "stdout",
     "output_type": "stream",
     "text": [
      "[[2.013e+03 1.000e+00 1.000e+00 ... 0.000e+00 2.900e+01 1.200e+01]\n",
      " [2.013e+03 1.000e+00 2.000e+00 ... 0.000e+00 2.700e+01 1.100e+01]\n",
      " [2.013e+03 1.000e+00 3.000e+00 ... 0.000e+00 2.000e+01 1.200e+01]\n",
      " ...\n",
      " [2.016e+03 3.000e+00 2.900e+01 ... 0.000e+00 3.300e+01 2.700e+01]\n",
      " [2.016e+03 3.000e+00 3.000e+01 ... 0.000e+00 4.700e+01 2.700e+01]\n",
      " [2.016e+03 3.000e+00 3.100e+01 ... 0.000e+00 5.900e+01 3.200e+01]]\n"
     ]
    }
   ],
   "source": [
    "wd = np.array(df)\n",
    "print(wd)"
   ]
  },
  {
   "cell_type": "markdown",
   "metadata": {},
   "source": [
    "### Create a line plot\n",
    "\n",
    "Once the data is cleaned up, create a line plot with Matplotlib of precipitation in inches vs. time. Include an x-axis label, a y-axis label and a title on your plot.\n",
    "\n",
    "![line plot](images/line_plot.png)"
   ]
  },
  {
   "cell_type": "markdown",
   "metadata": {},
   "source": [
    "### Create a line plot with two lines\n",
    "\n",
    "Create a Matplotlib line plot that shows the max and min temperatures in 2013 on two line. The max temp should be a red line and the min temp should be a blue time. Include a legend that shows ```Max Temp``` and ```Min Temp```. Include axis labels and a title on the plot.\n",
    "\n",
    "The resulting plot should look something like the plot below:\n",
    "\n",
    "![plot 2](images/plot2.png)"
   ]
  },
  {
   "cell_type": "markdown",
   "metadata": {},
   "source": [
    "### Create 4 subplots\n",
    "\n",
    "Once the data is cleaned up, create a Matplotlib figure containing four subplots that looks like Figure 3 in this document. The four subplots should be stacked on top of each other. Each subplot should contain the precipitation in one year. The first subplot shows precipitation in 2013, the second subplot shows precipitation in 2014, etc. Include a title on each subplot and a y-axis label on each subplot. On the bottom subplot (2016), include an x-axis label.\n",
    "\n",
    "Use NumPy's ```np.where()``` function to save the precipitation data (number of inches only) exclusively for days in the year 2013 to a NumPy array called ```precip_2013```. Use the ```plt.subplots()``` method to plot the ```precip_2013``` data in the first subplot. \n",
    "\n",
    "Do the same for the precipitation data for 2014, then 2015, then 2016 and create a subplot for each. The plot for 2016 should include an x-axis label and have the same axis limits as the x-axis limits as the other subplots.\n",
    "\n",
    "The resulting figure that contains four subplots, one subplot for each year, should look something like below: \n",
    "\n",
    "![Figure_1](images/plot3.png)"
   ]
  },
  {
   "cell_type": "markdown",
   "metadata": {},
   "source": [
    "### y-y plot\n",
    "\n",
    "Use NumPy's ```np.where()``` function to save some of the snow depth data into a NumPy array called ```winter13_14_sd```.  Remember what the column headers were in the Excel file.  Refer to that file, if need be, to see which column corresponds snow depth.  Remember, you deleted the date column and added 3 date columns in its place.  Your data set should only include the data from the first day of November 2013 to the last day of February 2014.  Indexing out data in this date range will probably be the most difficult part of the lab.\n",
    "\n",
    "Do the same to select the same days' snow fallen data and save it into a NumPy array called ```winter13_14_sf```.  Use the ```plt.plotyy()``` function to plot both sets of data on the same graph, but with different y-axes.  \n",
    "\n",
    "Notice the figure has a different vertical axis on the left compared to the vertical axis on the right.  Let Matplotlib choose your axis limits and line colors.  Be sure to include the grid lines, x-axis label, y-axis label, title, and legend as seen in the figure below.\n",
    "\n",
    "![y-y plot](images/plot4.png)"
   ]
  },
  {
   "cell_type": "code",
   "execution_count": 17,
   "metadata": {},
   "outputs": [
    {
     "ename": "TypeError",
     "evalue": "ufunc 'bitwise_and' not supported for the input types, and the inputs could not be safely coerced to any supported types according to the casting rule ''safe''",
     "output_type": "error",
     "traceback": [
      "\u001b[1;31m---------------------------------------------------------------------------\u001b[0m",
      "\u001b[1;31mTypeError\u001b[0m                                 Traceback (most recent call last)",
      "\u001b[1;32m<ipython-input-17-cad0cf19fa72>\u001b[0m in \u001b[0;36m<module>\u001b[1;34m()\u001b[0m\n\u001b[0;32m      2\u001b[0m \u001b[1;31m#sd = wd[:, 4]\u001b[0m\u001b[1;33m\u001b[0m\u001b[1;33m\u001b[0m\u001b[0m\n\u001b[0;32m      3\u001b[0m \u001b[1;31m#sf =\u001b[0m\u001b[1;33m\u001b[0m\u001b[1;33m\u001b[0m\u001b[0m\n\u001b[1;32m----> 4\u001b[1;33m \u001b[0mnp\u001b[0m\u001b[1;33m.\u001b[0m\u001b[0mwhere\u001b[0m\u001b[1;33m(\u001b[0m\u001b[0mwd\u001b[0m\u001b[1;33m[\u001b[0m\u001b[1;33m:\u001b[0m\u001b[1;33m,\u001b[0m\u001b[1;36m0\u001b[0m\u001b[1;33m]\u001b[0m\u001b[1;33m==\u001b[0m\u001b[1;36m2013\u001b[0m \u001b[1;33m&\u001b[0m \u001b[0mwd\u001b[0m\u001b[1;33m[\u001b[0m\u001b[1;33m:\u001b[0m\u001b[1;33m,\u001b[0m\u001b[1;36m0\u001b[0m\u001b[1;33m]\u001b[0m\u001b[1;33m==\u001b[0m\u001b[1;36m2014\u001b[0m\u001b[1;33m)\u001b[0m\u001b[1;33m\u001b[0m\u001b[0m\n\u001b[0m",
      "\u001b[1;31mTypeError\u001b[0m: ufunc 'bitwise_and' not supported for the input types, and the inputs could not be safely coerced to any supported types according to the casting rule ''safe''"
     ]
    }
   ],
   "source": [
    "#sf = wd[:, 5]\n",
    "#sd = wd[:, 4]\n",
    "#sf = \n",
    "np.where(wd[:,0]==2013 & wd[:,0]==2014)\n"
   ]
  },
  {
   "cell_type": "code",
   "execution_count": 18,
   "metadata": {},
   "outputs": [
    {
     "data": {
      "image/png": "[encoded data removed]",
      "text/plain": [
       "<Figure size 432x288 with 1 Axes>"
      ]
     },
     "metadata": {
      "needs_background": "light"
     },
     "output_type": "display_data"
    }
   ],
   "source": [
    "m = np.logical_and(np.logical_or(wd[:,0] == 2013, wd[:,0] == 2014),np.logical_or(wd[:,1]>10,wd[:,1]<3))\n",
    "sf = wd[m,4]\n",
    "plt.plot(sf)\n",
    "#ax2 = ax1.twinx()\n",
    "plt.show()"
   ]
  },
  {
   "cell_type": "markdown",
   "metadata": {},
   "source": [
    "### Histogram\n",
    "\n",
    "Create a histogram with Matplotlib that looks like this document's Figure 3.\n",
    "\n",
    "Create a plot just like it from your ```winter13_14_sf``` NumPy array.  Match all of its labels etc.  20 bins were used to create this histogram.\n",
    "\n",
    "![Histogram](images/plot5.png)"
   ]
  },
  {
   "cell_type": "markdown",
   "metadata": {},
   "source": [
    "## Deliverables\n",
    "\n",
    "Each student’s submission for the lab must be a single Jupyter Notebook. The Jupyter Notebook must contain markdown cells that explain the code, code cells that contain the code, and output cells that contain a total of 3 plots. The three plots produced by the code cells in the notebook should be: \n",
    "\n",
    " * A line plot\n",
    " \n",
    " * A line plot with two lines and a legend\n",
    " \n",
    " * A figure that contains four sub-plots that shows precipitation verses time in four different years\n",
    " \n",
    " * A y-y plot that shows snow level on one y-axis and snow depth on the other y-axis\n",
    " \n",
    " * A histogram\n",
    "\n",
    "Make sure to run all the cells in the Jupyter notebook before submitting the file. Upload your **_lab4.ipynb_** file to the Lab 4 drop box in D2L. "
   ]
  },
  {
   "cell_type": "code",
   "execution_count": null,
   "metadata": {},
   "outputs": [],
   "source": []
  }
 ],
 "metadata": {
  "kernelspec": {
   "display_name": "Python 3",
   "language": "python",
   "name": "python3"
  },
  "language_info": {
   "codemirror_mode": {
    "name": "ipython",
    "version": 3
   },
   "file_extension": ".py",
   "mimetype": "text/x-python",
   "name": "python",
   "nbconvert_exporter": "python",
   "pygments_lexer": "ipython3",
   "version": "3.6.4"
  }
 },
 "nbformat": 4,
 "nbformat_minor": 2
}
