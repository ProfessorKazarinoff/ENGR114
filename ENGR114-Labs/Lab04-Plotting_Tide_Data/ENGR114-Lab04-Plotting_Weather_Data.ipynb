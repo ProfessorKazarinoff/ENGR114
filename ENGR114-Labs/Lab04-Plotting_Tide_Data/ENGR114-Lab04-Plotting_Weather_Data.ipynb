{
 "cells": [
  {
   "cell_type": "markdown",
   "metadata": {},
   "source": [
    "# Lab 06 - Plotting Weather Data"
   ]
  },
  {
   "cell_type": "markdown",
   "metadata": {},
   "source": [
    "## Prelab\n",
    "\n",
    "Before starting your Jupyter notebook, read through this entire document, then create a pseudocode outline of what your program will do.   Use separate the markdown sections that describe what each of sections of code will do. Describe what the plots will look like in the markdown blocks."
   ]
  },
  {
   "cell_type": "markdown",
   "metadata": {},
   "source": [
    "## Lab\n",
    "\n",
    "Download the Excel data file titled [govt_camp_2013_01_to_2016_03.xlsx](#) and save it to your preferred working directory this needs to be the same directory you build the Jupyter notebook in.  The excel file contains daily weather data points gathered from the USGS weather station in Government Camp, OR from Jan 1, 2009 to Mar 31, 2016.  The measurements and their units are given in the column headers (first row) of the spreadsheet.  Use Pandas ```pd.read_csv()``` function\n",
    "to read the data into a Pandas _dataframe_ called ```df```."
   ]
  },
  {
   "cell_type": "code",
   "execution_count": 73,
   "metadata": {},
   "outputs": [
    {
     "data": {
      "text/html": [
       "<div>\n",
       "<style scoped>\n",
       "    .dataframe tbody tr th:only-of-type {\n",
       "        vertical-align: middle;\n",
       "    }\n",
       "\n",
       "    .dataframe tbody tr th {\n",
       "        vertical-align: top;\n",
       "    }\n",
       "\n",
       "    .dataframe thead th {\n",
       "        text-align: right;\n",
       "    }\n",
       "</style>\n",
       "<table border=\"1\" class=\"dataframe\">\n",
       "  <thead>\n",
       "    <tr style=\"text-align: right;\">\n",
       "      <th></th>\n",
       "      <th>STATION</th>\n",
       "      <th>STATION_NAME</th>\n",
       "      <th>DATE</th>\n",
       "      <th>Precipitation\n",
       "(inches)</th>\n",
       "      <th>Snow Depth\n",
       "(inches)</th>\n",
       "      <th>Snowfall\n",
       "(inches)</th>\n",
       "      <th>Max Temp (°F)</th>\n",
       "      <th>Min Temp (°F)</th>\n",
       "    </tr>\n",
       "  </thead>\n",
       "  <tbody>\n",
       "    <tr>\n",
       "      <th>0</th>\n",
       "      <td>GHCND:USC00353402</td>\n",
       "      <td>GOVERNMENT CAMP OR US</td>\n",
       "      <td>20130101</td>\n",
       "      <td>0.00</td>\n",
       "      <td>44</td>\n",
       "      <td>0.0</td>\n",
       "      <td>29</td>\n",
       "      <td>12</td>\n",
       "    </tr>\n",
       "    <tr>\n",
       "      <th>1</th>\n",
       "      <td>GHCND:USC00353402</td>\n",
       "      <td>GOVERNMENT CAMP OR US</td>\n",
       "      <td>20130102</td>\n",
       "      <td>0.01</td>\n",
       "      <td>42</td>\n",
       "      <td>0.0</td>\n",
       "      <td>27</td>\n",
       "      <td>11</td>\n",
       "    </tr>\n",
       "    <tr>\n",
       "      <th>2</th>\n",
       "      <td>GHCND:USC00353402</td>\n",
       "      <td>GOVERNMENT CAMP OR US</td>\n",
       "      <td>20130103</td>\n",
       "      <td>0.00</td>\n",
       "      <td>42</td>\n",
       "      <td>0.0</td>\n",
       "      <td>20</td>\n",
       "      <td>12</td>\n",
       "    </tr>\n",
       "    <tr>\n",
       "      <th>3</th>\n",
       "      <td>GHCND:USC00353402</td>\n",
       "      <td>GOVERNMENT CAMP OR US</td>\n",
       "      <td>20130104</td>\n",
       "      <td>0.16</td>\n",
       "      <td>41</td>\n",
       "      <td>0.0</td>\n",
       "      <td>31</td>\n",
       "      <td>14</td>\n",
       "    </tr>\n",
       "    <tr>\n",
       "      <th>4</th>\n",
       "      <td>GHCND:USC00353402</td>\n",
       "      <td>GOVERNMENT CAMP OR US</td>\n",
       "      <td>20130105</td>\n",
       "      <td>0.00</td>\n",
       "      <td>41</td>\n",
       "      <td>0.0</td>\n",
       "      <td>37</td>\n",
       "      <td>28</td>\n",
       "    </tr>\n",
       "  </tbody>\n",
       "</table>\n",
       "</div>"
      ],
      "text/plain": [
       "             STATION           STATION_NAME      DATE  \\\n",
       "0  GHCND:USC00353402  GOVERNMENT CAMP OR US  20130101   \n",
       "1  GHCND:USC00353402  GOVERNMENT CAMP OR US  20130102   \n",
       "2  GHCND:USC00353402  GOVERNMENT CAMP OR US  20130103   \n",
       "3  GHCND:USC00353402  GOVERNMENT CAMP OR US  20130104   \n",
       "4  GHCND:USC00353402  GOVERNMENT CAMP OR US  20130105   \n",
       "\n",
       "   Precipitation\\n(inches)  Snow Depth\\n(inches)  Snowfall\\n(inches)  \\\n",
       "0                     0.00                    44                 0.0   \n",
       "1                     0.01                    42                 0.0   \n",
       "2                     0.00                    42                 0.0   \n",
       "3                     0.16                    41                 0.0   \n",
       "4                     0.00                    41                 0.0   \n",
       "\n",
       "   Max Temp (°F)  Min Temp (°F)  \n",
       "0             29             12  \n",
       "1             27             11  \n",
       "2             20             12  \n",
       "3             31             14  \n",
       "4             37             28  "
      ]
     },
     "execution_count": 73,
     "metadata": {},
     "output_type": "execute_result"
    }
   ],
   "source": [
    "import pandas as pd\n",
    "df = pd.read_excel('govt_camp_2013_01_to_2016_03.xlsx')\n",
    "df.head()"
   ]
  },
  {
   "cell_type": "markdown",
   "metadata": {},
   "source": [
    "The third column of the Pandas dataframe represents the date on which the observations in that row were taken.  For example, in the first row of data contains a value of ```20130101```.  This value in the ```DATE``` column means January  01, 2013. \n",
    "\n",
    "Remove the first two columns of the dataframe so that the first column in the dataframe is the ```DATE``` column."
   ]
  },
  {
   "cell_type": "markdown",
   "metadata": {},
   "source": [
    "```python\n",
    "df.drop(['STATION', 'STATION_NAME'], axis=1, inplace=True)\n",
    "```"
   ]
  },
  {
   "cell_type": "markdown",
   "metadata": {},
   "source": [
    "Now the first column of the dataframe represents the date on which the observations in that row were measured.  For example, row 48 of the dataframe contains a value of ```20130219```.  This means February 19, 2013.  Replace column 1 of dataframe with 3 columns containing the year in the first column, the month in the second column, and the day of the month in the third column.  When you are finished, your dataframe should be 1186 x 6 and it's last row should have the following values:\n",
    "\n",
    "```\n",
    "2016    3     31    0    18      0 \n",
    "```\n",
    "\n",
    "Now you will be able to use indexing options to filter out data from certain years and months"
   ]
  },
  {
   "cell_type": "markdown",
   "metadata": {},
   "source": [
    "### Create 4 subplots\n",
    "\n",
    "Once the data is cleaned up, create a Matplotlib Figure 1 that looks like Figure 1 in this document:\n",
    "\n",
    "![Figure_1](images/fig1.png)"
   ]
  },
  {
   "cell_type": "markdown",
   "metadata": {},
   "source": [
    "Use the ```pd.find()``` function to save the precipitation data (number of inches only) exclusively for days in the year 2013 to a vector NumPy array called ```precip_2013```.  Use the ```plt.subplots()``` method to plot the data in the first plot in Figure 1.  Include a title, and a y-axis label like you see pictured in this document's Figure 1.  Include the grid lines as well.  Allow Matplotlib to decide where your grid lines and axis tick marks should be.\n",
    "\n",
    "Do the same for the precipitation data for 2014, then 2015, then 2016.  The plot for 2016 should include an x-axis label and have the same axis limits as the x-axis limits in this document's Figure 1."
   ]
  },
  {
   "cell_type": "markdown",
   "metadata": {},
   "source": [
    "### y-y plot\n",
    "\n",
    "Use the ```pd.find()``` command to save some of the snow depth data into a NumPy array called ```winter13_14_sd```.  Remember what the column headers were in the Excel file.  Refer to that file, if need be, to see which column corresponded snow depth.  Remember, you deleted the date column and added 3 date columns in its place.  Your data set should only include the data from the first day of November 2013 to the last day of February 2014.  Indexing out data in this date range will probably be the most difficult part of the lab.\n",
    "\n",
    "Do the same to select the same days' snow fallen data and save it into a NumPy array called ```winter13_14_sf```.  Use the ```plt.plotyy()``` command to plot both sets of data on the same graph, but with different y-axes.  \n",
    "\n",
    "Notice the figure has a different vertical axis on the left compared to the vertical axis on the right.  Let Matplotlib choose your axis limits and line colors.  Be sure to include the grid lines, x-axis label, y-axis label, title, and legend as seen in Figure 2.\n",
    "\n",
    "![y-y plot](images/fig2.png)"
   ]
  },
  {
   "cell_type": "markdown",
   "metadata": {},
   "source": [
    "### Histogram\n",
    "\n",
    "Create a Matplotlib Figure 3 that looks like this document's Figure 3.\n",
    "\n",
    "Create a plot just like it from your ```winter13_14_sf``` NumPy array.  Match all of its labels etc.  20 bins were used to create this histogram.\n",
    "\n",
    "![Histogram](images/fig3.png)"
   ]
  },
  {
   "cell_type": "markdown",
   "metadata": {},
   "source": [
    "## Deliverables\n",
    "\n",
    "Each student’s submission for the lab must be a single Jupyter Notebook. The Jupyter Notebook must contain markdown cells that explain the code, code cells that contain the code, and output cells that contain a total of 3 plots. The three plots produced by the code cells in the notebook should be: \n",
    "\n",
    " * A plot that contains four sub-plots that shows precipitation verses time\n",
    "\n",
    " * A y-y plot that shows snow level on one y-axis and snow depth on the other y-axis\n",
    "\n",
    " * A histogram\n",
    "\n",
    "Make sure to run all the cells in the Jupyter notebook before submitting the file. Upload your **_lab4.ipynb_** file to the Lab 4 drop box in D2L. "
   ]
  },
  {
   "cell_type": "code",
   "execution_count": null,
   "metadata": {},
   "outputs": [],
   "source": []
  }
 ],
 "metadata": {
  "kernelspec": {
   "display_name": "Python 3",
   "language": "python",
   "name": "python3"
  },
  "language_info": {
   "codemirror_mode": {
    "name": "ipython",
    "version": 3
   },
   "file_extension": ".py",
   "mimetype": "text/x-python",
   "name": "python",
   "nbconvert_exporter": "python",
   "pygments_lexer": "ipython3",
   "version": "3.6.7"
  }
 },
 "nbformat": 4,
 "nbformat_minor": 2
}
