{
 "cells": [
  {
   "cell_type": "markdown",
   "metadata": {},
   "source": [
    "# Lab 03 - Sifting Weather Data"
   ]
  },
  {
   "cell_type": "markdown",
   "metadata": {},
   "source": [
    "## Prelab\n",
    "\n",
    "You can find the relevant **_.xlsx-file_** posted along with these lab instructions on D2L.  After completing the in-class example, save your script as a Jupyter notebook. Your work completing the in-class example does not need to be submitted for credit."
   ]
  },
  {
   "cell_type": "markdown",
   "metadata": {},
   "source": [
    "## Lab\n",
    "\n",
    "In this lab, you will be working with rainfall  data that is stored in an Excel file called ```weather_data.xlsx```. The Excel file contains the rainfall on different days of the year in hundredths of an inch. The rows of the Excel file represent months and the columns of the Excel file represent days. The data stored in the cells of the Excel file represent rainfall in hundredths of an inch.\n",
    "\n",
    "You will use Python to derive some meaningful statistics from the rainfall data."
   ]
  },
  {
   "cell_type": "markdown",
   "metadata": {},
   "source": [
    "### Import External Packages\n",
    "\n",
    "The first step in the lab is to add a header to your Jupyter Notebook that includes the lab number and name, your name, the course, quarter and date. \n",
    "\n",
    "Below the header cell, you need to import **NumPy** and **Pandas**. NumPy and Pandas are two external packages that you will use in the lab. The standard alias ```np``` and ```pd``` should be used for NumPy and Pandas respectively.\n",
    "\n",
    "The Jupyter notebook code cell below shows the import lines."
   ]
  },
  {
   "cell_type": "code",
   "execution_count": 1,
   "metadata": {},
   "outputs": [],
   "source": [
    "import numpy as np\n",
    "import pandas as pd"
   ]
  },
  {
   "cell_type": "markdown",
   "metadata": {},
   "source": [
    "### Save the weather data to a NumPy array\n",
    "\n",
    "The next step in the lab is to import the Excel file using Pandas and save the weather data to a NumPy array.\n",
    "\n",
    "Import the weather data from the ```weather_data.xlsx``` file into a Panda's dataframe called ```df```. You can search the Pandas package documentation help section to see how to use the ```pd.read_excel()``` function and why we need the keyword argument ```header=None``` in this example.  \n",
    "\n",
    "Note: the **_.xlsx-file_** must be in your current file path, and quotes need to surround the file name.\n",
    "\n",
    "The Jupyter notebook code cell below shows the steps to import the ```weather_data.xlsx``` file into a Pandas dataframe, and save the data in the variable ```df```."
   ]
  },
  {
   "cell_type": "code",
   "execution_count": 2,
   "metadata": {},
   "outputs": [],
   "source": [
    "df = pd.read_excel('weather_data.xlsx', header=None)"
   ]
  },
  {
   "cell_type": "markdown",
   "metadata": {},
   "source": [
    "You can use Pandas methods to view the top of the dataframe with ```df.head()``` and ```df.tail()```. When first imported, the dataframe ```df``` contains a couple values equal to ```-99999```.  Running the command ```print(df.shape)``` will indicate the  dataframe ```df``` has dimensions of 12 rows x 31 columns.  Also check the value in row 1 (index 0), column 3 (index 2) in the dataframe is ```272``` by running the ```df.head()``` method. \n",
    "\n",
    "The code cell below completes these steps."
   ]
  },
  {
   "cell_type": "code",
   "execution_count": 3,
   "metadata": {},
   "outputs": [
    {
     "name": "stdout",
     "output_type": "stream",
     "text": [
      "(12, 31)\n"
     ]
    },
    {
     "data": {
      "text/html": [
       "<div>\n",
       "<style scoped>\n",
       "    .dataframe tbody tr th:only-of-type {\n",
       "        vertical-align: middle;\n",
       "    }\n",
       "\n",
       "    .dataframe tbody tr th {\n",
       "        vertical-align: top;\n",
       "    }\n",
       "\n",
       "    .dataframe thead th {\n",
       "        text-align: right;\n",
       "    }\n",
       "</style>\n",
       "<table border=\"1\" class=\"dataframe\">\n",
       "  <thead>\n",
       "    <tr style=\"text-align: right;\">\n",
       "      <th></th>\n",
       "      <th>0</th>\n",
       "      <th>1</th>\n",
       "      <th>2</th>\n",
       "      <th>3</th>\n",
       "      <th>4</th>\n",
       "      <th>5</th>\n",
       "      <th>6</th>\n",
       "      <th>7</th>\n",
       "      <th>8</th>\n",
       "      <th>9</th>\n",
       "      <th>...</th>\n",
       "      <th>21</th>\n",
       "      <th>22</th>\n",
       "      <th>23</th>\n",
       "      <th>24</th>\n",
       "      <th>25</th>\n",
       "      <th>26</th>\n",
       "      <th>27</th>\n",
       "      <th>28</th>\n",
       "      <th>29</th>\n",
       "      <th>30</th>\n",
       "    </tr>\n",
       "  </thead>\n",
       "  <tbody>\n",
       "    <tr>\n",
       "      <th>0</th>\n",
       "      <td>0</td>\n",
       "      <td>0</td>\n",
       "      <td>272</td>\n",
       "      <td>0</td>\n",
       "      <td>0</td>\n",
       "      <td>0</td>\n",
       "      <td>0</td>\n",
       "      <td>9</td>\n",
       "      <td>26</td>\n",
       "      <td>1</td>\n",
       "      <td>...</td>\n",
       "      <td>1</td>\n",
       "      <td>15</td>\n",
       "      <td>224</td>\n",
       "      <td>0</td>\n",
       "      <td>0</td>\n",
       "      <td>0</td>\n",
       "      <td>0</td>\n",
       "      <td>0</td>\n",
       "      <td>33</td>\n",
       "      <td>33</td>\n",
       "    </tr>\n",
       "    <tr>\n",
       "      <th>1</th>\n",
       "      <td>61</td>\n",
       "      <td>103</td>\n",
       "      <td>0</td>\n",
       "      <td>2</td>\n",
       "      <td>0</td>\n",
       "      <td>0</td>\n",
       "      <td>0</td>\n",
       "      <td>2</td>\n",
       "      <td>0</td>\n",
       "      <td>68</td>\n",
       "      <td>...</td>\n",
       "      <td>0</td>\n",
       "      <td>0</td>\n",
       "      <td>5</td>\n",
       "      <td>0</td>\n",
       "      <td>0</td>\n",
       "      <td>0</td>\n",
       "      <td>62</td>\n",
       "      <td>-99999</td>\n",
       "      <td>-99999</td>\n",
       "      <td>-99999</td>\n",
       "    </tr>\n",
       "    <tr>\n",
       "      <th>2</th>\n",
       "      <td>2</td>\n",
       "      <td>0</td>\n",
       "      <td>17</td>\n",
       "      <td>27</td>\n",
       "      <td>0</td>\n",
       "      <td>10</td>\n",
       "      <td>0</td>\n",
       "      <td>0</td>\n",
       "      <td>30</td>\n",
       "      <td>25</td>\n",
       "      <td>...</td>\n",
       "      <td>26</td>\n",
       "      <td>0</td>\n",
       "      <td>0</td>\n",
       "      <td>9</td>\n",
       "      <td>6</td>\n",
       "      <td>78</td>\n",
       "      <td>0</td>\n",
       "      <td>5</td>\n",
       "      <td>8</td>\n",
       "      <td>0</td>\n",
       "    </tr>\n",
       "    <tr>\n",
       "      <th>3</th>\n",
       "      <td>260</td>\n",
       "      <td>1</td>\n",
       "      <td>0</td>\n",
       "      <td>0</td>\n",
       "      <td>0</td>\n",
       "      <td>1</td>\n",
       "      <td>3</td>\n",
       "      <td>0</td>\n",
       "      <td>5</td>\n",
       "      <td>0</td>\n",
       "      <td>...</td>\n",
       "      <td>0</td>\n",
       "      <td>0</td>\n",
       "      <td>0</td>\n",
       "      <td>0</td>\n",
       "      <td>9</td>\n",
       "      <td>35</td>\n",
       "      <td>13</td>\n",
       "      <td>86</td>\n",
       "      <td>0</td>\n",
       "      <td>-99999</td>\n",
       "    </tr>\n",
       "    <tr>\n",
       "      <th>4</th>\n",
       "      <td>47</td>\n",
       "      <td>0</td>\n",
       "      <td>0</td>\n",
       "      <td>0</td>\n",
       "      <td>5</td>\n",
       "      <td>115</td>\n",
       "      <td>49</td>\n",
       "      <td>81</td>\n",
       "      <td>0</td>\n",
       "      <td>0</td>\n",
       "      <td>...</td>\n",
       "      <td>0</td>\n",
       "      <td>0</td>\n",
       "      <td>0</td>\n",
       "      <td>0</td>\n",
       "      <td>0</td>\n",
       "      <td>2</td>\n",
       "      <td>0</td>\n",
       "      <td>0</td>\n",
       "      <td>0</td>\n",
       "      <td>0</td>\n",
       "    </tr>\n",
       "    <tr>\n",
       "      <th>5</th>\n",
       "      <td>0</td>\n",
       "      <td>0</td>\n",
       "      <td>30</td>\n",
       "      <td>42</td>\n",
       "      <td>0</td>\n",
       "      <td>0</td>\n",
       "      <td>0</td>\n",
       "      <td>0</td>\n",
       "      <td>0</td>\n",
       "      <td>0</td>\n",
       "      <td>...</td>\n",
       "      <td>0</td>\n",
       "      <td>2</td>\n",
       "      <td>2</td>\n",
       "      <td>240</td>\n",
       "      <td>16</td>\n",
       "      <td>35</td>\n",
       "      <td>14</td>\n",
       "      <td>14</td>\n",
       "      <td>8</td>\n",
       "      <td>-99999</td>\n",
       "    </tr>\n",
       "    <tr>\n",
       "      <th>6</th>\n",
       "      <td>0</td>\n",
       "      <td>0</td>\n",
       "      <td>0</td>\n",
       "      <td>0</td>\n",
       "      <td>0</td>\n",
       "      <td>0</td>\n",
       "      <td>0</td>\n",
       "      <td>7</td>\n",
       "      <td>0</td>\n",
       "      <td>0</td>\n",
       "      <td>...</td>\n",
       "      <td>0</td>\n",
       "      <td>0</td>\n",
       "      <td>0</td>\n",
       "      <td>10</td>\n",
       "      <td>0</td>\n",
       "      <td>0</td>\n",
       "      <td>5</td>\n",
       "      <td>0</td>\n",
       "      <td>0</td>\n",
       "      <td>0</td>\n",
       "    </tr>\n",
       "    <tr>\n",
       "      <th>7</th>\n",
       "      <td>0</td>\n",
       "      <td>45</td>\n",
       "      <td>0</td>\n",
       "      <td>0</td>\n",
       "      <td>0</td>\n",
       "      <td>0</td>\n",
       "      <td>0</td>\n",
       "      <td>0</td>\n",
       "      <td>5</td>\n",
       "      <td>0</td>\n",
       "      <td>...</td>\n",
       "      <td>0</td>\n",
       "      <td>0</td>\n",
       "      <td>158</td>\n",
       "      <td>62</td>\n",
       "      <td>1</td>\n",
       "      <td>0</td>\n",
       "      <td>0</td>\n",
       "      <td>0</td>\n",
       "      <td>0</td>\n",
       "      <td>0</td>\n",
       "    </tr>\n",
       "    <tr>\n",
       "      <th>8</th>\n",
       "      <td>0</td>\n",
       "      <td>0</td>\n",
       "      <td>0</td>\n",
       "      <td>0</td>\n",
       "      <td>0</td>\n",
       "      <td>0</td>\n",
       "      <td>0</td>\n",
       "      <td>0</td>\n",
       "      <td>0</td>\n",
       "      <td>0</td>\n",
       "      <td>...</td>\n",
       "      <td>37</td>\n",
       "      <td>0</td>\n",
       "      <td>0</td>\n",
       "      <td>0</td>\n",
       "      <td>0</td>\n",
       "      <td>6</td>\n",
       "      <td>138</td>\n",
       "      <td>58</td>\n",
       "      <td>10</td>\n",
       "      <td>-99999</td>\n",
       "    </tr>\n",
       "    <tr>\n",
       "      <th>9</th>\n",
       "      <td>0</td>\n",
       "      <td>0</td>\n",
       "      <td>0</td>\n",
       "      <td>14</td>\n",
       "      <td>156</td>\n",
       "      <td>0</td>\n",
       "      <td>0</td>\n",
       "      <td>0</td>\n",
       "      <td>0</td>\n",
       "      <td>110</td>\n",
       "      <td>...</td>\n",
       "      <td>0</td>\n",
       "      <td>0</td>\n",
       "      <td>0</td>\n",
       "      <td>0</td>\n",
       "      <td>0</td>\n",
       "      <td>0</td>\n",
       "      <td>0</td>\n",
       "      <td>0</td>\n",
       "      <td>0</td>\n",
       "      <td>1</td>\n",
       "    </tr>\n",
       "    <tr>\n",
       "      <th>10</th>\n",
       "      <td>1</td>\n",
       "      <td>163</td>\n",
       "      <td>5</td>\n",
       "      <td>0</td>\n",
       "      <td>0</td>\n",
       "      <td>0</td>\n",
       "      <td>0</td>\n",
       "      <td>0</td>\n",
       "      <td>0</td>\n",
       "      <td>0</td>\n",
       "      <td>...</td>\n",
       "      <td>0</td>\n",
       "      <td>2</td>\n",
       "      <td>2</td>\n",
       "      <td>10</td>\n",
       "      <td>255</td>\n",
       "      <td>2</td>\n",
       "      <td>0</td>\n",
       "      <td>0</td>\n",
       "      <td>0</td>\n",
       "      <td>-99999</td>\n",
       "    </tr>\n",
       "    <tr>\n",
       "      <th>11</th>\n",
       "      <td>0</td>\n",
       "      <td>0</td>\n",
       "      <td>0</td>\n",
       "      <td>0</td>\n",
       "      <td>0</td>\n",
       "      <td>45</td>\n",
       "      <td>0</td>\n",
       "      <td>0</td>\n",
       "      <td>0</td>\n",
       "      <td>15</td>\n",
       "      <td>...</td>\n",
       "      <td>34</td>\n",
       "      <td>0</td>\n",
       "      <td>0</td>\n",
       "      <td>0</td>\n",
       "      <td>0</td>\n",
       "      <td>0</td>\n",
       "      <td>0</td>\n",
       "      <td>0</td>\n",
       "      <td>0</td>\n",
       "      <td>0</td>\n",
       "    </tr>\n",
       "  </tbody>\n",
       "</table>\n",
       "<p>12 rows × 31 columns</p>\n",
       "</div>"
      ],
      "text/plain": [
       "     0    1    2   3    4    5   6   7   8    9   ...  21  22   23   24   25  \\\n",
       "0     0    0  272   0    0    0   0   9  26    1  ...   1  15  224    0    0   \n",
       "1    61  103    0   2    0    0   0   2   0   68  ...   0   0    5    0    0   \n",
       "2     2    0   17  27    0   10   0   0  30   25  ...  26   0    0    9    6   \n",
       "3   260    1    0   0    0    1   3   0   5    0  ...   0   0    0    0    9   \n",
       "4    47    0    0   0    5  115  49  81   0    0  ...   0   0    0    0    0   \n",
       "5     0    0   30  42    0    0   0   0   0    0  ...   0   2    2  240   16   \n",
       "6     0    0    0   0    0    0   0   7   0    0  ...   0   0    0   10    0   \n",
       "7     0   45    0   0    0    0   0   0   5    0  ...   0   0  158   62    1   \n",
       "8     0    0    0   0    0    0   0   0   0    0  ...  37   0    0    0    0   \n",
       "9     0    0    0  14  156    0   0   0   0  110  ...   0   0    0    0    0   \n",
       "10    1  163    5   0    0    0   0   0   0    0  ...   0   2    2   10  255   \n",
       "11    0    0    0   0    0   45   0   0   0   15  ...  34   0    0    0    0   \n",
       "\n",
       "    26   27     28     29     30  \n",
       "0    0    0      0     33     33  \n",
       "1    0   62 -99999 -99999 -99999  \n",
       "2   78    0      5      8      0  \n",
       "3   35   13     86      0 -99999  \n",
       "4    2    0      0      0      0  \n",
       "5   35   14     14      8 -99999  \n",
       "6    0    5      0      0      0  \n",
       "7    0    0      0      0      0  \n",
       "8    6  138     58     10 -99999  \n",
       "9    0    0      0      0      1  \n",
       "10   2    0      0      0 -99999  \n",
       "11   0    0      0      0      0  \n",
       "\n",
       "[12 rows x 31 columns]"
      ]
     },
     "execution_count": 3,
     "metadata": {},
     "output_type": "execute_result"
    }
   ],
   "source": [
    "print(df.shape)\n",
    "df"
   ]
  },
  {
   "cell_type": "markdown",
   "metadata": {},
   "source": [
    "Next, convert the Pandas dataframe ```df``` to a NumPy array called ```wd``` (for weather data). Use NumPy's ```np.array()``` function.\n",
    "\n",
    "The Jupyter notebook code cell below demonstrates this functionality."
   ]
  },
  {
   "cell_type": "code",
   "execution_count": 4,
   "metadata": {},
   "outputs": [],
   "source": [
    "wd = np.array(df)"
   ]
  },
  {
   "cell_type": "markdown",
   "metadata": {},
   "source": [
    "Next use Python's ```type()``` function to verify the variable ```wd``` is a NumPy array. Also verify that the NumPy array is 5 by 31, which is the same dimensions (how many rows, how many columns) as the dataframe ```df``` that we previously printed out.\n",
    "\n",
    "The code cell below prints ```wd```'s data type and prints the dimensions of ```wd```"
   ]
  },
  {
   "cell_type": "code",
   "execution_count": 5,
   "metadata": {},
   "outputs": [
    {
     "name": "stdout",
     "output_type": "stream",
     "text": [
      "<class 'numpy.ndarray'>\n",
      "(12, 31)\n"
     ]
    }
   ],
   "source": [
    "print(type(wd))\n",
    "print(wd.shape)"
   ]
  },
  {
   "cell_type": "markdown",
   "metadata": {},
   "source": [
    "### Clean up the data\n",
    "\n",
    "The weather data is in hundredths of an inch. Multiply each value in the array by ```0.01``` so that the array contains rain fall in inches (not hundredths of an inch).\n",
    "\n",
    "The code cell below shows how to convert the weather data from hundredths of an inch to inches. When the multiplication symbol ```*``` is used with a NumPy array, the multiplication is _element-wise_. This means each value in the array is multiplied by the scalar ```0.01```. "
   ]
  },
  {
   "cell_type": "code",
   "execution_count": 6,
   "metadata": {},
   "outputs": [],
   "source": [
    "wd = wd*0.01"
   ]
  },
  {
   "cell_type": "markdown",
   "metadata": {},
   "source": [
    "### Define a month array and remove -99999 values\n",
    " \n",
    "Define a variable called ```m``` and set it equal to ```1``` for now (Month ```1``` is February, remember Python counting starts at 0).  ```m``` represents the month for which we will compute statistics.  Later, you will change ```m``` to other values.  ```0``` means January, ```1``` means February, and so on.\n",
    "\n",
    "Use the value in ```m``` to extract that month's data from your ```wd``` array. Store these values in an array called ```md``` (for month data).  Since February has 28 days, you will see positive numbers, zeros and ```NaN``` present in the array.\n",
    "\n",
    "For example, according to our data, the rainfall for the first 3 days in February are ```0.61``` inches, ```1.03``` inches, and ```0``` inches.\n",
    "\n",
    "The Jupyter notebook cell which shows this operation is below. Note how indexing is used to pull out all of the values from one row. The general syntax for indexing a NumPy array is ```array[row,col]```. If we use ```wd[1,:]```, this means ```row=1```, ```col=all``` (row one, all columns). Note the values ```-9.9999``` present in the array ```md```."
   ]
  },
  {
   "cell_type": "code",
   "execution_count": 7,
   "metadata": {},
   "outputs": [
    {
     "name": "stdout",
     "output_type": "stream",
     "text": [
      "[ 6.1000e-01  1.0300e+00  0.0000e+00  2.0000e-02  0.0000e+00  0.0000e+00\n",
      "  0.0000e+00  2.0000e-02  0.0000e+00  6.8000e-01  3.0000e-02  3.0000e-02\n",
      "  1.0000e-02  0.0000e+00  0.0000e+00  0.0000e+00  1.0000e-02  1.3500e+00\n",
      "  3.0000e-02  6.6000e-01  0.0000e+00  0.0000e+00  0.0000e+00  5.0000e-02\n",
      "  0.0000e+00  0.0000e+00  0.0000e+00  6.2000e-01 -9.9999e+02 -9.9999e+02\n",
      " -9.9999e+02]\n"
     ]
    }
   ],
   "source": [
    "m = 1\n",
    "md = wd[1,:]\n",
    "print(md)"
   ]
  },
  {
   "cell_type": "markdown",
   "metadata": {},
   "source": [
    "The next step is to remove all of the ```-9.9999``` values from the ```md``` array. If we find the average of the values in ```md``` now, which corresponds to the average rainfall in February, the value that's returned doesn't make sense. There is no way the rain fall could be negative. \n",
    "\n",
    "The code cell below shows how to find the average of the values in the array ```md```. Note that ```-9.9999``` values are present in the array."
   ]
  },
  {
   "cell_type": "code",
   "execution_count": 8,
   "metadata": {},
   "outputs": [
    {
     "data": {
      "text/plain": [
       "-96.60709677419354"
      ]
     },
     "execution_count": 8,
     "metadata": {},
     "output_type": "execute_result"
    }
   ],
   "source": [
    "np.mean(md)"
   ]
  },
  {
   "cell_type": "markdown",
   "metadata": {},
   "source": [
    "To remove the -9.9999 values from the array, use a boolean mask.\n",
    "\n",
    "The command ```md>-1``` creates a boolean mask. The boolean mask is an array the same size as ```md```, but only contains ```True``` or ```False``` as values. In the mask, all locations where ```md>-1``` are set to ```True```; all other values in the boolean mask are set to ```False``` (We use ```md>-1``` instead of ```md>0``` because we want to keep the ```0``` values, we just want to get rid of the ```-9.9999``` values). \n",
    "\n",
    "The code cell below produces the boolean mask. Note how the last three elements are ```False```. The ```False``` values are in the same location as the ```-9.9999``` values in ```md```."
   ]
  },
  {
   "cell_type": "code",
   "execution_count": 9,
   "metadata": {},
   "outputs": [
    {
     "data": {
      "text/plain": [
       "array([ True,  True,  True,  True,  True,  True,  True,  True,  True,\n",
       "        True,  True,  True,  True,  True,  True,  True,  True,  True,\n",
       "        True,  True,  True,  True,  True,  True,  True,  True,  True,\n",
       "        True, False, False, False])"
      ]
     },
     "execution_count": 9,
     "metadata": {},
     "output_type": "execute_result"
    }
   ],
   "source": [
    "md>-1"
   ]
  },
  {
   "cell_type": "markdown",
   "metadata": {},
   "source": [
    "We then use the boolean mask ```md>-1``` to index the array ```md```. All the locations in ```wd``` where the boolean mask is set to ```True``` are pulled out. All the locations in ```wd``` where the boolean mask is ```False``` do not get pulled out. We put the results of the indexing operation back into the variable ```wd``` to be used later.\n",
    "\n",
    "The code cell below creates the boolean mask, indexes out values from ```wd``` based on the mask, and puts the results back into ```wd```, which as a result does not contain ```-9.9999``` in any location."
   ]
  },
  {
   "cell_type": "code",
   "execution_count": 10,
   "metadata": {},
   "outputs": [
    {
     "name": "stdout",
     "output_type": "stream",
     "text": [
      "[0.61 1.03 0.   0.02 0.   0.   0.   0.02 0.   0.68 0.03 0.03 0.01 0.\n",
      " 0.   0.   0.01 1.35 0.03 0.66 0.   0.   0.   0.05 0.   0.   0.   0.62]\n"
     ]
    }
   ],
   "source": [
    "mask = md>-1\n",
    "md = md[mask]\n",
    "print(md)"
   ]
  },
  {
   "cell_type": "markdown",
   "metadata": {},
   "source": [
    "### Compute Statistics for the choosen month\n",
    "\n",
    "The last part of the lab involves computing and storing the following statistics/properties of the data in the ```md``` array in variables named as follows:\n",
    "\n",
    " * ```m_avg```: average inches fallen in month ```m```\n",
    " * ```m_max```: maximum inches fallen in month ```m```\n",
    " * ```d_max```: day(s) of month ```m``` in which ```m_max``` inches fell\n",
    " * ```nd_zero```: number of day(s) of month ```m``` in which zero inches fell\n",
    " * ```d_zero```: day(s) of month ````m```` in which zero inches fell\n",
    " * ```d_nonzero```: day(s) of month ```m``` in which at least some rain fell\n",
    " * ```nd_nonzero```: number of day(s) in month ```m``` in which at least some rain fell   \n",
    " * ```m_avg_nonzero```: average inches of only day(s) in which some rain fell\n",
    " \n",
    "NumPy's ```np.where()``` function is useful here as are ```np.mean()```, ```np.max()``` and an array's ```array.size``` attribute."
   ]
  },
  {
   "cell_type": "markdown",
   "metadata": {},
   "source": [
    "Test all of your values for the month of February manually to make sure they are correct.\n",
    "\n",
    "Then run your script for the January data (```m=0```) and check the results against manual calculations for that month.\n",
    "\n",
    "You may wish to test your script against other month's data.  When you are convinced your results and variable names are correct, set ```m=1``` and restart the Jupyter notebook Kernel and clear all output. Run each cell one last time and ensure the script is error free.\n",
    "\n",
    "For your own records, save your ```lab2.ipynb``` file and your ```weather_data.xlsx``` file to the same directory.  You do not need to submit your ```weather_data.xlsx``` file because your instructor has their own copy to test your script."
   ]
  },
  {
   "cell_type": "markdown",
   "metadata": {},
   "source": [
    "## Deliverable\n",
    "\n",
    "One .ipynb-file with all cells run. The .ipynb-file should run without errors. Uploaded the .ipynb file to D2L by the end of the lab period."
   ]
  },
  {
   "cell_type": "markdown",
   "metadata": {},
   "source": [
    "#### _By D. Kruger, adapted by P. Kazarinoff, Portland Community College, 2019_"
   ]
  }
 ],
 "metadata": {
  "kernelspec": {
   "display_name": "Python 3",
   "language": "python",
   "name": "python3"
  },
  "language_info": {
   "codemirror_mode": {
    "name": "ipython",
    "version": 3
   },
   "file_extension": ".py",
   "mimetype": "text/x-python",
   "name": "python",
   "nbconvert_exporter": "python",
   "pygments_lexer": "ipython3",
   "version": "3.6.8"
  }
 },
 "nbformat": 4,
 "nbformat_minor": 2
}
