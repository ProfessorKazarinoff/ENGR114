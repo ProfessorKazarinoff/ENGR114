{
 "cells": [
  {
   "cell_type": "markdown",
   "metadata": {},
   "source": [
    "# Lab 08 - External Hardware"
   ]
  },
  {
   "cell_type": "markdown",
   "metadata": {},
   "source": [
    "[image of Arduino and computer]"
   ]
  },
  {
   "cell_type": "markdown",
   "metadata": {},
   "source": [
    "## Prelab\n",
    "\n",
    "Before starting the lab, familiarize yourself with what an Arduino is and what an Arduino can be used for. You will .nd numerous projects if you google “Arduino project”. Try to download the Arduino IDE using the following link: https://www.arduino.cc/en/Main/Software Be sure to select: Windows ZIP .le for non admin install as new software can not be installed on lab computers without administrator privileges. Investigate the Arudino IDE (launched by double clicking Arduino.exe). See what is available in the File .Examples menu. Before lab, also familiarize yourself with the concept of serial communication. In this lab, Python will communicate with an Arduino over a serial connection. Serial communication is one of the older computer hardware communication specifications and a precursor to USB (universal serial bus) communication used by keyboards, mice thumb drives etc. Part of the lab will follow a tutorial from the Sparkfun Inventor’s Kit (https://www.sparkfun.com/products/retired/12060) click on the Documents link on the product page to review the guide. "
   ]
  },
  {
   "cell_type": "markdown",
   "metadata": {},
   "source": [
    "## Lab\n",
    "\n",
    "For this group lab assignment, your group will use MATLAB to interact with an Arduino to dynamically turn on and o. an LED and then use MATLAB to collect and plot sensor input. There will be two MATLAB scripts to construct and two Arduino Scripts used to complete these tasks. At the end of the lab, you will be able to use MATLAB interact with external hardware. \n",
    "In order for your group to accomplish this task, you will need to complete the following steps: "
   ]
  },
  {
   "cell_type": "markdown",
   "metadata": {},
   "source": [
    "### Part 1: Turn on/o. an LED connected to an Arduino using MATLAB \n",
    "\n",
    "(a) Download the Arduino IDE \n",
    "\n",
    "(b) Wire an LED and resistor to the Arduino \n",
    "\n",
    "(c) Load the Arduino Example sketch Blink to the Arduino. Con.rm your Arduino and LED blinks \n",
    "\n",
    "(d) Load the Arduino Example sketch PhysicalPixel.ino \n",
    "\n",
    "(e) Use the serial monitor to turn the Arduino LED on and o. \n",
    "\n",
    "(f) Build a MATLAB script and use MATLAB to turn the Arduino LED on and o.. "
   ]
  },
  {
   "cell_type": "markdown",
   "metadata": {},
   "source": [
    "### Part 2: Measure sensor output with an Arduino and MATLAB \n",
    "\n",
    "(a) Wire a little blue potentiometer dial to the Arduino \n",
    "\n",
    "(b) Load the Arduino potentiometer.ino sketch onto the Arduino \n",
    "\n",
    "(c) Twist the little blue potentiometer to turn the LED connected to the Arduino on and o. \n",
    "\n",
    "(d) Build a Python script and to record the potentiometer level and draw a plot. \n",
    "\n",
    "(e) Upload your Python scripts to D2L. "
   ]
  },
  {
   "cell_type": "markdown",
   "metadata": {},
   "source": [
    "You will accomplish this in your groups. Below are details for each step in order to complete the lab. \n",
    "Part 1. Turn on/o. an connected to an Arduino \n",
    "\n",
    "1.1 Download the Arduino IDE \n",
    "\n",
    "Download the Arduino IDE using the following link: \n",
    "https://www.arduino.cc/en/Main/Software \n",
    "Scroll down the page to the Download the Arduino IDE section. Be sure to select: Windows ZIP .le for non admin install as new software can not be installed on lab computers without administrator privileges. You can select JUST DOWNLOAD from the donation screen. Extract the downloaded .zip folder to your thumb drive or the desktop. \n",
    "\n",
    "\n",
    "1.2 Wire an LED to the Arduino \n",
    "\n",
    "From the Arduino kit, .nd an LED, a 330 O resistor and two jumper wires. Connect the LED, resistor and wires as shown below. Also see the SIK GUIDE page 19 and the SparkFun Iventor’s kit online guide: \n",
    "https://learn.sparkfun.com/tutorials/sik-experiment-guide-for-arduino—v33/experiment-1-blinking-an-led \n",
    "\n",
    "1.3 Upload the Arduino example sketch blink.ino onto the Arduino. \n",
    "\n",
    "Con.rm your Arduino and LED both blink \n",
    "Open the Arduino IDE folder and open the Arduino.exe program. Open the Arduino Blink.ino sketch by going to: File .Examples .01.Basics .Blink \n",
    "Connect the Arduino to the computer using a USB cable. Note that USB ports connected to monitors sometimes do not work correctly. In the Arduino IDE Window that contains the Blink sketch, click the check mark to Verify then click the arrow to Upload. \n",
    "\n",
    "Once the upload is complete, the Arduino and LED should blink on and o.. If you don’t see the Arduino and LED blinking, you need to do some trouble shooting. Check the COM Port or try unplugging and re-plugging in the Arduino. \n",
    "\n",
    "1.4 Load the Arduino example sketch PhysicalPixel \n",
    "\n",
    "Open the Arduino PhysicalPixel.ino sketch by going to: File .Examples .04.Communication .PhysicalPixel .Once again, In the Arduino IDE Window that contains the PhysicalPixel sketch, click the check mark to Verify then click the arrow to Upload. \n",
    "\n",
    "1.5 Use the serial monitor to turn the Arduino LED on and off\n",
    "\n",
    "In the Arduino IDE Window that contains the PhysicalPixel sketch, open the Serial Monitor by going to Tools .Serial Monitor \n",
    "\n",
    "In the Serial Monitor type: H and click Send (or press ENTER). Then type: L and click Send (or press ENTER). You should see the Arduino LED switch on and o.. If you are having trouble, make sure that the Port is set correctly in Tools .Port and make sure that the Serial Monitor is set to 9600 baud. "
   ]
  },
  {
   "cell_type": "markdown",
   "metadata": {},
   "source": [
    "## Part 2. Build a MATLAB script to turn the Arduino LED on and off\n",
    "\n",
    "If the Arduino is working correctly and the LED can be turned on and off by typing H and L in the Serial Monitor, close the Serial Monitor. If the Serial Monitor is left open, Python will not be able to talk to the Arduino. \n",
    "Now construct a Python script called LED.py which will turn the Arduino LED on and off, just like you were able to turn the LED on and off with the Serial Monitor. To do this, you have to program Python to push the characters L and H over the Serial line to the Arduino. "
   ]
  },
  {
   "cell_type": "markdown",
   "metadata": {},
   "source": [
    "At the start of your Python script include the standard header with a %% line for a title, and % lines for your name, the lab number and lab name, course quarter and date. Below the header include a new %% section with lines for clc, clear and close all. \n",
    "\n",
    "The third ## section of your script needs to set up the serial line for communication. Note the Port = ‘COM4’ line must be set according to the port the Arduino is connected to. Insert the code below: \n",
    "\n",
    "Before you run the Open serial port section of code, you need to put in a section of code at the end of your MATLAB script to close the serial port. If the serial port is not closed, you will not be able to use the serial port the next time your script runs. When you have problems connecting to the Arduino with Python, often it is because the serial line was not closed. Insert the section of code below at the end of your Python script. \n",
    "\n",
    "Run the entire script to ensure there are no errors and you can open and close the serial port. A common error is the serial port COM# is not set correctly. \n",
    "Next build a %% section of code between the Open serial section and Close serial sections. This section of code will send an H character over the serial line waits a second and then sends a L character over the serial line and waits another second. The code below is designed to blink the Arduino LED on and o. 10 times "
   ]
  },
  {
   "cell_type": "markdown",
   "metadata": {},
   "source": [
    "Run the entire Python script and watch the Arduino LED blink 10 times. A common problem is the serial port was not closed before the script starts. Make sure the Arduino Serial Monitor is closed and try calling >>> fclose(a); delete(a); clear a; on the command line. \n",
    "Once Python successfully blinks the Arduino LED, use your Python coding skills to ask the user for input and turn on or o. the Arduino LED based on the user input. Do this using the input() function running in a while loop. Within the loop, add an if statement that will allow the program to break out of the loop and go to the Close serial section. Remember the serial port must be closed for Python to use the serial line again. Below is an example if statement: \n",
    "\n",
    "When your Python script runs, the user should see functionality like below: "
   ]
  },
  {
   "cell_type": "markdown",
   "metadata": {},
   "source": [
    "### Part 3. Measure sensor output with an Arduino and MATLAB \n",
    "\n",
    "3.1 Wire a potentiometer dial to the Arduino \n",
    "\n",
    "Once you have completed the .rst two parts of the lab and can turn the Arduino LED on and OFF using MATLAB, the next part of the lab is to use read a sensor (a potentiometer dial) connected to the Arduino and plot the data. To do this, you .rst need to connect connect the potentiometer to the Arduino. You should leave your LED and resistor attached as you will use this with the po­tentiometer. Unplug the Arduino USB cable and connect the small blue potentiometer dial to your Arduino as shown below. Also see the SIK GUIDE page 25 and the SparkFun Iventor’s kit online guide: https://learn.sparkfun.com/tutorials/sik-experiment-guide-for-arduino—v33/experiment-2-reading­a-potentiometer: \n",
    "\n",
    "3.2 Load the Arduino Potentiometer sketch onto the Arduino \n",
    "\n",
    "Open a new sketch in the Arduino IDE by going to File .New. Copy the code below into the new sketch and save the sketch as potentiometer read.ino \n",
    "\n",
    "Plug the Arduino USB cable back into the computer. In the Arduino IDE window that contains the potentiometer read.ino sketch, click the check mark to Verify the click the arrow to Upload the potentiometer read.ino sketch to the Arduino. \n",
    "\n",
    "3.3 Twist the potentiometer to turn the LED connected to the Arduino on and off\n",
    "\n",
    "After the potentiometer read.ino sketch is uploaded to the Arduino, twist the small blue potentiometer dial back and forth and watch the LED turn on and o.. The on/o. point should be about half way through the little blue potentiometer’s rotation. If the LED does not turn on and o., double check your wiring and try uploading the sketch again. Ensure the Serial Monitor is closed and that MATLAB closed the Serial Port before uploading. \n",
    "\n",
    "3.4 Use the Arduino Serial Monitor and Serial Plotter to see the potentiometer reading\n",
    "\n",
    "Open the Arduino Serial Monitor in the Arduino IDE by going to Tools .Serial Monitor. You should see numbers scrolling down the Serial Monitor if the potentiometer read.ino sketch is working properly. Twist the little blue potentiometer and watch the numbers scrolling down the Serial Monitor change. Then close the Serial Monitor and open the Arduino Serial Plotter by going to Tools .Serial Plotter. You should see a plot with a moving line. Twist the little blue potentiometer and observe the line on the plot move up and down. If the Serial Plotter works, close the Serial Plotter Window. If it isn’t working, make sure the COM port is set correctly in the Arduino IDE, and ensure the serial port was closed by MATLAB. The Arduino Serial Monitor and Serial Plotter can not be open at the same time and both need to be closed before MATLAB can communicate with the Arduino. "
   ]
  },
  {
   "cell_type": "markdown",
   "metadata": {},
   "source": [
    "### Part 4. Build a MATLAB script to record and plot the potentiometer level \n",
    "\n",
    "After you successfully turn the Arduino LED on and off. by twisting the little blue potentiometer and can see the plot line moving up and down in the Serial Plotter, build a Python script which reads and plots the potentiometer value. \n",
    "\n",
    "4.1 Read the potentiometer value with Python \n",
    "\n",
    "To read the potentiometer value with Python a new script called potentiometer.m should be created. At the start of the Python script include the standard header with a \"\"\" \"\"\" section line for a title, and % lines for your name, the lab number and name, course/quarter and date. Below the header include a new %% section with lines for clc, clear and close all. \n",
    "\n",
    "The third ## section of the script needs to set up the serial line for communication. Note the Port = ‘COM4’ line must be set according to the port the Arduino is connected to. The final %% section of the script needs to close the serial port. Insert the code below, noting that the code to read the potentiometer has not been constructed yet: \n",
    "\n",
    "To read the potentiometer value with Python, we need to set up a matrix to store the data and use a loop to record the data and save data points as values in matrix. Insert the code below into the middle of the script. \n",
    "\n",
    "\n",
    "Run the script and twist the potentiometer. You should see the potentiometer values running by in the Python REPL command window. \n",
    "\n",
    "Finally fill in the remaining two sections in the script. Include a section that asks a user for how long to collect data. Limit the user to a maximum of 60 seconds. Then include a section that plots the potentiometer reading vs. time. Note that the data is recorded every 10 milliseconds. \n",
    "\n",
    "When the Python script runs, it should function in the following way: "
   ]
  },
  {
   "cell_type": "markdown",
   "metadata": {},
   "source": [
    "### Part 5. Going further \n",
    "\n",
    "If you have time, there is some additional functionality you can add to your Python scripts \n",
    "\n",
    "Measure the amount of time the LED is on and off. \n",
    "\n",
    "Plot the amount of time the LED is on and o. Connect a photocell to the Arduino and plot photocell readings with Python \n",
    "\n",
    "Build a dynamic plot using an animated line that changes as the potentiometer value changes "
   ]
  },
  {
   "cell_type": "markdown",
   "metadata": {},
   "source": [
    "## Deliverables\n",
    "\n",
    "Make sure your group’s Python and Arduino code are well commented and sectioned. Ensure the variable names are descriptive and there is enough documentation for another group of students to reuse the code without much trouble. Each student’s submission for the lab should be one of the following files (you do not need to submit all the .py files used in the lab, just the .py files you were primarily responsible for). Upload these two files to the D2L Lab 8 Uploads folder. \n",
    "\n",
    "python_LED.py \n",
    "\n",
    " \n",
    "python_potentiometer.py \n"
   ]
  },
  {
   "cell_type": "markdown",
   "metadata": {},
   "source": [
    "#### _By P. Kazarinoff, Portland Community College, 2018_"
   ]
  },
  {
   "cell_type": "code",
   "execution_count": null,
   "metadata": {},
   "outputs": [],
   "source": []
  }
 ],
 "metadata": {
  "kernelspec": {
   "display_name": "Python 3",
   "language": "python",
   "name": "python3"
  },
  "language_info": {
   "codemirror_mode": {
    "name": "ipython",
    "version": 3
   },
   "file_extension": ".py",
   "mimetype": "text/x-python",
   "name": "python",
   "nbconvert_exporter": "python",
   "pygments_lexer": "ipython3",
   "version": "3.6.5"
  }
 },
 "nbformat": 4,
 "nbformat_minor": 2
}
