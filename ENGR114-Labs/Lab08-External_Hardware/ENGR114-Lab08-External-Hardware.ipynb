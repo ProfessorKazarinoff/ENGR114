{
 "cells": [
  {
   "cell_type": "markdown",
   "metadata": {},
   "source": [
    "# Lab 08 - External Hardware"
   ]
  },
  {
   "cell_type": "markdown",
   "metadata": {},
   "source": [
    "[image of Arduino and computer]"
   ]
  },
  {
   "cell_type": "markdown",
   "metadata": {},
   "source": [
    "## Prelab\n",
    "\n",
    "Before starting the lab, familiarize yourself with what an Arduino is and what an Arduino can be used for. You will find numerous projects if you Google “Arduino project”. Try to download the Arduino IDE using the following link: \n",
    "\n",
    " > https://www.arduino.cc/en/Main/Software\n",
    " \n",
    "Be sure to select: Windows ZIP for non-admin install as new software can not be installed on lab computers without administrator privileges. \n",
    "\n",
    "![Arduino IDE Download Page](images/arduino_download_page.png)\n",
    "\n",
    "Investigate the Arudino IDE (launch by double clicking Arduino.exe). See what is available in the [File] --> [Examples] menu. Before lab, also familiarize yourself with the concept of serial communication. In this lab, Python will communicate with an Arduino over a serial connection. Serial communication is one of the older computer hardware communication specifications and a precursor to USB (universal serial bus) communication used by keyboards, mice thumb drives etc. \n",
    "\n",
    "Part of this lab will follow a tutorial from the Sparkfun Inventor’s Kit (https://www.sparkfun.com/products/retired/12060) click on the Documents link on the product page to review the guide. "
   ]
  },
  {
   "cell_type": "markdown",
   "metadata": {},
   "source": [
    "## Lab\n",
    "\n",
    "For this group lab assignment, your group will use Python to interact with an Arduino to dynamically turn on and off an LED and then use Python to collect and plot sensor input. There will be two Python scripts to construct and two Arduino scripts used to complete these tasks. At the end of the lab, you will be able to use Python to interact with external hardware.\n",
    "\n",
    "An outline of the steps to complete this lab is below:"
   ]
  },
  {
   "cell_type": "markdown",
   "metadata": {},
   "source": [
    "### Part 1: Turn on/off an LED connected to an Arduino using Python \n",
    "\n",
    "(a) Download the Arduino IDE \n",
    "\n",
    "(b) Wire an LED and resistor to the Arduino \n",
    "\n",
    "(c) Load the Arduino Example sketch Blink to the Arduino. Con.rm your Arduino and LED blinks \n",
    "\n",
    "(d) Load the Arduino Example sketch PhysicalPixel.ino \n",
    "\n",
    "(e) Use the serial monitor to turn the Arduino LED on and o. \n",
    "\n",
    "(f) Build a Python script and use Python to turn the Arduino LED on and off. "
   ]
  },
  {
   "cell_type": "markdown",
   "metadata": {},
   "source": [
    "### Part 2: Measure sensor output with an Arduino and Python\n",
    "\n",
    "(a) Wire a little blue potentiometer dial to the Arduino \n",
    "\n",
    "(b) Load the Arduino potentiometer.ino sketch onto the Arduino \n",
    "\n",
    "(c) Twist the little blue potentiometer to turn the LED connected to the Arduino on and off. \n",
    "\n",
    "(d) Build a Python script and to record the potentiometer level and draw a plot. \n",
    "\n",
    "(e) Upload your Python scripts to D2L. "
   ]
  },
  {
   "cell_type": "markdown",
   "metadata": {},
   "source": [
    "You will complete this lab in groups. Below are details for each of the steps outlined above. \n",
    "\n",
    "### Part 1. Turn an LED on and off with Python and an Arduino \n",
    "\n",
    "#### (a) Download the Arduino IDE \n",
    "\n",
    "Download the Arduino IDE using the following link: \n",
    "\n",
    " > https://www.arduino.cc/en/Main/Software \n",
    "\n",
    "Scroll down the page to the Download the Arduino IDE section. Be sure to select: Windows ZIP for for non-admin install as new software can not be installed on lab computers without administrator privileges. You can select JUST DOWNLOAD from the donation screen. Extract the downloaded .zip folder to your thumb drive or the desktop. \n",
    "\n",
    "#### (b) Wire an LED to the Arduino \n",
    "\n",
    "From the Arduino kit, take out an LED, a 330 Ohm resistor and two jumper wires. Connect the LED, resistor and wires as shown below. Also see the SIK GUIDE page 19 and the SparkFun Iventor’s kit online guide: \n",
    "https://learn.sparkfun.com/tutorials/sik-experiment-guide-for-arduino—v33/experiment-1-blinking-an-led\n",
    "\n",
    "![Arduino with LED Frizting](images/Arduino_LED_fritzing.png)\n",
    "\n",
    "#### (c) Upload the Arduino example sketch blink.ino onto the Arduino. \n",
    "\n",
    "Open the Arduino IDE folder and open the Arduino.exe program. Open the Arduino Blink.ino sketch by going to: [File] -->  [Examples] --> [Basics] -->  [01.Blink]\n",
    "\n",
    "Connect the Arduino to the computer using the red USB cable. Note that USB ports in monitors sometimes do not work correctly. Use a USB which is part of the computer. In the Arduino IDE Window that contains the Blink sketch, click the check mark to Verify, then click the arrow to Upload. \n",
    "\n",
    "Once the upload is complete, the red LED on the Arduino should blink on and off. If you don’t see the Arduino's LED blinking, you need to do some trouble shooting. Check the COM Port or try unplugging and re-plugging in the Arduino. \n",
    "\n",
    "#### (d) Load the Arduino example sketch PhysicalPixel \n",
    "\n",
    "Open the Arduino PhysicalPixel.ino sketch by going to: [File] --> [Examples] --> [04.Communication] -->  [PhysicalPixel]. Once again, In the Arduino IDE Window that contains the PhysicalPixel sketch, click the check mark to Verify then click the arrow to Upload. \n",
    "\n",
    "#### (e) Use the serial monitor to turn the Arduino LED on and off\n",
    "\n",
    "In the Arduino IDE Window that contains the PhysicalPixel sketch, open the Serial Monitor by going to [Tools] --> [Serial Monitor].\n",
    "\n",
    "In the Serial Monitor type: ```H``` and click [Send] (or press ENTER). Then type: ```L``` and click [Send] (or press ENTER). You should see the Arduino LED switch on and off. If the LED does not turn on and off, make sure that the Port is set correctly in [Tools] --> [Port] and make sure that the Serial Monitor is set to 9600 baud. "
   ]
  },
  {
   "cell_type": "markdown",
   "metadata": {},
   "source": [
    "### Part 2. Build a MATLAB script to turn the Arduino LED on and off\n",
    "\n",
    "If the Arduino is working correctly and the LED can be turned on and off by typing ```H``` and ```L``` in the Serial Monitor, close the Serial Monitor. If the Serial Monitor is left open, Python will not be able to talk to the Arduino.\n",
    "\n",
    "Now construct a Python script called LED.py which turns the Arduino LED on and off, just like you were able to turn the LED on and off with the Serial Monitor. To do this, you have to program Python to send the characters ```L``` and ```H``` over the Serial line to the Arduino. "
   ]
  },
  {
   "cell_type": "markdown",
   "metadata": {},
   "source": [
    "At the start of your Python script include a docstring (```\"\"\" \"\"\"```) section the contains a line with the program title, and seperate lines that contain your name, the lab number and lab name, course quarter and date. Below the docstring, start your script. \n",
    "\n",
    "The first code section of your script needs to include imports for the PySerial library. Include the line:\n",
    "\n",
    "```\n",
    "import serial\n",
    "import time\n",
    "```\n",
    "\n",
    "\n",
    "The next section of your script needs to set up the serial line for communication. Note the Port = ‘COM4’ line must be set according to the port the Arduino is connected to. Insert the code below: \n",
    "\n",
    "```\n",
    "ser = serial.Serial('COM4')  # open serial port\n",
    "print(ser.name)              # check which port was really used\n",
    "\n",
    "# code to run          \n",
    "\n",
    "ser.close() \n",
    "```\n",
    "\n",
    "Before you run the open serial port section of code, ensure put in place the line to close the serial port. If the serial port is not closed, you will not be able to use the serial port the next time your script runs. When you have problems connecting to the Arduino with Python, often it is because the serial line was not closed. Insert the section of code below between the opening and closing of the serial port.\n",
    "\n",
    "```\n",
    "# code to run \n",
    "ser.write(b'H')\n",
    "time.sleep(1)\n",
    "ser.write(b'L')\n",
    "time.sleep(1)\n",
    "```\n",
    "\n",
    "\n",
    "Run the entire script to ensure there are no errors and you can open and close the serial port. A common error is the serial port COM# is not set correctly. \n",
    "\n",
    "Next build write a new section of code between the Open serial section and Close serial sections. This section of code will send an H character over the serial line waits a second and then sends a L character over the serial line and waits another second. The code below is designed to blink the Arduino LED on and off 10 times.\n",
    "\n",
    "```\n",
    "# code to run \n",
    "for t in range(10);\n",
    "    ser.write(b'H')\n",
    "    time.sleep(1)\n",
    "    ser.write(b'L')\n",
    "    time.sleep(1)\n",
    "```"
   ]
  },
  {
   "cell_type": "markdown",
   "metadata": {},
   "source": [
    "Run the entire Python script and watch the Arduino LED blink 10 times. A common problem is the serial port was not closed before the script starts. Make sure the Arduino Serial Monitor is closed and try running ```>>> ser.close()``` at the Python REPL.\n",
    "\n",
    "Once Python successfully blinks the Arduino LED, use your Python coding skills to ask the user for input and turn on or off the Arduino's LED based on the user input. Do this using the ```input()``` function running in a while loop. Within the loop, add an if statement that will allow the program to break out of the loop and go to the ```ser.close()``` section. Remember the serial port must be closed for Python to use the serial line again. Below is an example if statement: \n",
    "\n",
    "```\n",
    "if user_input == 'q':\n",
    "    break\n",
    "    \n",
    "```\n",
    "\n",
    "When your Python script runs, the user should see functionality like below:\n",
    "\n",
    "```\n",
    ">>> Type H to turn on the LED, L to turn off the LED or q to quit: H\n",
    "[LED TURNS ON]\n",
    ">>> Type H to turn on the LED, L to turn off the LED or q to quit: L\n",
    "[LED TURNS OFF]\n",
    ">>> Type H to turn on the LED, L to turn off the LED or q to quit: q\n",
    "[PROGRAM TERMINATES]\n",
    "\n",
    "```"
   ]
  },
  {
   "cell_type": "markdown",
   "metadata": {},
   "source": [
    "### Part 3. Measure sensor output with an Arduino and MATLAB \n",
    "\n",
    "#### (a) Wire a potentiometer dial to the Arduino \n",
    "\n",
    "Once you have completed the first two parts of the lab and can turn the Arduino LED on and OFF using Python, the next part of the lab is to use read a sensor (a potentiometer dial) connected to the Arduino and plot the data. \n",
    "\n",
    "To do this, you first need to connect connect the potentiometer to the Arduino. You should leave your LED and resistor attached as you will use this with the potentiometer. Unplug the Arduino USB cable and connect the small blue potentiometer dial to your Arduino as shown below. Also see the SIK GUIDE page 25 and the SparkFun Iventor’s kit online guide: https://learn.sparkfun.com/tutorials/sik-experiment-guide-for-arduino—v33/experiment-2-reading-a-potentiometer \n",
    "\n",
    "#### (b) Load the Arduino Potentiometer sketch onto the Arduino \n",
    "\n",
    "Open a new sketch in the Arduino IDE by going to [File] --> [New]. Copy the code below into the new sketch and save the sketch as potentiometer **read.ino** \n",
    "\n",
    "```\n",
    "// potentiometer_read.ino\n",
    "// reads a potentiometer and sends value over serial\n",
    "int sensorPin = A0; // The potentiometer is connected to analog pin 0\n",
    "int ledPin = 13; // The LED is connected to digital pin 13\n",
    "int sensorValue; // an integer variable to store the potentiometer reading\n",
    "void setup() // this function runs once when the sketch starts\n",
    "{\n",
    "// make the LED pin (pin 13) an output pin\n",
    "pinMode(ledPin, OUTPUT);\n",
    "// initialize serial communication:\n",
    "Serial.begin(9600);\n",
    "}\n",
    "void loop() // this function runs repeatedly after setup() finishes\n",
    "{\n",
    "sensorValue = analogRead(sensorPin); // read the voltage at pin A0\n",
    "Serial.println(sensorValue); // Output sensor value to Serial Monitor\n",
    "if (sensorValue < 500) { // if sensor output is less than 500,\n",
    "digitalWrite(ledPin, LOW); } // Turn the LED off\n",
    "else { // if sensor output is greater than 500\n",
    "digitalWrite(ledPin, HIGH); } // Keep the LED on\n",
    "delay(100); // Pause 100 milliseconds before next reading\n",
    "}\n",
    "\n",
    "```\n",
    "\n",
    "Plug the Arduino USB cable back into the computer. In the Arduino IDE window that contains the potentiometer **read.ino** sketch, click the check mark to Verify the click the arrow to Upload the potentiometer **read.ino** sketch to the Arduino. \n",
    "\n",
    "#### (c) Twist the potentiometer to turn the LED connected to the Arduino on and off\n",
    "\n",
    "After the potentiometer **read.ino** sketch is uploaded to the Arduino, twist the small blue potentiometer dial back and forth and watch the LED turn on and off. The on/off point should be about half way through the little blue potentiometer’s rotation. If the LED does not turn on and off, double check your wiring and try uploading the sketch again. Ensure the Serial Monitor is closed and that Python closed the Serial Port before uploading. \n",
    "\n",
    "#### (d) Use the Arduino Serial Monitor and Serial Plotter to see the potentiometer reading\n",
    "\n",
    "Open the Arduino Serial Monitor in the Arduino IDE by going to [Tools] --> [Serial Monitor]. You should see numbers scrolling down the Serial Monitor if the potentiometer **read.ino** sketch is working properly. Twist the little blue potentiometer and watch the numbers scrolling down the Serial Monitor change.\n",
    "\n",
    "Next, close the Serial Monitor and open the Arduino Serial Plotter by going to [Tools] --> [Serial Plotter]. You should see a plot with a moving line. Twist the little blue potentiometer and observe the line on the plot move up and down. If the Serial Plotter works, close the Serial Plotter Window. If Serial Plotter isn’t working, make sure the COM port is set correctly in the Arduino IDE, and ensure the serial port was closed by Python. The Arduino Serial Monitor and Serial Plotter can not be open at the same time and both need to be closed before Python can communicate with the Arduino. "
   ]
  },
  {
   "cell_type": "markdown",
   "metadata": {},
   "source": [
    "### Part 4. Build a MATLAB script to record and plot the potentiometer level \n",
    "\n",
    "After you successfully turn the Arduino LED on and off. by twisting the little blue potentiometer and can see the plot line moving up and down in the Serial Plotter, build a Python script which reads and plots the potentiometer value. \n",
    "\n",
    "#### (a) Read the potentiometer value with Python \n",
    "\n",
    "To read the potentiometer value with Python, a new script called **potentiometer.py** should be created. At the start of the Python script include the standard docstring header within triple quotes ```\"\"\" \"\"\"``` Include a line for a title, and lines for your name, the lab number and name, course/quarter and date. \n",
    "\n",
    "The first lines of code in the script need to import the PySerial package and the time module:\n",
    "\n",
    "```\n",
    "import serial\n",
    "import time\n",
    "```\n",
    "\n",
    "The next section of the script needs to set up the serial line for communication and read the sensor value of the potentiometer. Note the Port (```'COM4'```) must be set according to the port the Arduino is connected to. \n",
    "\n",
    "```\n",
    "data = [] # create an empty list to store the data\n",
    "for i in range(50):\n",
    "    with serial.Serial('COM4', 9800, timeout=1) as ser:\n",
    "        line = ser.readline()   # read a '\\n' terminated line\n",
    "        string = line.decode()  # convert the byte string to a unicode string\n",
    "        print(string)\n",
    "        data.append(float(string)) # convert the unicode string to a float and add to the data list\n",
    "        time.sleep(0.1) # wait 0.1 seconds before reading the next line\n",
    "```\n",
    "\n",
    "Run the script and twist the potentiometer. You should see the potentiometer values running by in the Python REPL command window. \n",
    "\n",
    "Finally fill in the remaining two sections in the script. Include a section that asks a user for how long to collect data. Limit the user to a maximum of 60 seconds. Then include a section that plots the potentiometer reading vs. time. Note that the data is recorded every 10 milliseconds. \n",
    "\n",
    "When the Python script runs, it should function in the following way:\n",
    "\n",
    "```\n",
    "Enter the number of seconds to record data (0 - 60) : 10\n",
    "```\n",
    "\n",
    "[plot]"
   ]
  },
  {
   "cell_type": "markdown",
   "metadata": {},
   "source": [
    "### Part 5. Going further \n",
    "\n",
    "If you have time, there is some additional functionality you can add to your Python script: \n",
    "\n",
    " * Measure the amount of time the LED is on and off. \n",
    "\n",
    " * Plot the amount of time the LED is on and off. Connect a photocell to the Arduino and plot photocell readings with Python \n",
    "\n",
    " * Build a dynamic plot using an animated line that changes as the potentiometer value changes "
   ]
  },
  {
   "cell_type": "markdown",
   "metadata": {},
   "source": [
    "## Deliverables\n",
    "\n",
    "Make sure your group’s Python and Arduino code are well commented and sectioned. Ensure the variable names are descriptive and there is enough documentation for another group of students to reuse the code without much trouble. Each student’s submission for the lab should be one of the following files (you do not need to submit all the .py files used in the lab, just the .py files you were primarily responsible for). Upload these two files to the D2L Lab 8 Uploads folder. \n",
    "\n",
    "python_LED.py \n",
    "\n",
    " \n",
    "python_potentiometer.py \n"
   ]
  },
  {
   "cell_type": "markdown",
   "metadata": {},
   "source": [
    "#### _By P. Kazarinoff, Portland Community College, 2018_"
   ]
  },
  {
   "cell_type": "code",
   "execution_count": null,
   "metadata": {},
   "outputs": [],
   "source": []
  }
 ],
 "metadata": {
  "kernelspec": {
   "display_name": "Python 3",
   "language": "python",
   "name": "python3"
  },
  "language_info": {
   "codemirror_mode": {
    "name": "ipython",
    "version": 3
   },
   "file_extension": ".py",
   "mimetype": "text/x-python",
   "name": "python",
   "nbconvert_exporter": "python",
   "pygments_lexer": "ipython3",
   "version": "3.6.4"
  }
 },
 "nbformat": 4,
 "nbformat_minor": 2
}
