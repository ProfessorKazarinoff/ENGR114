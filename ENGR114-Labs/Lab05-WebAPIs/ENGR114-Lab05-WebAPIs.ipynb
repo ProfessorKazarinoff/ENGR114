{
 "cells": [
  {
   "cell_type": "markdown",
   "metadata": {},
   "source": [
    "# Lab 06 - Web API’s"
   ]
  },
  {
   "cell_type": "markdown",
   "metadata": {},
   "source": [
    "## Prelab\n",
    "\n",
    "Before starting the lab, read through this entire document. Then review the concept of a web API. Go to https://thingspeak.com/pages/learn_more and read up on the concept of the Internet of Things (IoT) and how Thingspeak.com is related to IoT. Browse to the public weather station in Natick, MA at Mathwork’s Headquarters (the company that makes MATLAB) at https://thingspeak.com/channels/12397. This is the IoT device we will interact with using a web API. "
   ]
  },
  {
   "cell_type": "markdown",
   "metadata": {},
   "source": [
    "## Lab\n",
    "\n",
    "For this group lab assignment, your group will use Python to interact with a web API to dynamically collect weather information from a Natick, MA weather station and display it to the user. The program will ask the user if they want to plot temperature, humidity, rainfall or pressure. Then the program will ask the user for the number of data points they want to plot. Finally, the program will produce a plot of the selected weather data from the Natick, MA weather station. "
   ]
  },
  {
   "cell_type": "markdown",
   "metadata": {},
   "source": [
    "### Example of Final Functionality\n",
    "\n",
    "Below is an example of how the final lab7.py script will work:\n",
    "    \n",
    "```\n",
    "\n",
    "Which weather type (temperature, humidity, rainfall or pressure)? temperature\n",
    "\n",
    "How many data points (maximum of 8000)? 800\n",
    "\n",
    "```\n",
    "\n",
    "![Plot of Temperature](images/plot_of_weather_data.png)"
   ]
  },
  {
   "cell_type": "markdown",
   "metadata": {},
   "source": [
    "### Outline of steps\n",
    "\n",
    "In order for you to accomplish this task, your code will need to do a couple of things: \n",
    " * Validate the user input so that the user can only select certain options: \n",
    "  * Weather data types: temperature, humidity, pressure or rainfall \n",
    "  * Number of data points: maximum of 8000, minimum of 1, integers only \n",
    " * Call the ThingSpeak web API to import the data from the weather station in Natick, MA. \n",
    " * Clean up the data received from the ThingSpeak web API and produce a simple 1D array or series which contains the data points. \n",
    " * Build a plot that displays the data the user asked for. The plot should contain the data point number on the x-axis and the weather data on the y-axis. Include axis labels (with units) and a descriptive title. "
   ]
  },
  {
   "cell_type": "markdown",
   "metadata": {},
   "source": [
    "### Functions\n",
    "\n",
    "You will accomplish this task in a group. Each group member is responsible for creating one of four functions: \n",
    "\n",
    "#### user_input() function\n",
    "\n",
    "```user_input()``` A function to gather user input and validate it. The input of this function will be null (), as the requests for user input will come from within the body of the function. Include error checking as part of the function. The output of the function will be a 1D matrix used by the ```call_API()``` function below. \n",
    "\n",
    "#### call_API() function\n",
    "\n",
    "```call_API()``` A function to call the ThingSpeak Web API to retrieve the desired weather data. See http://www.mathworks.com/help/thingspeak/get-channel-field-feed.html and Pandas ```read_csv()``` function. \n",
    "\n",
    "An example web API call is: ```df = pd.read_csv('https://api.thingspeak.com/channels/12397/fields/4.csv?results=20')``` Only the desired weather data type and number of data points should be retrieved. Note the input for this function will come from the ```user_input()``` function above and the output will be sent to the ```clean_data()``` function below. \n",
    "\n",
    "#### clean_data() function\n",
    "\n",
    "```clean_data()``` A function to clean up the data and simplify it to a 1D matrix. See the Pandas documentation for information on how to convert a column of a Panda's dataframe into a Python list or Numpy array. Try using: df = pd.read_csv('https://api.thingspeak.com/channels/12397/fields/4.csv?results=20') to bring in a sample data set. Note the input of this function comes from the ```call_API()``` function above and the output needs to be a list or 1D array that will be used by the ```plot_data()``` function below. \n",
    "\n",
    "#### plot_data()function\n",
    "\n",
    "```plot_data()``` A function to plot the data. Data point number on the x-axis and the weather data on the y-axis. Axis labeled with units. Construct the title and y-axis labels dynamically as these will change based what the user selects. Note the input of this function will be a list or 1D array from the ```clean_data()``` function above as well as some of the user input gathered by the ```user_input()``` function. The output of this function will be a null (there will be no ```return``` statement, but within the body of the function, the plot will be called. "
   ]
  },
  {
   "cell_type": "markdown",
   "metadata": {},
   "source": [
    "### Final Notebook\n",
    "\n",
    "After sharing the four functions among your group, each student needs to create their own notebook (.ipynb-file) that imports and calls the four functions and completes the programming task. The final notebook should be run, data entered and a plot produced.\n",
    "\n",
    "Your group will have to decide on a couple things: \n",
    " \n",
    " * Who is going to construct each function? \n",
    " \n",
    " * How will your group to share code? \n",
    " \n",
    " * What will be the standard function inputs and outputs? The output from one function is needed as input for another function. \n",
    " \n",
    "Ensure your functions contain doc string descriptions and examples. Ensure all the code is sectioned and commented."
   ]
  },
  {
   "cell_type": "markdown",
   "metadata": {},
   "source": [
    "## Deliverables\n",
    "\n",
    "Each student’s submissions for the lab must contain the following files (all four function files and your Python script that calls the four functions) regardless of which function you constructed. Upload these 5 files to the D2L Lab 7 Uploads folder. \n",
    "\n",
    " * user_input.py \n",
    "\n",
    " * call_API.py\n",
    "\n",
    " * clean_data.py\n",
    "\n",
    " * plot_data.py\n",
    "\n",
    " * lab7.ipynb"
   ]
  },
  {
   "cell_type": "markdown",
   "metadata": {},
   "source": [
    "#### _By P. Kazarinoff, Portland Community College, 2018_"
   ]
  }
 ],
 "metadata": {
  "kernelspec": {
   "display_name": "Python 3",
   "language": "python",
   "name": "python3"
  },
  "language_info": {
   "codemirror_mode": {
    "name": "ipython",
    "version": 3
   },
   "file_extension": ".py",
   "mimetype": "text/x-python",
   "name": "python",
   "nbconvert_exporter": "python",
   "pygments_lexer": "ipython3",
   "version": "3.6.4"
  }
 },
 "nbformat": 4,
 "nbformat_minor": 2
}
