{
 "cells": [
  {
   "cell_type": "markdown",
   "metadata": {},
   "source": [
    "# Lab 02 - Data Types"
   ]
  },
  {
   "cell_type": "markdown",
   "metadata": {},
   "source": [
    "## Prelab\n",
    "\n",
    "Read this entire document. Read through _Chapter 4 Data Types and Variables_ in the text. Familiarize yourself with the vocabulary: \n",
    "\n",
    " * data type\n",
    " * integer\n",
    " * float\n",
    " * complex number\n",
    " * boolean\n",
    " * string\n",
    " * list\n",
    " * tuple\n",
    " * dictionary\n",
    " \n",
    "Pay particular attention to the sections on _String Indexing_ and _String Slicing_. Complete the pre-lab examples using string indexing and string slicing.\n",
    "\n",
    "Read the blog post: [https://pythonforundergradengineers.com/unicode-characters-in-python.html](https://pythonforundergradengineers.com/unicode-characters-in-python.html). You will utilize Greek symbols in this lab"
   ]
  },
  {
   "cell_type": "markdown",
   "metadata": {},
   "source": [
    "## Lab\n",
    "\n",
    "In this lab, you will investigate different data types in Python and utilize indexing and slicing of lists and strings."
   ]
  },
  {
   "cell_type": "markdown",
   "metadata": {},
   "source": [
    "### Strings and Comments\n",
    "\n",
    "A _string_ in computer programming is a sequence of letters, numbers, spaces and punctuation. In Python, strings are defined with single quotes ```' '``` or double quotes ```\" \"```. \n",
    "\n",
    "A _comment_ in computer programming is a piece of text for a human to read that does not get executed or run by a computer. In Python, comments are defined by starting a line with the pound sign ```#```.\n",
    "\n",
    "Below are some examples of strings and comments used in Python code"
   ]
  },
  {
   "cell_type": "code",
   "execution_count": 11,
   "metadata": {},
   "outputs": [
    {
     "name": "stdout",
     "output_type": "stream",
     "text": [
      "Hi Engineers!\n",
      "12345\n",
      "Teachers always say 'do your homework', at least that's what I've heard\n",
      "Ω or Omega\n"
     ]
    }
   ],
   "source": [
    "salutation=\"Hi Engineers!\"\n",
    "# this line is a comment\n",
    "print(salutation)\n",
    "print(\"12345\") #printing numbers this way makes them a string of characters\n",
    "# printing text that contains a quotation and quotation marks\n",
    "print(\"Teachers always say 'do your homework', at least that's what I've heard\")\n",
    "# printing a unicode character\n",
    "print(\"\\u03a9 or Omega\")"
   ]
  },
  {
   "cell_type": "markdown",
   "metadata": {},
   "source": [
    "#### Exercises\n",
    "\n",
    " 1. Print your name and add a comment that it's your name.\n",
    " 2. Print \\'\\\\/\\\\/\\\\/\\\\/\\\\/\\\\/\\'\n",
    " 3. Print \"Ω 13\"\n",
    " 4. Print the first three lower-case letters of the Greek alphabet.\n"
   ]
  },
  {
   "cell_type": "markdown",
   "metadata": {},
   "source": [
    "### Integers, Floats and Complex Numbers\n",
    "\n",
    "Python has three data types for numbers: _integers_, _floats_, and _complex numbers_. The code below uses these three data types."
   ]
  },
  {
   "cell_type": "code",
   "execution_count": 9,
   "metadata": {},
   "outputs": [
    {
     "name": "stdout",
     "output_type": "stream",
     "text": [
      "1\n",
      "0\n",
      "-6\n",
      "<class 'int'>\n",
      "1.3\n",
      "4.0\n",
      "0.8\n",
      "5000000.0\n",
      "-1.2e-08\n",
      "<class 'float'>\n",
      "3.141592653589793\n",
      "3.14\n",
      "2.718281828459045\n",
      "1.4142135623730951\n",
      "(1.1+7j)\n",
      "<class 'complex'>\n",
      "[0.  0.2 0.4 0.6 0.8 1. ]\n"
     ]
    }
   ],
   "source": [
    "import numpy as np #this library will be needed for constants and functions\n",
    "\n",
    "# Integers\n",
    "print(1)\n",
    "print(0)\n",
    "print(-6)\n",
    "print(type(-6))\n",
    "\n",
    "# Floats\n",
    "print(1.3)\n",
    "print(4.)\n",
    "print(.8)\n",
    "print(5.e6)\n",
    "x = -12.e-9\n",
    "print(x)\n",
    "print(type(x)) #let's check the number type with this built in function\n",
    "\n",
    "print(np.pi) #this constant is in the numpy library\n",
    "print(round(np.pi,2)) #round to two place after the decimal point\n",
    "print(np.e)\n",
    "print(np.sqrt(2))\n",
    "\n",
    "# Complex Numbers\n",
    "x = 1.1+7.0j\n",
    "print(x)\n",
    "print(type(x)) \n",
    "numbers = np.linspace(0, 1, 6)\n",
    "print(numbers)"
   ]
  },
  {
   "cell_type": "markdown",
   "metadata": {},
   "source": [
    "#### Exercises\n",
    "\n",
    " 1. Print 2.3 billion\n",
    " 2. Search for the numpy function for cube root, and print the cube root of 8.\n",
    " 3. Print 0.01 microns (include the SI unit for microns)\n",
    " "
   ]
  },
  {
   "cell_type": "markdown",
   "metadata": {},
   "source": [
    "### Boolean Variables\n",
    "\n",
    "In computer programming, a _boolean_ is a data type that can only be two values: ```True``` or ```False```. Combining boolean variables is called boolean logic or boolean arithmetic\n",
    "\n",
    "The code below demonstrates boolean variables"
   ]
  },
  {
   "cell_type": "code",
   "execution_count": 10,
   "metadata": {},
   "outputs": [
    {
     "name": "stdout",
     "output_type": "stream",
     "text": [
      "True\n",
      "False\n",
      "<class 'bool'>\n",
      "Enter a zero or another number: 3\n",
      "That is True\n"
     ]
    }
   ],
   "source": [
    "a = True\n",
    "print(bool(a))\n",
    "b = False\n",
    "print(bool(b))\n",
    "print(type(b))\n",
    "\n",
    "number = input(\"Enter a zero or another number: \")\n",
    "print(\"That is\", bool(int(number)))"
   ]
  },
  {
   "cell_type": "markdown",
   "metadata": {},
   "source": [
    "#### Exercises\n",
    "\n",
    " 1. Create a variable, x, and set to true.\n",
    " 2. Create a variable y, and set to false.\n",
    " 3. Print x AND y. (Use the logic AND operator)\n",
    " 4. Print x or y. (Use the logic OR operator)"
   ]
  },
  {
   "cell_type": "markdown",
   "metadata": {},
   "source": [
    "#### Lists\n",
    "\n",
    "In Python, a _list_ is a container data type which contains objects in a specific order. Lists are an example of a _mutable data structure_ which means that objects in a Python list can be added, removed, and modified."
   ]
  },
  {
   "cell_type": "markdown",
   "metadata": {},
   "source": [
    "#### Dictionaries\n",
    "\n",
    "A dictionary in Python is a container data type that stores key:value pairs in arbitrary order. Dictionary values are accessed using the keys in the dictionary. This compares to lists, where the values in a list are accessed by their location or index in the list\n",
    "\n",
    "#### Exercises\n",
    "\n",
    " 1. Create a Python dictionary of the courses you are taking this quarter. Use the course number (like ENGR114) as the keys and the course title (like Engineering Programming) as the values. Print out your course schedule this quarter (the course titles) using the keys in the dictionary.\n",
    " 2. Create a Python dictionary that maps "
   ]
  },
  {
   "cell_type": "markdown",
   "metadata": {},
   "source": [
    "### Tips/reminders\n",
    "\n",
    " * Python counting starts at ```0``` and ends at ```n-1```.\n",
    " \n",
    " * Square brackets ```[ ]``` are used to slice and index Python lists and strings\n",
    " \n",
    " * When using in slicing, the colon character ```:``` means _thru_ or _by_ or _all_ \n",
    " \n",
    " * The slicing syntax is ```[start:stop:step]```\n",
    " \n",
    " * The defaults in slicing are ```[start=0 : stop=last : step=1]```\n",
    " \n",
    " * When a number is left out of a slice, the default is used."
   ]
  },
  {
   "cell_type": "markdown",
   "metadata": {},
   "source": [
    "## Deliverable\n",
    "\n",
    "Upload a copy of your **_Lab2.ipynb_** to D2L by the end of the lab period. Ensure you run all of the code cells in the notebook and your code runs error free."
   ]
  },
  {
   "cell_type": "markdown",
   "metadata": {},
   "source": [
    "#### _By P. Kazarinoff, Portland Community College, 2019_"
   ]
  }
 ],
 "metadata": {
  "kernelspec": {
   "display_name": "Python 3",
   "language": "python",
   "name": "python3"
  },
  "language_info": {
   "codemirror_mode": {
    "name": "ipython",
    "version": 3
   },
   "file_extension": ".py",
   "mimetype": "text/x-python",
   "name": "python",
   "nbconvert_exporter": "python",
   "pygments_lexer": "ipython3",
   "version": "3.6.8"
  }
 },
 "nbformat": 4,
 "nbformat_minor": 2
}
