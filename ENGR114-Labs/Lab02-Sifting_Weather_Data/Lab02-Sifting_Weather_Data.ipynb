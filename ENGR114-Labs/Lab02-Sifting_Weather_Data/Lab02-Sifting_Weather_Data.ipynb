{
 "cells": [
  {
   "cell_type": "markdown",
   "metadata": {},
   "source": [
    "# Lab 02 - Sifting Weather Data"
   ]
  },
  {
   "cell_type": "markdown",
   "metadata": {},
   "source": [
    "## Prelab\n",
    "\n",
    "You can find the relevant .xlsx-file posted along with these lab instructions on D2L.  After completing the in-class example, save your script as a Jupyter notebook.  Your work completing the in-class example does not need to be submitted for credit."
   ]
  },
  {
   "cell_type": "markdown",
   "metadata": {},
   "source": [
    "## Lab\n",
    "\n",
    "In this lab, you will be working with rainfall  data that is stored in an Excel file called ```weather_data.xlsx```. The Excel file contains the rainfall on different days of the year in hundredths of an inch. The rows of the Excel file represent months and the columns of the Excel file represent days. The data stored in the cells of the Excel file represent rainfall in hundredths of an inch.\n",
    "\n",
    "You will use Python to derive some meaningful statistics from the data."
   ]
  },
  {
   "cell_type": "markdown",
   "metadata": {},
   "source": [
    "### Import External Packages\n",
    "\n",
    "The first step in the lab is to add a header to your Jupyter Notebook that includes the lab number and name, your name, the course, quarter and date. \n",
    "\n",
    "Below the header cell, you need to import **NumPy** and **Pandas**. These two external packages will be used in the lab. The standard alias ```np``` and ```pd``` should be used for NumPy and Pandas respectively.\n",
    "\n",
    "The Jupyter notebook code cell below shows the import lines."
   ]
  },
  {
   "cell_type": "code",
   "execution_count": 1,
   "metadata": {},
   "outputs": [],
   "source": [
    "import numpy as np\n",
    "import pandas as pd"
   ]
  },
  {
   "cell_type": "markdown",
   "metadata": {},
   "source": [
    "### Save the weather data to a NumPy array\n",
    "\n",
    "The next step in the lab is to import the Excel file using Pandas and save the weather data to a NumPy array.\n",
    "\n",
    "Import the weather data from the ```weather_data.xls``` file into a Panda's dataframe called ```wdf```.  When first imported, the dataframe contains a couple values equal to ```-99999```.  Transpose the data (as done in Example 3.3) so the data for each month is in columns.  Save the transposed dataframe to the variable ```df```.\n",
    "\n",
    "The Jupyter notebook code cell below shows the steps to import the ```weather_data.xlsx``` file into a Pandas dataframe, then transpose the data frame and save as the variable ```df```."
   ]
  },
  {
   "cell_type": "code",
   "execution_count": 2,
   "metadata": {},
   "outputs": [],
   "source": [
    "wdf = pd.read_excel('weather_data.xlsx', header=None)\n",
    "df = wdf.transpose()"
   ]
  },
  {
   "cell_type": "markdown",
   "metadata": {},
   "source": [
    "Search the Pandas package documentation help section to see how to use the ```pd.read_excel()``` function and why we need the keyword argument ```header=None``` in this example.  \n",
    "\n",
    "Note: the .xlsx-file must be in your current file path, and quotes need to surround the file name.\n",
    "\n",
    "The Jupyter notebook code cell below shows the steps to import the ```weather_data.xlsx``` file into a Pandas dataframe, then transpose the data frame and save as the variable ```df```."
   ]
  },
  {
   "cell_type": "markdown",
   "metadata": {},
   "source": [
    "Afterwards, running ```print(df.shape)``` will indicate the  dataframe ```df``` has dimensions of 31 rows x 12 columns.  Also check the value in row 0, column 3 in the dataframe is ```260``` by running the ```df.head()``` method. \n",
    "\n",
    "The code cell below completes these steps"
   ]
  },
  {
   "cell_type": "code",
   "execution_count": 3,
   "metadata": {},
   "outputs": [
    {
     "name": "stdout",
     "output_type": "stream",
     "text": [
      "(31, 12)\n"
     ]
    },
    {
     "data": {
      "text/html": [
       "<div>\n",
       "<style scoped>\n",
       "    .dataframe tbody tr th:only-of-type {\n",
       "        vertical-align: middle;\n",
       "    }\n",
       "\n",
       "    .dataframe tbody tr th {\n",
       "        vertical-align: top;\n",
       "    }\n",
       "\n",
       "    .dataframe thead th {\n",
       "        text-align: right;\n",
       "    }\n",
       "</style>\n",
       "<table border=\"1\" class=\"dataframe\">\n",
       "  <thead>\n",
       "    <tr style=\"text-align: right;\">\n",
       "      <th></th>\n",
       "      <th>0</th>\n",
       "      <th>1</th>\n",
       "      <th>2</th>\n",
       "      <th>3</th>\n",
       "      <th>4</th>\n",
       "      <th>5</th>\n",
       "      <th>6</th>\n",
       "      <th>7</th>\n",
       "      <th>8</th>\n",
       "      <th>9</th>\n",
       "      <th>10</th>\n",
       "      <th>11</th>\n",
       "    </tr>\n",
       "  </thead>\n",
       "  <tbody>\n",
       "    <tr>\n",
       "      <th>0</th>\n",
       "      <td>0</td>\n",
       "      <td>61</td>\n",
       "      <td>2</td>\n",
       "      <td>260</td>\n",
       "      <td>47</td>\n",
       "      <td>0</td>\n",
       "      <td>0</td>\n",
       "      <td>0</td>\n",
       "      <td>0</td>\n",
       "      <td>0</td>\n",
       "      <td>1</td>\n",
       "      <td>0</td>\n",
       "    </tr>\n",
       "    <tr>\n",
       "      <th>1</th>\n",
       "      <td>0</td>\n",
       "      <td>103</td>\n",
       "      <td>0</td>\n",
       "      <td>1</td>\n",
       "      <td>0</td>\n",
       "      <td>0</td>\n",
       "      <td>0</td>\n",
       "      <td>45</td>\n",
       "      <td>0</td>\n",
       "      <td>0</td>\n",
       "      <td>163</td>\n",
       "      <td>0</td>\n",
       "    </tr>\n",
       "    <tr>\n",
       "      <th>2</th>\n",
       "      <td>272</td>\n",
       "      <td>0</td>\n",
       "      <td>17</td>\n",
       "      <td>0</td>\n",
       "      <td>0</td>\n",
       "      <td>30</td>\n",
       "      <td>0</td>\n",
       "      <td>0</td>\n",
       "      <td>0</td>\n",
       "      <td>0</td>\n",
       "      <td>5</td>\n",
       "      <td>0</td>\n",
       "    </tr>\n",
       "    <tr>\n",
       "      <th>3</th>\n",
       "      <td>0</td>\n",
       "      <td>2</td>\n",
       "      <td>27</td>\n",
       "      <td>0</td>\n",
       "      <td>0</td>\n",
       "      <td>42</td>\n",
       "      <td>0</td>\n",
       "      <td>0</td>\n",
       "      <td>0</td>\n",
       "      <td>14</td>\n",
       "      <td>0</td>\n",
       "      <td>0</td>\n",
       "    </tr>\n",
       "    <tr>\n",
       "      <th>4</th>\n",
       "      <td>0</td>\n",
       "      <td>0</td>\n",
       "      <td>0</td>\n",
       "      <td>0</td>\n",
       "      <td>5</td>\n",
       "      <td>0</td>\n",
       "      <td>0</td>\n",
       "      <td>0</td>\n",
       "      <td>0</td>\n",
       "      <td>156</td>\n",
       "      <td>0</td>\n",
       "      <td>0</td>\n",
       "    </tr>\n",
       "  </tbody>\n",
       "</table>\n",
       "</div>"
      ],
      "text/plain": [
       "    0    1   2    3   4   5   6   7   8    9    10  11\n",
       "0    0   61   2  260  47   0   0   0   0    0    1   0\n",
       "1    0  103   0    1   0   0   0  45   0    0  163   0\n",
       "2  272    0  17    0   0  30   0   0   0    0    5   0\n",
       "3    0    2  27    0   0  42   0   0   0   14    0   0\n",
       "4    0    0   0    0   5   0   0   0   0  156    0   0"
      ]
     },
     "execution_count": 3,
     "metadata": {},
     "output_type": "execute_result"
    }
   ],
   "source": [
    "print(df.shape)\n",
    "df.head()"
   ]
  },
  {
   "cell_type": "markdown",
   "metadata": {},
   "source": [
    "Next, convert the Pandas dataframe ```df``` to a NumPy array called ```wd``` (for weather data). Use NumPy's ```np.array()``` function.\n",
    "\n",
    "The Jupyter notebook code cell below demonstrates this functionality"
   ]
  },
  {
   "cell_type": "code",
   "execution_count": 4,
   "metadata": {},
   "outputs": [],
   "source": [
    "wd = np.array(df)"
   ]
  },
  {
   "cell_type": "markdown",
   "metadata": {},
   "source": [
    "You use Python's type function to verify the variable ```wd``` is a NumPy array. The code cell below will print ```wd```'s data type"
   ]
  },
  {
   "cell_type": "code",
   "execution_count": 5,
   "metadata": {},
   "outputs": [
    {
     "name": "stdout",
     "output_type": "stream",
     "text": [
      "<class 'numpy.ndarray'>\n"
     ]
    }
   ],
   "source": [
    "print(type(wd))"
   ]
  },
  {
   "cell_type": "markdown",
   "metadata": {},
   "source": [
    "### Clean up the data\n",
    "\n",
    "Multiply each value in the array by ```0.01``` so that the array contains rain fall in inched (not hundredths of an inch). Next, convert all the values in the array ```wd``` which are equal to ```-99999``` and set them to ```NaN``` (not a number). NumPy has a special ```NaN``` type which allows the location of the ```NaN``` value to stay in the array, but not figure into calculations. \n",
    "\n",
    "The code cell below shows how to convert the data to inches of rainfall and convert all the -99999 into NumPy's ```NaN``` data type."
   ]
  },
  {
   "cell_type": "code",
   "execution_count": 6,
   "metadata": {},
   "outputs": [],
   "source": [
    "wdf=wd*0.01\n",
    "wdf[wdf<0]=np.nan"
   ]
  },
  {
   "cell_type": "markdown",
   "metadata": {},
   "source": [
    "### Define a month array and compute statistics\n",
    "\n",
    "Define a variable called ```month``` and set it equal to ```1``` for now (Month ```1``` is February, remember Python counting starts at 0).  ```month``` represents the month for which we will compute statistics.  Later, you will change ```month``` to other values.  ```0``` means January, ```1``` means February, and so on.\n",
    "\n",
    "Use the value in ```month``` to extract that month's data from your ```wd``` array. Store these values in a array called ```m```.  Since February has 28 days, you will see positive numbers, zeros and ```NaN``` present in the array.\n",
    "\n",
    "For example, according to our data, the rainfall for the first 3 days in January are 0 inches, 0 inches, and 2.72 inches."
   ]
  },
  {
   "cell_type": "markdown",
   "metadata": {},
   "source": [
    "Compute and store the following statistics/properties of the data in the dataframe ```df1``` in variables named as follows:\n",
    "\n",
    " * ```m_avg```: average inches fallen in month ```m```\n",
    " * ```m_max```: maximum inches fallen in month ```m```\n",
    " * ```d_max```: day(s) of month ```m``` in which ```m_max``` inches fell\n",
    " * ```nd_zero```: number of day(s) of month ```m``` in which zero inches fell\n",
    " * ```d_zero```: day(s) of month ````m```` in which zero inches fell\n",
    " * ```d_nonzero```: day(s) of month ```m``` in which at least some rain fell\n",
    " * ```nd_nonzero```: number of day(s) in month ```m``` in which at least some rain fell   \n",
    " * ```m_avg_nonzero```: average inches of only day(s) in which some rain fell\n",
    " "
   ]
  },
  {
   "cell_type": "markdown",
   "metadata": {},
   "source": [
    "Test all of your values for the month of February manually to make sure they are correct.\n",
    "\n",
    "Run your script for the January data (```m=0```) and check the results against manual calculations for that month.\n",
    "\n",
    "You may wish to test your script against other month's data.  When you are convinced your results and variable names are correct, Restart the notebook Kernel and clear all output. Run each cell one last time and ensure the script is error free.\n",
    "\n",
    "For your own records, save your lab2.ipynb file and your ```weather_data.xlsx``` file to the same directory.  You do not need to submit your ```weather_data.xlsx``` file because your instructor will have their own copy to test your script."
   ]
  },
  {
   "cell_type": "markdown",
   "metadata": {},
   "source": [
    "## Deliverable\n",
    "\n",
    "One .ipynb-file with all cells run. The .ipynb-file should run without errors. Uploaded the .ipynb file to D2L by the end of the lab period."
   ]
  },
  {
   "cell_type": "markdown",
   "metadata": {},
   "source": [
    "#### _By D. Kruger, adapted by P. Kazarinoff, Portland Community College, 2018_"
   ]
  },
  {
   "cell_type": "code",
   "execution_count": null,
   "metadata": {},
   "outputs": [],
   "source": []
  }
 ],
 "metadata": {
  "kernelspec": {
   "display_name": "Python 3",
   "language": "python",
   "name": "python3"
  },
  "language_info": {
   "codemirror_mode": {
    "name": "ipython",
    "version": 3
   },
   "file_extension": ".py",
   "mimetype": "text/x-python",
   "name": "python",
   "nbconvert_exporter": "python",
   "pygments_lexer": "ipython3",
   "version": "3.6.4"
  }
 },
 "nbformat": 4,
 "nbformat_minor": 2
}
