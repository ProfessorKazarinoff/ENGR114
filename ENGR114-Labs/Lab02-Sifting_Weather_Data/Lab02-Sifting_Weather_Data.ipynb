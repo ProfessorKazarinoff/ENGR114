{
 "cells": [
  {
   "cell_type": "markdown",
   "metadata": {},
   "source": [
    "# Lab 02 - Sifting Weather Data"
   ]
  },
  {
   "cell_type": "markdown",
   "metadata": {},
   "source": [
    "## Prelab\n",
    "\n",
    "Complete Example 3.3 (p. 89) from the textbook.  Coding this example will help you with the lab assignment.  You can find the relevant .xlsx-file posted along with these lab instructions on D2L.  After completing Example 3.3, save your script in a Jupyter notebook.  Your work completing Example 3.3 does not need to be submitted for credit."
   ]
  },
  {
   "cell_type": "markdown",
   "metadata": {},
   "source": [
    "## Lab\n",
    "\n",
    "Import the weather data from the from the ```weather\\_data.xls``` file into a Panda's dataframe called ```wdf```.  This time, the dataframe will contain a couple values equal to ```-99999```.  Transpose the data (as done in Example 3.3) so the data for each month is in columns.  Save the transposed dataframe to the varaiable ```df```. Complete these steps using the follwoing commands.\n",
    "\n",
    "```python\n",
    "import numpy as np\n",
    "import pandas as pd\n",
    "wdf = pd.read_excel('weather_data.xlsx', header=None)\n",
    "df = wdf.transpose()\n",
    "```"
   ]
  },
  {
   "cell_type": "markdown",
   "metadata": {},
   "source": [
    "Search the Pandas pacakge documentation help section to see how to use the ```pd.read_excel()``` function words and why we need the keyword argument ```header=None``` in this example.  \n",
    "\n",
    "Note: the .xlsx-file must be in your current file path, and quotes need to surround the file name.  "
   ]
  },
  {
   "cell_type": "code",
   "execution_count": 1,
   "metadata": {},
   "outputs": [],
   "source": [
    "import numpy as np\n",
    "import pandas as pd\n",
    "wdf = pd.read_excel('weather_data.xlsx', header=None)\n",
    "df = wdf.transpose()"
   ]
  },
  {
   "cell_type": "markdown",
   "metadata": {},
   "source": [
    "Afterwards, running ```print(df.shape)``` will indicate the  dataframe ```df``` has dimensions of 31 rows x 12 columns.  Also check the value in row 0, column 3 in the dataframe is ```260``` by running the ```df.head()``` method. "
   ]
  },
  {
   "cell_type": "code",
   "execution_count": 2,
   "metadata": {},
   "outputs": [
    {
     "name": "stdout",
     "output_type": "stream",
     "text": [
      "(31, 12)\n"
     ]
    },
    {
     "data": {
      "text/html": [
       "<div>\n",
       "<style scoped>\n",
       "    .dataframe tbody tr th:only-of-type {\n",
       "        vertical-align: middle;\n",
       "    }\n",
       "\n",
       "    .dataframe tbody tr th {\n",
       "        vertical-align: top;\n",
       "    }\n",
       "\n",
       "    .dataframe thead th {\n",
       "        text-align: right;\n",
       "    }\n",
       "</style>\n",
       "<table border=\"1\" class=\"dataframe\">\n",
       "  <thead>\n",
       "    <tr style=\"text-align: right;\">\n",
       "      <th></th>\n",
       "      <th>0</th>\n",
       "      <th>1</th>\n",
       "      <th>2</th>\n",
       "      <th>3</th>\n",
       "      <th>4</th>\n",
       "      <th>5</th>\n",
       "      <th>6</th>\n",
       "      <th>7</th>\n",
       "      <th>8</th>\n",
       "      <th>9</th>\n",
       "      <th>10</th>\n",
       "      <th>11</th>\n",
       "    </tr>\n",
       "  </thead>\n",
       "  <tbody>\n",
       "    <tr>\n",
       "      <th>0</th>\n",
       "      <td>0</td>\n",
       "      <td>61</td>\n",
       "      <td>2</td>\n",
       "      <td>260</td>\n",
       "      <td>47</td>\n",
       "      <td>0</td>\n",
       "      <td>0</td>\n",
       "      <td>0</td>\n",
       "      <td>0</td>\n",
       "      <td>0</td>\n",
       "      <td>1</td>\n",
       "      <td>0</td>\n",
       "    </tr>\n",
       "    <tr>\n",
       "      <th>1</th>\n",
       "      <td>0</td>\n",
       "      <td>103</td>\n",
       "      <td>0</td>\n",
       "      <td>1</td>\n",
       "      <td>0</td>\n",
       "      <td>0</td>\n",
       "      <td>0</td>\n",
       "      <td>45</td>\n",
       "      <td>0</td>\n",
       "      <td>0</td>\n",
       "      <td>163</td>\n",
       "      <td>0</td>\n",
       "    </tr>\n",
       "    <tr>\n",
       "      <th>2</th>\n",
       "      <td>272</td>\n",
       "      <td>0</td>\n",
       "      <td>17</td>\n",
       "      <td>0</td>\n",
       "      <td>0</td>\n",
       "      <td>30</td>\n",
       "      <td>0</td>\n",
       "      <td>0</td>\n",
       "      <td>0</td>\n",
       "      <td>0</td>\n",
       "      <td>5</td>\n",
       "      <td>0</td>\n",
       "    </tr>\n",
       "    <tr>\n",
       "      <th>3</th>\n",
       "      <td>0</td>\n",
       "      <td>2</td>\n",
       "      <td>27</td>\n",
       "      <td>0</td>\n",
       "      <td>0</td>\n",
       "      <td>42</td>\n",
       "      <td>0</td>\n",
       "      <td>0</td>\n",
       "      <td>0</td>\n",
       "      <td>14</td>\n",
       "      <td>0</td>\n",
       "      <td>0</td>\n",
       "    </tr>\n",
       "    <tr>\n",
       "      <th>4</th>\n",
       "      <td>0</td>\n",
       "      <td>0</td>\n",
       "      <td>0</td>\n",
       "      <td>0</td>\n",
       "      <td>5</td>\n",
       "      <td>0</td>\n",
       "      <td>0</td>\n",
       "      <td>0</td>\n",
       "      <td>0</td>\n",
       "      <td>156</td>\n",
       "      <td>0</td>\n",
       "      <td>0</td>\n",
       "    </tr>\n",
       "  </tbody>\n",
       "</table>\n",
       "</div>"
      ],
      "text/plain": [
       "    0    1   2    3   4   5   6   7   8    9    10  11\n",
       "0    0   61   2  260  47   0   0   0   0    0    1   0\n",
       "1    0  103   0    1   0   0   0  45   0    0  163   0\n",
       "2  272    0  17    0   0  30   0   0   0    0    5   0\n",
       "3    0    2  27    0   0  42   0   0   0   14    0   0\n",
       "4    0    0   0    0   5   0   0   0   0  156    0   0"
      ]
     },
     "execution_count": 2,
     "metadata": {},
     "output_type": "execute_result"
    }
   ],
   "source": [
    "print(df.shape)\n",
    "df.head()"
   ]
  },
  {
   "cell_type": "markdown",
   "metadata": {},
   "source": [
    "Use the following line to change all of the values in the ndataframe ```wd``` which are equal to ```-99999``` and set them to ```NaN``` (not a number).\n",
    "\n",
    "```\n",
    "df[df==-99999]=np.nan\n",
    "```\n",
    "\n",
    "Use the ```df.tail()``` method to view the last few rows in the dataframe. We see row 30, column 5 has the value ```NaN`` (not a number)."
   ]
  },
  {
   "cell_type": "code",
   "execution_count": 13,
   "metadata": {},
   "outputs": [
    {
     "data": {
      "text/html": [
       "<div>\n",
       "<style scoped>\n",
       "    .dataframe tbody tr th:only-of-type {\n",
       "        vertical-align: middle;\n",
       "    }\n",
       "\n",
       "    .dataframe tbody tr th {\n",
       "        vertical-align: top;\n",
       "    }\n",
       "\n",
       "    .dataframe thead th {\n",
       "        text-align: right;\n",
       "    }\n",
       "</style>\n",
       "<table border=\"1\" class=\"dataframe\">\n",
       "  <thead>\n",
       "    <tr style=\"text-align: right;\">\n",
       "      <th></th>\n",
       "      <th>0</th>\n",
       "      <th>1</th>\n",
       "      <th>2</th>\n",
       "      <th>3</th>\n",
       "      <th>4</th>\n",
       "      <th>5</th>\n",
       "      <th>6</th>\n",
       "      <th>7</th>\n",
       "      <th>8</th>\n",
       "      <th>9</th>\n",
       "      <th>10</th>\n",
       "      <th>11</th>\n",
       "    </tr>\n",
       "  </thead>\n",
       "  <tbody>\n",
       "    <tr>\n",
       "      <th>26</th>\n",
       "      <td>0</td>\n",
       "      <td>0.0</td>\n",
       "      <td>78</td>\n",
       "      <td>35.0</td>\n",
       "      <td>2</td>\n",
       "      <td>35.0</td>\n",
       "      <td>0</td>\n",
       "      <td>0</td>\n",
       "      <td>6.0</td>\n",
       "      <td>0</td>\n",
       "      <td>2.0</td>\n",
       "      <td>0</td>\n",
       "    </tr>\n",
       "    <tr>\n",
       "      <th>27</th>\n",
       "      <td>0</td>\n",
       "      <td>62.0</td>\n",
       "      <td>0</td>\n",
       "      <td>13.0</td>\n",
       "      <td>0</td>\n",
       "      <td>14.0</td>\n",
       "      <td>5</td>\n",
       "      <td>0</td>\n",
       "      <td>138.0</td>\n",
       "      <td>0</td>\n",
       "      <td>0.0</td>\n",
       "      <td>0</td>\n",
       "    </tr>\n",
       "    <tr>\n",
       "      <th>28</th>\n",
       "      <td>0</td>\n",
       "      <td>NaN</td>\n",
       "      <td>5</td>\n",
       "      <td>86.0</td>\n",
       "      <td>0</td>\n",
       "      <td>14.0</td>\n",
       "      <td>0</td>\n",
       "      <td>0</td>\n",
       "      <td>58.0</td>\n",
       "      <td>0</td>\n",
       "      <td>0.0</td>\n",
       "      <td>0</td>\n",
       "    </tr>\n",
       "    <tr>\n",
       "      <th>29</th>\n",
       "      <td>33</td>\n",
       "      <td>NaN</td>\n",
       "      <td>8</td>\n",
       "      <td>0.0</td>\n",
       "      <td>0</td>\n",
       "      <td>8.0</td>\n",
       "      <td>0</td>\n",
       "      <td>0</td>\n",
       "      <td>10.0</td>\n",
       "      <td>0</td>\n",
       "      <td>0.0</td>\n",
       "      <td>0</td>\n",
       "    </tr>\n",
       "    <tr>\n",
       "      <th>30</th>\n",
       "      <td>33</td>\n",
       "      <td>NaN</td>\n",
       "      <td>0</td>\n",
       "      <td>NaN</td>\n",
       "      <td>0</td>\n",
       "      <td>NaN</td>\n",
       "      <td>0</td>\n",
       "      <td>0</td>\n",
       "      <td>NaN</td>\n",
       "      <td>1</td>\n",
       "      <td>NaN</td>\n",
       "      <td>0</td>\n",
       "    </tr>\n",
       "  </tbody>\n",
       "</table>\n",
       "</div>"
      ],
      "text/plain": [
       "    0     1   2     3   4     5   6   7      8   9    10  11\n",
       "26   0   0.0  78  35.0   2  35.0   0   0    6.0   0  2.0   0\n",
       "27   0  62.0   0  13.0   0  14.0   5   0  138.0   0  0.0   0\n",
       "28   0   NaN   5  86.0   0  14.0   0   0   58.0   0  0.0   0\n",
       "29  33   NaN   8   0.0   0   8.0   0   0   10.0   0  0.0   0\n",
       "30  33   NaN   0   NaN   0   NaN   0   0    NaN   1  NaN   0"
      ]
     },
     "execution_count": 13,
     "metadata": {},
     "output_type": "execute_result"
    }
   ],
   "source": [
    "df[df==-99999]=np.nan\n",
    "df.tail()"
   ]
  },
  {
   "cell_type": "markdown",
   "metadata": {},
   "source": [
    "By completing Example 3.3, you know the data in the excel file represents rainfall in _hundredths of an inch_, but for brevity's sake, this lab will treat the data as if it were rainfall in _inches_.  There is no need to change or scale the data before further processing.\n",
    "\n",
    "Define a variable called ```month``` and set it equal to ```1``` for now.  This will represent the month for which we will compute statistics.  Later, you will change ```month``` to other values.  ```0``` means January, ```1``` means February, and so on.\n",
    "\n",
    "Use the value in ```month``` to extract that month's data from your ```wd``` dataframe. Store these values in a new list called ```m```.  Because January has 31 days, you only see values in \\textbf{m} that are positive or zero (no values of -99999 ). Since February has 28 days, you will see positive numbers, zeros and ```NaN``` present in the list.\n",
    "\n",
    "For example, according to our data, the rainfall for the first 3 days in January are 0 inches, 0 inches, and 272 inches.  The average rain fall per day in the first 3 days of January is 90.667.  The average rain fall for the days of January 2nd and 3rd is 136."
   ]
  },
  {
   "cell_type": "markdown",
   "metadata": {},
   "source": [
    "Compute and store the following statistics/properties of the data in the dataframe ```df1``` in variables named as follows:\n",
    "\n",
    " * ```m_avg```: average inches fallen in month ```m```\n",
    " * ```m_max```: maximum inches fallen in month ```m```\n",
    " * ```d_max```: day(s) of month ```m``` in which ```m_max``` inches fell\n",
    " * ```nd_zero```: number of day(s) of month ```m``` in which zero inches fell\n",
    " * ```d_zero```: day(s) of month ````m```` in which zero inches fell\n",
    " * ```d_nonzero```: day(s) of month ```m``` in which at least some rain fell\n",
    " * ```nd_nonzero```: number of day(s) in month ```m``` in which at least some rain fell   \n",
    " * ```m_avg_nonzero```: average inches of only day(s) in which some rain fell\n",
    " "
   ]
  },
  {
   "cell_type": "code",
   "execution_count": 49,
   "metadata": {},
   "outputs": [
    {
     "name": "stdout",
     "output_type": "stream",
     "text": [
      "18.392857142857142\n",
      "135.0\n",
      "17\n",
      "1\n",
      "14\n"
     ]
    },
    {
     "data": {
      "text/plain": [
       "36.785714285714285"
      ]
     },
     "execution_count": 49,
     "metadata": {},
     "output_type": "execute_result"
    }
   ],
   "source": [
    "m = 1\n",
    "\n",
    "m_avg = np.mean(df[m])\n",
    "print(m_avg)\n",
    "\n",
    "m_max = np.max(df[m])\n",
    "print(m_max)\n",
    "\n",
    "d_max = df.index[df[m] == m_max]\n",
    "print(d_max[0])\n",
    "\n",
    "nd_zero = sum(df[m]==m_max)\n",
    "print(nd_zero)\n",
    "\n",
    "nd_nonzero = sum(df[m]>0)\n",
    "print(d_nonzero)\n",
    "\n",
    "df_list = list(df[m].values)\n",
    "pos_rain_lst = [x for x in df_list if x>0 ]\n",
    "np.mean(pos_rain_lst)\n"
   ]
  },
  {
   "cell_type": "markdown",
   "metadata": {},
   "source": [
    "Test all of your values for the month of January manually to make sure they are correct.\n",
    "\n",
    "Run your script for the February data (```m=1```) and check the results against manual calculations for that month.\n",
    "\n",
    "You may wish to test your script against other month's data.  When you are convinced your results and variable names are correct, Restart the notebook Kernal and clear all output. Run each cell one last time and ensure the script is error free.\n",
    "\n",
    "For your own records, save your lab2.ipnb file and your ```weather_data.xlsx``` file to the same directory.  You do not need to submit your ```weather\\_data.xlsx``` file because your instructor will have their own copy to test your script."
   ]
  },
  {
   "cell_type": "markdown",
   "metadata": {},
   "source": [
    "## Deliverable\n",
    "\n",
    "One .ipynb-file with output all cells run. The .ipynb-file should run without errors. Uploaded the .ipynb file to D2L by the end of the lab period."
   ]
  },
  {
   "cell_type": "markdown",
   "metadata": {},
   "source": [
    "#### _By D. Kruger, adapted by P. Kazarinoff, Portland Community College, 2018_"
   ]
  },
  {
   "cell_type": "code",
   "execution_count": null,
   "metadata": {},
   "outputs": [],
   "source": []
  }
 ],
 "metadata": {
  "kernelspec": {
   "display_name": "Python 3",
   "language": "python",
   "name": "python3"
  },
  "language_info": {
   "codemirror_mode": {
    "name": "ipython",
    "version": 3
   },
   "file_extension": ".py",
   "mimetype": "text/x-python",
   "name": "python",
   "nbconvert_exporter": "python",
   "pygments_lexer": "ipython3",
   "version": "3.6.5"
  }
 },
 "nbformat": 4,
 "nbformat_minor": 2
}
