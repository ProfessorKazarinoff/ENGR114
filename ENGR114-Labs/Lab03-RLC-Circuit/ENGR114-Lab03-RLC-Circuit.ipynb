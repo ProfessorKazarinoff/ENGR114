{
 "cells": [
  {
   "cell_type": "markdown",
   "metadata": {},
   "source": [
    "# Lab 03 - RLC Circuit"
   ]
  },
  {
   "cell_type": "markdown",
   "metadata": {},
   "source": [
    "## Prelab\n",
    "\n",
    "Before starting this assignment, read through this entire document, then create a pseudocode outline of what your program will do.   Simply put, pseudocode is committing the tasks your code will carry out to paper, in plain English.  When writing pseudocode, you should not worry about how to write specific commands.  Instead, set up an outline of specific things that need to be accomplished.  This can take the form of a bulleted list, paragraphs of writing, or a flowchart.  This in meant for you to read, not Python.  The point of this is to think about what should happen without worrying about how.  Be specific.  You can start with a rough sketch, but you should refine it into smaller, explicit steps before beginning to code.  Before asking for help with this lab, you should show your instructor your pseudocode."
   ]
  },
  {
   "cell_type": "markdown",
   "metadata": {},
   "source": [
    "## Lab\n",
    "\n",
    "This lab will deal with the analysis of a series circuit with an AC voltage source, one resistor, one capacitor, and one inductor.  You will not have to worry about the circuit analysis, as that part of will be done for you.  The voltage source has a frequency of 60 hertz, it has an amplitude of 120 volts RMS, the resistor has 100 ohms of resistance.  You need not care about these parameters because they will be built into the equations given to you later."
   ]
  },
  {
   "cell_type": "markdown",
   "metadata": {},
   "source": [
    "The two parameters you do need to worry about are the component values for the inductor ($L$) and capacitor ($C$).  Your script will perform numerical analysis to compute the power delivered to the resistor over varying values of both $L$ and $C$."
   ]
  },
  {
   "cell_type": "markdown",
   "metadata": {},
   "source": [
    "Create an array ```L``` whose values will start at 0.005 and go to 0.245 in increments of 0.005.  Then create an array ```C``` with 10 evenly spaced values starting with $5*10^{-6}$ and end with $9.5*10^{-5}$."
   ]
  },
  {
   "cell_type": "markdown",
   "metadata": {},
   "source": [
    "Given a value for L and a value for C, the circuit's current can be calculated as follows:\n",
    "\n",
    "$$ \\frac{{120}}{{100 + j2\\pi \\left( {60} \\right)L - \\frac{j}{{2\\pi \\left( {60} \\right)C}}}} $$\n",
    "\n",
    "where $j$ is the square root of negative one.  This means current is a complex number.  From a complex result for current, one can compute the power delivered to the resistor with the equation below.\n",
    "\n",
    "$$ P_R = 100{\\left| I \\right|^2} $$\n",
    "\n",
    "The absolute value symbol here $\\left| I \\right|^2$ specifically means \"the magnitude of I.\"  There is a Python function that can compute this for complex numbers.  For example, the smallest values for L and C that we will use should yield a complex current of ```0.041458 + 0.21916i```, and a resulting power of ```4.9749```.  Use Python's  built-in value for $\\pi$ (included in the start file)."
   ]
  },
  {
   "cell_type": "markdown",
   "metadata": {},
   "source": [
    "NumPy can handle complex numbers.  In NumPy, ```i``` or ```j``` can be used as the square root of negative one.  When typing ```i``` or ```j```, it must be preceded by a number.  For example, the complex number $5 + j20$ should be entered as ```5 + 20j```."
   ]
  },
  {
   "cell_type": "markdown",
   "metadata": {},
   "source": [
    "Download the **lab2_start_file.py**, open the file and copy the code from **lab2_start_file.py** into a Jupyter notebook. Include your name, the date, the lab number, and the lab assignment title at the top in a markdown cell.  Be sure to comment your code to explain to those reading it (which will be mostly future you) what each part or section of code is doing."
   ]
  },
  {
   "cell_type": "markdown",
   "metadata": {},
   "source": [
    "Map your $L$ and $C$ values to 2-dimensional arrays called ```L_mat``` and ```C_mat``` for use in computing a 2D matrix for circuit current.  ```L_mat``` should have increasing values from left to right.  ```C_mat``` should have increasing values from top to bottom."
   ]
  },
  {
   "cell_type": "markdown",
   "metadata": {},
   "source": [
    "Use ```L_mat``` and ```C_mat``` to compute complex values for circuit current $I$, and use that result to calculate the $P_{R}$ matrix and store it in a variable named ```PR```.  Your ```PR``` matrix now holds values of power (in watts) delivered to the resistor for every combination of inductor ($L$) and capacitor ($C$) values.  Declare a new scalar variable ```max_PR``` to store the largest value of power inside the ```PR``` matrix."
   ]
  },
  {
   "cell_type": "markdown",
   "metadata": {},
   "source": [
    "Use your results to report which specific value for $L$ and value for $C$ resulted in ```max_PR```.  Store these two results in the variables ```max_L``` and ```max_C```, respectively.  NumPy's ```np.where()``` function should be instrumental here.  "
   ]
  },
  {
   "cell_type": "markdown",
   "metadata": {},
   "source": [
    "After you have computed your matrix of power values ```PR```, create a surface plot of this 2D array.  Code to plot ```PR``` should be supplied in the start file.  We will not worry about how this code works.  It is only meant to help you check your work.  If you add the code below to your notebook and you calculated the correct values of ```PR```, you should get a plot that looks like the one below."
   ]
  },
  {
   "cell_type": "markdown",
   "metadata": {},
   "source": [
    "![Matplotlib surface plot](images/surf_plot.png)"
   ]
  },
  {
   "cell_type": "markdown",
   "metadata": {},
   "source": [
    "```python\n",
    "# before you make the surface plot, you need to create L_mat, C_mat, and PR first.\n",
    "fig = plt.figure()\n",
    "ax = fig.gca(projection='3d')\n",
    "surf = ax.plot_surface(L_mat, C_mat, PR,\n",
    "                       cmap=cm.coolwarm,\n",
    "                       linewidth=0,\n",
    "                       antialiased=True)\n",
    "plt.xlabel('\\nL')\n",
    "plt.ylabel('\\nC')                       \n",
    "plt.savefig('out.png', bbox_inches='tight')  # save to file\n",
    "```"
   ]
  },
  {
   "cell_type": "markdown",
   "metadata": {},
   "source": [
    "## Topics Covered\n",
    "\n",
    " * Plotting need not be covered before this lab, as the plotting code is given to the students.\n",
    " * Importing ```pi``` from Python's ```math``` module in the Standard Library\n",
    " * NumPy arrays\n",
    "   * ```np.arange()```\n",
    "   * ```np.linspace()```\n",
    "   * ```np.meshgrid()```\n",
    "   * ```np.where()```\n",
    "   * indexing arrays\n",
    " * Complex numbers in Python\n",
    " * Python's built-in ```abs()``` function\n",
    "\n"
   ]
  },
  {
   "cell_type": "markdown",
   "metadata": {},
   "source": [
    "## Deliverables\n",
    "\n",
    "Each student's submission for the lab must contain the following file: **lab3.ipynb**. The submission should be a Jupyter notebook. Before submitting your Jupyter notebook, ensure you select Kernel --> Restart Kernel & Run All, then save your notebook for a final time. The following will be evaluated:\n",
    "\n",
    " * the file uploaded is a **.pynb** file\n",
    " \n",
    " * the file is a valid Jupyter notebook file and runs in a Jupyter notebook when opened\n",
    "\n",
    " * the notebook runs with no errors\n",
    "\n",
    " * the correct value for ```max_PR```, ```max_L```,```max_C``` are calculated\n",
    "\n",
    " * the 3D plot is produced and looks like the plot in the lab instructions"
   ]
  },
  {
   "cell_type": "markdown",
   "metadata": {},
   "source": [
    "#### _By D. Kruger, modified by P.Kazarinoff, Portland Community College, 2019_"
   ]
  },
  {
   "cell_type": "code",
   "execution_count": null,
   "metadata": {},
   "outputs": [],
   "source": []
  }
 ],
 "metadata": {
  "kernelspec": {
   "display_name": "Python 3",
   "language": "python",
   "name": "python3"
  },
  "language_info": {
   "codemirror_mode": {
    "name": "ipython",
    "version": 3
   },
   "file_extension": ".py",
   "mimetype": "text/x-python",
   "name": "python",
   "nbconvert_exporter": "python",
   "pygments_lexer": "ipython3",
   "version": "3.6.4"
  }
 },
 "nbformat": 4,
 "nbformat_minor": 2
}
