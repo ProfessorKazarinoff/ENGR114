{
 "cells": [
  {
   "cell_type": "markdown",
   "metadata": {},
   "source": [
    "# ENGR114 - Lab 06 - Taylor Series\n",
    "\n",
    "In this lab, you will create a function that calculates the Taylor Series of two mathematical functions. A Taylor Series is an infinite series of mathematical terms that when summed together approximate a mathematical function. Taylor Series can be used to approximate $e^x$, $sine$, and $cosine$. An example of a Taylor series is below:\n",
    "\n",
    "\\[\\begin{gathered}\n",
    "  \\cos \\left( x \\right) = \\sum\\limits_{n = 0}^\\infty  {{{\\left( { - 1} \\right)}^n}\\frac{{{x^{2n}}}}{{\\left( {2n} \\right)!}}}  = 1 - \\frac{{{x^2}}}{{2!}} + \\frac{{{x^4}}}{{4!}} - \\frac{{{x^6}}}{{6!}} + \\frac{{{x^8}}}{{8!}} - \\frac{{{x^{10}}}}{{10!}} + \\ ... \\hfill \\\\ \n",
    "\\end{gathered} \\]"
   ]
  },
  {
   "cell_type": "markdown",
   "metadata": {},
   "source": [
    "## Pre-Lab\n",
    "\n",
    "Before starting your script, read through this entire document, then create a pseudocode flowchart of what your program will do using the standard flow chart symbols: oval, rectangle, diamond and parallelogram."
   ]
  },
  {
   "cell_type": "markdown",
   "metadata": {},
   "source": [
    "## Lab\n",
    "\n",
    "Create a new m-file called **taylor_series.py** that will contain a user-defined function.  The function will have the function name, inputs, outputs, and **help** command information as shown.  \\\\\n",
    "\n",
    "```\n",
    "def taylor_series(func, x, error_ub, max_iters):\n",
    "\"\"\"\n",
    "Performs the Taylor series expansion for either the sine of x or\n",
    "for Euler's number raised to x.  Function returns whether or not\n",
    "the function converges within the user-defined error_ub \n",
    "within max_iters iterations.\n",
    " \n",
    " Input:\n",
    "     - func: A string describing which function to do the Taylor \n",
    "           series expansion on.  ('sin' for sine(x), 'exp' for e^x)\n",
    "     - x: Input argument that the function will operate on.  (must be\n",
    "            >= -50 and <= 50)\n",
    "     - error_ub: upper bound for error, or maximum allowed error  \n",
    "           (absolute value) in order to consider the \n",
    "           series expansion converged. (must be >= 1e-12)\n",
    "      - max_iters: User-defined maximum iterations to try before \n",
    "           giving up. (must be positive integer <= 150)\n",
    " \n",
    " Output:\n",
    "     - converges: equals 1 if series converged to an error <=  \n",
    "           error_ub within max_iters or less, else equals 0.\n",
    "     - iter: if converges is 1, equal to number of iterations it took\n",
    "           to converge within error_ub, else equals 0.\n",
    "\n",
    "\"\"\"\n",
    "```\n",
    "\n",
    "\n",
    "Underneath this, include a block comment with your name, the date, and the lab assignment number.  Underneath that, create a function that fulfills the given description.\n",
    "\n",
    "Your function should verify that all four of its input variables have values as specified in the description, otherwise, use the **error** command to tell the user which variable is invalid and give the constraints.  For example, if a user tries to call the function with **x** set equal to -60, this should trigger the following command.\n",
    "\n",
    "```\n",
    "     error('x must be $>= -50$ and $<= 50$')\n",
    "```\n",
    "\n",
    "Your function can use a **while loop**, or a **for loop** to verify the inputs of the **func** variable."
   ]
  },
  {
   "cell_type": "markdown",
   "metadata": {},
   "source": [
    "The Taylor series for our two functions are below.\n",
    "\n",
    "\\[\\begin{gathered}\n",
    "  {e^x} = \\sum\\limits_{n = 0}^\\infty  {\\frac{{{x^n}}}{{n!}}}  = 1 + x + \\frac{{{x^2}}}{{2!}} + \\frac{{{x^3}}}{{3!}} + \\frac{{{x^4}}}{{4!}} + ... \\hfill \\\\\n",
    "  \\sin \\left( x \\right) = \\sum\\limits_{n = 0}^\\infty  {{{\\left( { - 1} \\right)}^n}\\frac{{{x^{2n + 1}}}}{{\\left( {2n + 1} \\right)!}}}  = x - \\frac{{{x^3}}}{{3!}} + \\frac{{{x^5}}}{{5!}} - \\frac{{{x^7}}}{{7!}} + \\frac{{{x^9}}}{{9!}} - ... \\hfill \\\\ \n",
    "\\end{gathered} \\]"
   ]
  },
  {
   "cell_type": "markdown",
   "metadata": {},
   "source": [
    "Note that as **n** increases, each successive term gets smaller in absolute value.  Knowing this, we can assert that if, for instance, the $10^{th}$ term in a Taylor series is 0.005, then 10 iterations of the function will bring the sum of terms 1 through 10 to be within +/- 0.005 of the actual answer.  In other words, 10 iterations yields an answer that has an error with absolute value of 0.005 or less.\n",
    "\n",
    "Your function should use a **while loop** or **for loop** to compute each of these terms until the latest term's absolute value is equal to or less than **error_ub**.  If/when the latest term in the Taylor series is within this boundary, use an **if break** statement to exit the **while loop**.  Otherwise, the **while loop** should keep running until it has been run **max\\_iters** times.\n",
    " "
   ]
  },
  {
   "cell_type": "markdown",
   "metadata": {},
   "source": [
    "Note that your **taylor_series** function will not be computing the sum of of these terms, nor will it be approximating the actual value of $sin(x)$ or $e^x$.\n",
    "\n",
    "You might find the following to be somewhat helpful.  Some other recommendations:\n",
    "\n",
    " * Example 9.6 in your textbook shows how to use an **if/break** statement along with a flowchart of its algorithm.\n",
    " * Start working with your m-file as a regular script (not a function) with hard coded input values.  This way you can easily run and re-run it for testing.\n",
    " * Get either the $e^x$ or the $sin(x)$ capability working before adding the other capability. \n",
    " * Once both of these capabilities are working, do the input validation for all of the input variables.\n",
    " * Test your code often!\n",
    " * Wait until you have verified your function works, along with its input validation, before changing it into a function.\n",
    " * Now call your function from a separate m-file.  It is easier to change values and re-run this way,v versus calling it from the command line each time.\n",
    " * Verify your results.  Is your algorithm actually converging on a real solution?  You can add in a variable that sums each term's results. Compare the results of adding the Taylor Series terms to Python's **math** module functions ```math.exp()``` and ```math.sin()```."
   ]
  },
  {
   "cell_type": "markdown",
   "metadata": {},
   "source": [
    "Your instructor may provide some sample output file called **ENGR114-Lab06-sample_output.txt**.\n",
    "\n",
    "Once you are satisfied that your file meets all the requirements, suppress all screen output, save the file, and submit it to appropriate D2L folder."
   ]
  },
  {
   "cell_type": "code",
   "execution_count": null,
   "metadata": {},
   "outputs": [],
   "source": []
  }
 ],
 "metadata": {
  "kernelspec": {
   "display_name": "Python 3",
   "language": "python",
   "name": "python3"
  },
  "language_info": {
   "codemirror_mode": {
    "name": "ipython",
    "version": 3
   },
   "file_extension": ".py",
   "mimetype": "text/x-python",
   "name": "python",
   "nbconvert_exporter": "python",
   "pygments_lexer": "ipython3",
   "version": "3.6.5"
  }
 },
 "nbformat": 4,
 "nbformat_minor": 2
}
