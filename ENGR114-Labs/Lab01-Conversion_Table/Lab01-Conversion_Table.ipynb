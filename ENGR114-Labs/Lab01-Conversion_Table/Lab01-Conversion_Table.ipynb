{
 "cells": [
  {
   "cell_type": "markdown",
   "metadata": {},
   "source": [
    "# Lab 01 - Conversion Table"
   ]
  },
  {
   "cell_type": "markdown",
   "metadata": {},
   "source": [
    "## Prelab\n",
    "\n",
    "Read this entire document. Complete the a kilometer (km) to meter (m) conversion table with your instructor. Ensure you understand how the arrays are created and concatenated (combined) before you start the lab."
   ]
  },
  {
   "cell_type": "markdown",
   "metadata": {},
   "source": [
    "## Lab\n",
    "\n",
    "You will create a unit conversion table that will contain three different units of length.  The lab assignment should be contained in a Jupyter notebook named **lab1.ipynb**.  The main goal of this notebook is to produce a 2D NumPy _array_ that could serve as a visual look-up table for the following length units: kilometers, miles, and nautical miles.  The variable name for this array should be ```ltable``` (standing for length table)."
   ]
  },
  {
   "cell_type": "markdown",
   "metadata": {},
   "source": [
    "The look-up values will be dictated by values for kilometers that should go from 0 to 30 in half-kilometer increments (0, 0.5, 1, 1.5, ..., 28.5, 29, 29.5, 30).  The kilometer (km) values will go in the first column.  The second column will be lengths in units of miles (mi).  Use a conversion factor of exactly 1.6093 km/mi.  The third column will be lengths in nautical miles (nm) and use a conversion factor of exactly 0.5400 nm/km."
   ]
  },
  {
   "cell_type": "markdown",
   "metadata": {},
   "source": [
    "**Note:** Your answers will be checked programmatically with a script that will use the conversion factors given above.  Although the actual conversion factors contain more precision, be sure to use the ones given."
   ]
  },
  {
   "cell_type": "markdown",
   "metadata": {},
   "source": [
    "After the matrix variable ```ltable``` has been tested with a few hand (calculator) calculations, create a new matrix look-up table for area called ```atable```.  This new matrix should be obtained by squaring each element in the ```ltable``` variable.  This can be done in with single command.  Test your results with a few hand calculations."
   ]
  },
  {
   "cell_type": "markdown",
   "metadata": {},
   "source": [
    "At this time, it would be a good idea to check your results with another student's, and to make sure your two output variables and your file all have correct names."
   ]
  },
  {
   "cell_type": "markdown",
   "metadata": {},
   "source": [
    "Before uploading your **lab1.ipynb** notebook to D2L, make sure your entire notebook runs without errors.  After running your script, you should only see the output of ```ltable``` and ```atable``` all other output should be suppressed."
   ]
  },
  {
   "cell_type": "markdown",
   "metadata": {},
   "source": [
    "### Tips/reminders\n",
    "\n",
    " * Remember that Python is case sensitive.  Be sure your file name and required variable names exactly match those specified by the assignment.}\n",
    " * Google can do unit conversions.  It is always a good idea to spot check your results to make sure they are correct. But ensure you use the supplied conversion factors in the lab to build your ```ltable``` and ```atable```\n",
    " * The first 3 lines of your submitted **.ipynb** file should be a markdown cell that details the lab number and name, your name, course, quarter and date."
   ]
  },
  {
   "cell_type": "markdown",
   "metadata": {},
   "source": [
    "## Deliverable\n",
    "\n",
    "One **.ipynb** file with  all output cells run. The **.ipynb** file should run without errors. Uploaded the **.ipynb** file to D2L by the end of the lab period."
   ]
  },
  {
   "cell_type": "markdown",
   "metadata": {},
   "source": [
    "#### _By D. Kruger, adapted by P. Kazarinoff, Portland Community College, 2019_"
   ]
  },
  {
   "cell_type": "code",
   "execution_count": null,
   "metadata": {},
   "outputs": [],
   "source": []
  }
 ],
 "metadata": {
  "kernelspec": {
   "display_name": "Python 3",
   "language": "python",
   "name": "python3"
  },
  "language_info": {
   "codemirror_mode": {
    "name": "ipython",
    "version": 3
   },
   "file_extension": ".py",
   "mimetype": "text/x-python",
   "name": "python",
   "nbconvert_exporter": "python",
   "pygments_lexer": "ipython3",
   "version": "3.6.4"
  }
 },
 "nbformat": 4,
 "nbformat_minor": 2
}
