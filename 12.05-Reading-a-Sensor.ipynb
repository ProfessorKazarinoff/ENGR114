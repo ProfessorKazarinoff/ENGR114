{
 "cells": [
  {
   "cell_type": "markdown",
   "metadata": {},
   "source": [
    "## Reading a Sensor"
   ]
  },
  {
   "cell_type": "markdown",
   "metadata": {},
   "source": [
    "In this section, you will learn how to connect a temperature sensor to an Adafruit Feather Huzzah ESP8266 and use the MicroPython REPL to read the temperature.\n",
    "\n",
    "Before we can use the [MCP9808 temperature sensor](https://www.adafruit.com/product/1782), MicroPython needs to be installed on the board and PuTTY needs to be installed on Windows 10 (on MacOS and Linux, use a terminal and  ```screen```) to communicate with the board over serial."
   ]
  },
  {
   "cell_type": "markdown",
   "metadata": {},
   "source": [
    "### Summary of Steps"
   ]
  },
  {
   "cell_type": "markdown",
   "metadata": {},
   "source": [
    "1. Connect the temperature sensor to the Adafruit Feather Huzzah ESP8266\n",
    "2. Connect the Adafruit Feather Huzzah ESP8266 to the computer with a USB cable and bring up the MicroPython REPL using PuTTY. \n",
    "3. Run code at the MicroPython REPL to read the temperature"
   ]
  },
  {
   "cell_type": "markdown",
   "metadata": {},
   "source": [
    "### Connect the MCP9808 temperature sensor to the Adafruit Feather Huzzah board"
   ]
  },
  {
   "cell_type": "markdown",
   "metadata": {},
   "source": [
    "Connect the [MCP9808 temperature sensor](https://www.adafruit.com/product/1782) breakout board to the Feather Huzzah board with jumper wires. There are four connections: A 3V power line from the Feather Huzzah to the MCP9808 Vdd pin, GND connected between both boards, and the I2C data and clock lines connected between the two boards. On the Feather Huzzah ESP8266, the I2C data line is SDA (pin 4) and the I2C clock line is SCL (pin 5). These connect with the MPC9808 I2C data line SDA and the MPC9808 I2C clock line SCL. Unlike Serial communication where RX connects to TX, in I2C communication SDA connects to SDA and SCL connects to SCL.\n",
    "\n",
    "| Feather Huzzah | wire | MCP9808 |\n",
    "| --- | --- | --- |\n",
    "| 3V | red | Vdd |\n",
    "| GND | black | GND |\n",
    "| SDA (pin 4)| green | SDA |\n",
    "| SCL (pin 5)| yellow | SCL |\n",
    "\n",
    "![MCP9808 temp sensor connected to an Adafruit Feather Huzzah ESP8266](images/feather_huzzah_temp_sensor_fritzing.png)"
   ]
  },
  {
   "cell_type": "markdown",
   "metadata": {},
   "source": [
    "### Connect the Adafruit Feather Huzzah to the computer with a USB cable and bring up the MicroPython REPL using PuTTY."
   ]
  },
  {
   "cell_type": "markdown",
   "metadata": {},
   "source": [
    "Connect the Adafruit Feather Huzzah ESP8266 to the computer with a microUSB cable. Ensure this is a USB data cable, not just a charging cable. Open Putty and connect to the Feather Huzzah using the proper serial port (COM#) and 115200 baud. (Remember to use the **Serial** radio button under **Connection Type:**)\n",
    "\n",
    "![PuTTY in the Windows 10 Start Menu](images/putty_in_start_menu.png)\n",
    "\n",
    "![PuTTY Configuration](images/putty_config.PNG)\n",
    "\n",
    "This will bring up the MicroPython REPL prompt ```>>>```. If you can't see the ```>>>``` prompt, try typing [Enter] or Ctrl-D or push the RESET button on the Feather Huzzah. If none of these methods work, try closing Putty and unplugging then replugging in the USB cable."
   ]
  },
  {
   "cell_type": "markdown",
   "metadata": {},
   "source": [
    "### Run code at the MicroPython REPL to read the temperature"
   ]
  },
  {
   "cell_type": "markdown",
   "metadata": {},
   "source": [
    "In the PuTTY serial window, import the ```machine``` module and then create an instance of the ```machine.I2C``` class with the ```scl``` and ```sda``` parameters set as ```scl=machine.Pin(5)``` and ```sda=machine.Pin(4)```.  Then create an empty ```bytearray``` which will store the data coming in from the MCP9808 temperature sensor. As strings in Micropython are UTF-8 encoded by default (like in Python 3), a _bytearray_ needs to be used to read the raw output from the MCP9808 chip registers. The command ```i2c.readfrom_mem_into()``` method brings in the data from the sensor and saves it to the ```byte_data``` variable. The arguments inside the ```i2c.readfrom_mem_into()``` method ```24``` and ```5``` correspond to the I2C memory address and registry address of the temperature data stored in the MCP9808 temperature sensor.   \n",
    "\n",
    "```text\n",
    ">>> import machine\n",
    ">>> i2c = machine.I2C(scl=machine.Pin(5), sda=machine.Pin(4))\n",
    ">>> byte_data = bytearray(2)\n",
    ">>> i2c.readfrom_mem_into(24, 5, byte_data)\n",
    ">>> value = byte_data[0] << 8 | byte_data[1]\n",
    ">>> temp = (value & 0xFFF) / 16.0\n",
    ">>> if value & 0x1000:\n",
    "...     temp -= 256.0\n",
    ".....   print(temp)\n",
    "```"
   ]
  },
  {
   "cell_type": "code",
   "execution_count": null,
   "metadata": {},
   "outputs": [],
   "source": []
  }
 ],
 "metadata": {
  "kernelspec": {
   "display_name": "Python 3",
   "language": "python",
   "name": "python3"
  },
  "language_info": {
   "codemirror_mode": {
    "name": "ipython",
    "version": 3
   },
   "file_extension": ".py",
   "mimetype": "text/x-python",
   "name": "python",
   "nbconvert_exporter": "python",
   "pygments_lexer": "ipython3",
   "version": "3.6.6"
  }
 },
 "nbformat": 4,
 "nbformat_minor": 2
}
