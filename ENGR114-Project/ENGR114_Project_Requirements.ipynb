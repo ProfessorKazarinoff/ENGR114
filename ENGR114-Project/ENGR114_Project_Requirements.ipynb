{
 "cells": [
  {
   "cell_type": "markdown",
   "metadata": {},
   "source": [
    "# Group Project Requirements"
   ]
  },
  {
   "cell_type": "markdown",
   "metadata": {},
   "source": [
    "## Background"
   ]
  },
  {
   "cell_type": "markdown",
   "metadata": {},
   "source": [
    "The Engineering Lab in AM103 has a set of computers with MATLAB installed and\n",
    "is a great place for students to go when working on homework, projects or studying. In the \n",
    "Engineering Lab there is also a hydroponic garden / fish tank installation. The fish produce \n",
    "nutrients for the plants and the plants clean the water for the fish. Water from the fish tank is \n",
    "pumped up to the plants. The plants and soil filter the water before it flows back down; clean and \n",
    "oxygenated into the tank. For this cycle to continue working, the fish tank needs a pump to move \n",
    "the water and the plants need a grow light for photosynthesis. Both of these are currently plugged \n",
    "into the wall and need to be turned on manually by a lab technician. A great system for fish and \n",
    "plants, but what a pain for the lab technician. And who is going to turn on the pump and grow light during weekends and breaks?"
   ]
  },
  {
   "cell_type": "markdown",
   "metadata": {},
   "source": [
    "![Hydroponic Garden and Fishtank](images/image1.jpg)"
   ]
  },
  {
   "cell_type": "markdown",
   "metadata": {},
   "source": [
    "Wouldn’t it be better if the system was smart and automated? Wouldn’t it be better if the the pump\n",
    "only turned on when it was needed and the light automatically turned on during daylight hours? One way to accomplish this is with programming!\n"
   ]
  },
  {
   "cell_type": "markdown",
   "metadata": {},
   "source": [
    "In order to make an automated system that can be monitored remotely, a couple of pieces of hardware\n",
    "is needed. One type of hardware needed are sensors. Sensors that can measure the temperature, pH \n",
    "and water depth in the fish tank could help determine when the pump needs to be turned on. A sensor \n",
    "that can measure light level could help determine when to turn on the grow light. The \n",
    "light and the pump need some additional hardware too. Both of these need to be connected to relays \n",
    "so that a small signal current can control the high current light and pump. These sensors and \n",
    "relays need to be connected to microcontrollers so that they con be integrated with a computer."
   ]
  },
  {
   "cell_type": "markdown",
   "metadata": {},
   "source": [
    "## Arduio IoT / MicroPython Project"
   ]
  },
  {
   "cell_type": "markdown",
   "metadata": {},
   "source": [
    "For this group project, your group will use Python to interact an Arduino (or use MicroPython on a different microcontroller) to dynamically collect sensor data or control a relay and post the data or relay state on ThingSpeak (an IoT cloud server). Each group will be tasked with reading or controlling one of the following: Light Sensor, pH Sensor, Fish Feeder motor, Light Relay or Pump Relay."
   ]
  },
  {
   "cell_type": "markdown",
   "metadata": {},
   "source": [
    "In order for your group to accomplish this task, your hardware will need to do a couple of things:"
   ]
  },
  {
   "cell_type": "markdown",
   "metadata": {},
   "source": [
    "1. The sensor, relay or motor needs to be mounted on or near the fish tank in order to record data or flip a switch\n",
    "2. An Arduino or a microcontroller with MicroPython connected to the sensor or relay either directly or through some other hardware on a breadboard will record the raw voltage value coming from the sensor and sent it to a laptop\n",
    "3. A laptop with Python installed, connected to the Arduino or microcontroller with a USB cable, will read in the sensor data and process it so that it can be sent to an IoT (Internet of Things) server.\n",
    "4. A wireless network is needed for the Laptop to connect to. PCC’s wireless network is available to all registered students.\n",
    "5. An account on ThinkSpeak.com (an IoT cloud server) where the sensor data or relay state will be stored"
   ]
  },
  {
   "cell_type": "markdown",
   "metadata": {},
   "source": [
    "\n",
    "To complete this group project, your group will need to complete a couple of tasks\n",
    "\n",
    "1. Prototype and build the hardware to connect the sensor, motor or relay to the Arduino or microcontroller. Take pictures of the setup and create a bill of materials, schematic and hookup guide.\n",
    "2. Write and modify the code run by the Arduino or microcontroller to read in the sensor voltage or push a signal out to the relay or motor. The Arduino or microcontroller must also pass the data to the laptop via the serial communication protocol or read commands coming from the computer over serial.\n",
    "3. Write and modify the code run by Python on the laptop to read in the raw data over serial from the Arduino or microcontroller. Python must also clean up and modify the data and send it up to ThingSpeak.com using a web API call and PCC’s wirelss network. If your group is working with a relay or motor, Python needs to read the relay or motor state stored in the cloud at ThingSpeak.com using the web API, clean up the incoming data on ThingSpeak.com and send a signal over serial to the Arduino or microcontroller.\n",
    "4. Document how all of the above was accomplished including a problem statement, hardware setup, Python code, Arduino or MicroPython code, future work and a license (to denote how the code can be modified and used later by other students)."
   ]
  },
  {
   "cell_type": "markdown",
   "metadata": {},
   "source": [
    "You will complete this project in a group.  Each group member will be primarily responsible for creating one of the following parts:\n",
    "\n",
    "#### Python Coder -  python_code.py\n",
    "Python code that connects to the Arduino or microcontroller using serial communication. The Python script needs to read in sensor data over serial or send characters over serial to the Arduino or microcontroller. The Python script also needs to either post the data to ThingSpeak.com using a web API call or read the desired relay or motor state from ThinkSpeak.com using a web API call. The Python code needs be documented and commented so that another group can recreate the project.\n",
    "\n",
    "#### Arduino or MicroPython Coder - Ardino_code.ino or micropython_code.py\n",
    "\n",
    "An Arduino sketch uploaded to the Arduino or MicroPython script uploaded to a microcontroller that records the sensor readings, flips a relay, or turns on a motor and sends data out over serial. The code does not need to be complex, Python on a laptop should do the heavy lifting. The code needs to documented and commented so that another group can recreate the project.\n",
    "\n",
    "#### Hardware Assembler -  hardware_setup.docx\n",
    "A word doc with a table containing the bill of materials, a schematic diagram (can use Fritzing) showing the hardware connected together, a hookup guide, and pictures of all the hardware connected together. Include enough detail that it is clear how the components are connected so that another group could recreate the project.\n",
    "\n",
    "#### Documentation Compiler - WriteUp.docx\n",
    "A word doc that contains a problem statement, hardware setup, the Python and Arduino (or MicroPython) code, a results plot of at least 100 sensor readings (or 20 relay flips, motor turns) from ThingSpeak, future work, and a license. Use the supplied template posted on D2L. This documentation needs to have enough detail and clarity so that another group can recreate the project."
   ]
  },
  {
   "cell_type": "markdown",
   "metadata": {},
   "source": [
    "### Your group will have to decide on a couple things:\n",
    "* Who is going to construct each part of the Proejct?\n",
    "* Who’s laptop computer will be running Python and connected to the Arduino or microcontroller?\n",
    "* How will your group share code, images and hardware?\n",
    "* Who will submit the four required files to D2L?\n",
    "* Is your group going to use Fritzing to build a schematic? (a little extra credit)\n",
    "* Is your group going to use Github.com to post your project? (a little extra credit)"
   ]
  },
  {
   "cell_type": "markdown",
   "metadata": {},
   "source": [
    "During finals week at the end of the quarter, your group will give a demonstration of your project in action. Your group will have 1 hour to set up before starting the demonstration. Group members must be present, ontime and contribute to recieve full credit for the demonstration. During the demonstration be prepared to show your project connected together and working action for a couple minutes. \n",
    "\n",
    "#### During the demonstration, be prepared to answer the following questions:\n",
    "\n",
    "* What is your problem statement? What was your group trying to accomplish?\n",
    "* How is your hardware connected together. What pieces of hardware talks to the others and how do they communicate?\n",
    "* What does the Arduino or MicroPython code do? (Don’t go line by line, but give the general idea of each section)\n",
    "* What does the Python code do? (Don’t go line by line, but give the general idea of each section)\n",
    "* What was the hardest part of this project? What do you wish you had known when the project started?\n",
    "* What future work could another student group do to build upon your project?"
   ]
  },
  {
   "cell_type": "markdown",
   "metadata": {},
   "source": [
    "Make sure your group's Python and MicroPython or Arduino code is well-commented and sectioned. Ensure the variable names are descriptive and there is enough documentation for another group of students to reuse the code without much trouble. Each Group's submissions for the lab should be done by one team member (only one person per group needs to submit, but they must submit all 4 files). \n",
    "\n",
    "#### Upload these files four files to the D2L Arduino IoT Project uploads folder.\n",
    "\n",
    "* python_code.py\n",
    "* Arduino_code.ino or micropython_code.py\n",
    "* hardware_setup.docx\n",
    "* WriteUp.docx"
   ]
  },
  {
   "cell_type": "code",
   "execution_count": null,
   "metadata": {},
   "outputs": [],
   "source": []
  }
 ],
 "metadata": {
  "kernelspec": {
   "display_name": "Python 3",
   "language": "python",
   "name": "python3"
  },
  "language_info": {
   "codemirror_mode": {
    "name": "ipython",
    "version": 3
   },
   "file_extension": ".py",
   "mimetype": "text/x-python",
   "name": "python",
   "nbconvert_exporter": "python",
   "pygments_lexer": "ipython3",
   "version": "3.6.4"
  }
 },
 "nbformat": 4,
 "nbformat_minor": 2
}
