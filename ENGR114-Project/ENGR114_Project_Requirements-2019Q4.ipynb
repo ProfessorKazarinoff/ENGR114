{
 "cells": [
  {
   "cell_type": "markdown",
   "metadata": {},
   "source": [
    "# Group Project Requirements"
   ]
  },
  {
   "cell_type": "markdown",
   "metadata": {},
   "source": [
    "## Background"
   ]
  },
  {
   "cell_type": "markdown",
   "metadata": {},
   "source": [
    "The Engineers solve the world's problems in teams. Often teams of Engineers include different types of Engineers working together. In this team project, you will be part of a group that solves an engineering problem with programming. Your project needs to including some sort of hardare (although there are a couple of exceptions) and some component of software. The hardware could be a sensor like a temperature, light, pressure, pH, turbidity, etc. Or the hardware could be an \"output\" like a motor, a servo, a light, a valve, a screen, etc.\n",
    "\n",
    "You can browse previous Group's Projects on GitHub.com at [https://github.com/ProfessorKazarinoff](https://github.com/ProfessorKazarinoff) Previous project have included:\n",
    "\n",
    " * A set of motorized gates that release cars down a ramp\n",
    " * A photograte timer that calculated the speed of toy cars\n",
    " * A pH meter that sent pH measurements up to a cloud server\n",
    " * A thermometer that recorded the temperature of a cup of coffee to a phone\n",
    " * A turbidity sensor that recorded the \"cloudiness\" of fish tank water\n",
    " * A light sensor and light switch that turned on lights when sunlight is detected\n",
    " * A motion sensor and light switch that turned on lights when motion was detected\n",
    " * A motion sensor and timer that timed a parachute drop\n",
    " * An actuator that released a parachute after a countdown\n",
    "\n",
    "Think of a community or class problem that needs to be solved with hardware and computer programming. "
   ]
  },
  {
   "cell_type": "markdown",
   "metadata": {},
   "source": [
    "## Circuit Python / Arduino / IoT Project"
   ]
  },
  {
   "cell_type": "markdown",
   "metadata": {},
   "source": [
    "For this group project, your group will use Python to interact with hardware. This hardware could be an Arduino or a Circuit Python or MicroPython based microcontroller. Your team will dynamically collect sensor data or control a relay, motor, or actuator."
   ]
  },
  {
   "cell_type": "markdown",
   "metadata": {},
   "source": [
    "In order for your group to accomplish this task, your hardware will need to do a couple of things:"
   ]
  },
  {
   "cell_type": "markdown",
   "metadata": {},
   "source": [
    "1. The sensor, relay, actuator or motor needs to be mechanically mounted\n",
    "2. An Arduino or a Circuit Python or MicroPython microcontroller connected to the hardware either directly or through some other hardware like a breadboard to a Laptop.\n",
    "3. A laptop with Python installed, connected to the Arduino or microcontroller with a USB cable, will read in the sensor data or actuate the motor or relay.\n",
    "4. A wireless network is needed for the Laptop to connect to. PCC’s wireless network is available to all registered students.\n",
    "5. An account on ThinkSpeak.com (an IoT cloud server) where the sensor data or relay state will be stored."
   ]
  },
  {
   "cell_type": "markdown",
   "metadata": {},
   "source": [
    "\n",
    "To complete this group project, your group will need to complete a couple of tasks\n",
    "\n",
    "1. Prototype and build the hardware to connect the sensor, motor or relay to the Arduino or microcontroller. Take pictures of the setup and create a bill of materials, schematic and hookup guide.\n",
    "2. Write and modify the code run by the Arduino or microcontroller to read in the sensor voltage or push a signal out to the relay or motor. The Arduino or microcontroller must also pass the data to the laptop via the serial communication protocol or read commands coming from the computer over serial.\n",
    "3. Write and modify the code run by Python on the laptop to read in the raw data over serial from the Arduino or microcontroller. Python must also clean up and modify the data and send it up to ThingSpeak.com using a web API call and PCC’s wirelss network. If your group is working with a relay or motor, Python needs to read the relay or motor state stored in the cloud at ThingSpeak.com using the web API, clean up the incoming data on ThingSpeak.com and send a signal over serial to the Arduino or microcontroller.\n",
    "4. Document how all of the above was accomplished including a problem statement, hardware setup, Python code, Arduino or MicroPython code, future work and a license (to denote how the code can be modified and used later by other students)."
   ]
  },
  {
   "cell_type": "markdown",
   "metadata": {},
   "source": [
    "You will complete this project in a group.  Each group member will be primarily responsible for creating one of the following parts:\n",
    "\n",
    "#### Python Coder -  python_code.py\n",
    "Python code that connects to the Arduino or microcontroller using serial communication. The Python script needs to read in sensor data over serial or send characters over serial to the Arduino or microcontroller. The Python script also needs to either post the data to ThingSpeak.com using a web API call or read the desired relay or motor state from ThinkSpeak.com using a web API call. The Python code needs be documented and commented so that another group can recreate the project.\n",
    "\n",
    "#### Arduino or MicroPython Coder - Ardino_code.ino or micropython_code.py\n",
    "\n",
    "An Arduino sketch uploaded to the Arduino or MicroPython script uploaded to a microcontroller that records the sensor readings, flips a relay, or turns on a motor and sends data out over serial. The code does not need to be complex, Python on a laptop should do the heavy lifting. The code needs to documented and commented so that another group can recreate the project.\n",
    "\n",
    "#### Hardware Assembler -  hardware_setup.docx\n",
    "A word doc with a table containing the bill of materials, a schematic diagram (can use Fritzing) showing the hardware connected together, a hookup guide, and pictures of all the hardware connected together. Include enough detail that it is clear how the components are connected so that another group could recreate the project.\n",
    "\n",
    "#### Documentation Compiler - WriteUp.docx\n",
    "A word doc that contains a problem statement, hardware setup, the Python and Arduino (or MicroPython) code, a results plot of at least 100 sensor readings (or 20 relay flips, motor turns) from ThingSpeak, future work, and a license. Use the supplied template posted on D2L. This documentation needs to have enough detail and clarity so that another group can recreate the project."
   ]
  },
  {
   "cell_type": "markdown",
   "metadata": {},
   "source": [
    "### Your group will have to decide on a couple things:\n",
    "* Who is going to construct each part of the Proejct?\n",
    "* Who’s laptop computer will be running Python and connected to the Arduino or microcontroller?\n",
    "* How will your group share code, images and hardware?\n",
    "* Who will submit the four required files to D2L?\n",
    "* Is your group going to use Fritzing to build a schematic? (a little extra credit)\n",
    "* Is your group going to use Github.com to post your project? (a little extra credit)"
   ]
  },
  {
   "cell_type": "markdown",
   "metadata": {},
   "source": [
    "During finals week at the end of the quarter, your group will give a demonstration of your project in action. Your group will have 1 hour to set up before starting the demonstration. Group members must be present, ontime and contribute to recieve full credit for the demonstration. During the demonstration be prepared to show your project connected together and working action for a couple minutes. \n",
    "\n",
    "#### During the demonstration, be prepared to answer the following questions:\n",
    "\n",
    "* What is your problem statement? What was your group trying to accomplish?\n",
    "* How is your hardware connected together. What pieces of hardware talks to the others and how do they communicate?\n",
    "* What does the Arduino or MicroPython code do? (Don’t go line by line, but give the general idea of each section)\n",
    "* What does the Python code do? (Don’t go line by line, but give the general idea of each section)\n",
    "* What was the hardest part of this project? What do you wish you had known when the project started?\n",
    "* What future work could another student group do to build upon your project?"
   ]
  },
  {
   "cell_type": "markdown",
   "metadata": {},
   "source": [
    "Make sure your group's Python and microcontroller code is well-commented and sectioned. Ensure the variable names are descriptive and there is enough documentation for another group of students to reuse the code without much trouble. Each Group's submissions for the lab should be done by one team member (only one person per group needs to submit, but they must submit all 4 files). \n",
    "\n",
    "#### Upload these files four files to the D2L Arduino IoT Project uploads folder.\n",
    "\n",
    "* python_code.py\n",
    "* Arduino_code.ino or micropython_code.py\n",
    "* hardware_setup.docx\n",
    "* WriteUp.docx"
   ]
  },
  {
   "cell_type": "code",
   "execution_count": null,
   "metadata": {},
   "outputs": [],
   "source": []
  }
 ],
 "metadata": {
  "kernelspec": {
   "display_name": "Python 3",
   "language": "python",
   "name": "python3"
  },
  "language_info": {
   "codemirror_mode": {
    "name": "ipython",
    "version": 3
   },
   "file_extension": ".py",
   "mimetype": "text/x-python",
   "name": "python",
   "nbconvert_exporter": "python",
   "pygments_lexer": "ipython3",
   "version": "3.7.0"
  }
 },
 "nbformat": 4,
 "nbformat_minor": 2
}
